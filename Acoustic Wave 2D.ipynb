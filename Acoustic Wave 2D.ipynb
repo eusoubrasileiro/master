{
 "cells": [
  {
   "cell_type": "markdown",
   "metadata": {},
   "source": [
    "## Equação de Onda Acústica 2D Formulação Diferenças Finitas Explícita NSG \n",
    "\n",
    "__________________\n",
    "\n",
    "$$ \\nabla^2 p -\\frac{1}{c²}\\frac{\\partial^2 p}{\\partial t^2} = -\\rho \\ s(t)  $$\n",
    "\n",
    "$$ \\frac{\\partial^2 p}{\\partial t^2} = c^2\\left(\\frac{\\partial^2 p}{\\partial x^2} + \\frac{\\partial^2 p}{\\partial z^2} \\right) +c^2\\rho \\ s(t) \\tag{1}$$\n",
    "\n",
    "Equação (1) pode ser aproximada por diferenças finitas. Considerando quarta-ordem no espaço (x e z), segunda ordem no tempo (t). Os indices correspondentes são i, k e n respectivamente. \n",
    "\n",
    "$$ \\frac{\\partial^2 p}{\\partial t^2} = \\frac{p_{ik}^{n+1}-2p_{ik}^n+p_{ik}^{n-1}}{\\Delta t^2}  $$\n",
    "\n",
    "para x ou z:\n",
    "\n",
    "$$ \\frac{\\partial^2 p}{\\partial x^2} = \\frac{-p_{i-2k}^n+16p_{i-1k}^n-30p_{ik}^n+16p_{i+1k}^n-p_{i+2k}^n}{12 \\Delta x^2}  $$\n",
    "\n",
    "\n",
    "Conectando das duas equações acima à (1), chegamos ao esquema de marcha abaixo:"
   ]
  },
  {
   "cell_type": "markdown",
   "metadata": {},
   "source": [
    "$$ \\frac{p_{ik}^{n+1}-2p_{ik}^n+p_{ik}^{n-1}}{\\Delta t^2} = c^2\\left(\n",
    "\\frac{-p_{i-2k}^n+16p_{i-1k}^n-30p_{ik}^n+16p_{i+1k}^n-p_{i+2k}^n}{12\\Delta x^2} +\n",
    "\\frac{-p_{ik-2}^n+16p_{ik-1}^n-30p_{ik}^n+16p_{ik+1}^n-p_{ik+2}^n}{12 \\Delta z^2}\n",
    " \\right) +c^2\\rho \\ s^n $$\n",
    " \n",
    "para $ \\Delta x = \\Delta z = \\Delta s$ em um grid com velocidade $c_{ik}$ e densidade $\\rho_{ik}$. Nos tempos n-1, n para calculo do tempo n+1.\n",
    "\n"
   ]
  },
  {
   "cell_type": "markdown",
   "metadata": {},
   "source": [
    "$$ p_{ik}^{n+1} = \\frac{\\Delta t^2c_{ik}^2}{12h^2} \\left( -p_{i-2k}^n+16p_{i-1k}^n+16p_{i+1k}^n-p_{i+2k}^n -p_{ik-2}^n+16p_{ik-1}^n+16p_{ik+1}^n-p_{ik+2}^n-60p_{ik}^n \\right) +\\Delta t^2 c_{ik}^2\\rho \\ s_{ik}^n +2p_{ik}^n-p_{ik}^{n-1}  $$"
   ]
  },
  {
   "cell_type": "markdown",
   "metadata": {},
   "source": [
    "com $ \\beta_h = \\frac{\\Delta t^2}{12h^2} $ e $ \\rho = 1 $"
   ]
  },
  {
   "cell_type": "markdown",
   "metadata": {},
   "source": [
    "$$ p_{ik}^{n+1} = \\beta c_{ik}^2 \\left[ -p_{i-2k}^n+16p_{i-1k}^n+16p_{i+1k}^n-p_{i+2k}^n -p_{ik-2}^n+16p_{ik-1}^n+16p_{ik+1}^n-p_{ik+2}^n-60p_{ik}^n \\right] +\\Delta t^2 c_{ik}^2 \\ s_{ik}^n +2p_{ik}^n-p_{ik}^{n-1} \\tag{2} $$"
   ]
  },
  {
   "cell_type": "markdown",
   "metadata": {},
   "source": [
    "A equação (2) pode ser escrita como uma convolução notar:\n",
    "\n",
    "$$ p_{ik}^{n+1} = \\beta c_{ik}^2 p_{ik}^n  \\circledast  \n",
    "\\begin{bmatrix} \n",
    "0 & 0 & -1 & 0 & 0\\\\\n",
    "0 & 0 & 16 & 0 & 0\\\\\n",
    "-1 & 16 & -60 & 16 & -1\\\\\n",
    "0 & 0 & 16 & 0 & 0\\\\\n",
    "0 & 0 & -1 & 0 & 0\\\\\n",
    "\\end{bmatrix}\n",
    "+2p_{ik}^n-p_{ik}^{n-1} +\\Delta t^2 c_{ik}^2 \\ s_{ik}^n  $$\n",
    "\n"
   ]
  },
  {
   "cell_type": "markdown",
   "metadata": {},
   "source": [
    "A convolução deve ser somente para região de \"sobreposição\" (overlap) completo  `(numpy 'valid' mode)`"
   ]
  },
  {
   "cell_type": "markdown",
   "metadata": {},
   "source": [
    "Uma maneira mais elegante ainda e mais eficiente é separar em duas convoluções unidimensionais nos respectivos eixos. Notar os equivalentes  $ \\beta_x = \\frac{\\Delta t^2}{12\\Delta x^2} $ e $ \\beta_z = \\frac{\\Delta t^2}{12\\Delta z^2} $\n",
    "\n",
    "$$ p_{ik}^{n+1} = \\beta_z c_{ik}^2 p_{ik}^n  \\circledast  \n",
    "\\begin{bmatrix} \n",
    "-1\\\\\n",
    "16\\\\\n",
    "-30\\\\\n",
    "16\\\\\n",
    "-1 \\\\\n",
    "\\end{bmatrix} \n",
    "+\n",
    "\\beta_x c_{ik}^2 p_{ik}^n  \\circledast  [-1, 16, -30, 16, -1]   \n",
    "+2p_{ik}^n-p_{ik}^{n-1} +\\Delta t^2 c_{ik}^2 \\ s_{ik}^n $$\n"
   ]
  },
  {
   "cell_type": "markdown",
   "metadata": {},
   "source": [
    "Para uma fonte sísmica fase zero pode se utilizar uma Ricker com frequência central $f$:\n",
    " \n",
    " \n",
    "$$ s(t) = A(1 - 2 \\pi^2 f^2 t^2)exp(-\\pi^2 f^2 t^2) \\tag{3} $$"
   ]
  },
  {
   "cell_type": "markdown",
   "metadata": {},
   "source": [
    "### Considerações para implementação:"
   ]
  },
  {
   "cell_type": "markdown",
   "metadata": {},
   "source": [
    "Para garantir um espectro limitado com frequência máxima $f_{cut}$ (99.7 da amplitude) a $f$ central pode ser definida como:\n",
    "\n",
    "$$        f = \\frac{2f_{cut}}{3\\sqrt{\\pi}} $$"
   ]
  },
  {
   "cell_type": "markdown",
   "metadata": {},
   "source": [
    "Para evitar criação de descontinuídades no tempo $t_0$ (e séria dispersão númerica!) é necessário aplicar a fonte $s(t)$ como uma fonte causal. Para isso a partir da frequência central $f$ aplica-se um delay em $t = t - t_d  $ baseado no perído da frequência dominante. "
   ]
  },
  {
   "cell_type": "markdown",
   "metadata": {},
   "source": [
    "\n",
    "$$ t_d = \\frac{1}{f} $$\n",
    "\n",
    "Leandro era $ t_d = \\frac{2\\sqrt{\\pi}}{f} $"
   ]
  },
  {
   "cell_type": "markdown",
   "metadata": {},
   "source": [
    "Para evitar dispersão numérica espacial é necessário que o grid seja capaz de amostrar o menor comprimento de onda sem falseamento. O menor comprimento de onda é dado por:  \n",
    "\n",
    "$$ v = \\lambda f \\implies   \\lambda = \\frac{v}{f}  \\implies \\lambda_{min} = \\frac{min ( c_{ik})}{max(f)} \\implies \\lambda_{min} = \\frac{min ( c_{ik})}{f_{cut}} \\tag{4} $$"
   ]
  },
  {
   "cell_type": "markdown",
   "metadata": {},
   "source": [
    "Considerando um espaçamento entre os pontos do grid de $\\Delta s$.\n",
    "Tem-se que o maior comprimento de onda espacial amostrado sem falseamento é definido por Nyquest:    \n",
    "    \n",
    "$$ K_{Nyquest} = \\frac{1}{2\\Delta s} $$\n",
    "\n",
    "Assim no grid:\n",
    "\n",
    "$$ K_{\\lambda_{min}} \\lt K_{Nyquest} \\implies  \\frac{1}{\\lambda_{min}}  \\lt \\frac{1}{2\\Delta s}  $$\n",
    "\n",
    "$$ \\Delta s  \\lt \\frac{1}{2} \\lambda_{min} $$ \n"
   ]
  },
  {
   "cell_type": "markdown",
   "metadata": {},
   "source": [
    "**From Alford 1974**  \n",
    "Na prática é necessário valores bem menores de $\\Delta s$ ??? (R.M, Alford. 1974), define-se o número mínimo de pontos para representar o menor comprimento de onda . Nota para discutir Alford. não usa $f_{cut}$ usa uma frequẽncia que ainda está bem longe da $f_{cut}$ de sua fonte !!? \n",
    "\n",
    "1. Segunda ordem espacial \n",
    "$$ \\Delta s \\lt \\frac{\\lambda_{min}}{10} $$\n",
    "2. Quarta ordem espacial \n",
    "$$ \\Delta s \\lt \\frac{\\lambda_{min}}{5} \\tag{5}$$"
   ]
  },
  {
   "cell_type": "markdown",
   "metadata": {},
   "source": [
    "Finalmente para garantir que o erro entre os passos em tempo não cresça exponencial a analise de Von Newman define para um esquema de **4 ordem no espaço e segunda ordem no tempo** (Chen, Jing-Bo 2011):\n",
    "\n",
    "$$\n",
    "     \\Delta t \\leq \\frac{2 \\Delta s}{ V \\sqrt{\\sum_{a=-N}^{N} (|w_a^1| + |w_a^2|)}} \\leq \\frac{ \\Delta s \\sqrt{3}}{ c_{max} \\sqrt{8}} \\tag{6}\n",
    "$$\n",
    "\n",
    "Onde $w_a$ são os pesos das diferenças finitas.\n",
    "\n",
    "Uma nota final Alford mostra que $\\Delta t$ quanto mais próximo do limite de estabilidade numérica menor é o erro da solução (dispersão numérica).\n",
    "\n",
    "Referencias:  \n",
    "1. Alford R.M., Kelly K.R., Boore D.M. (1974) Accuracy of\n",
    "finite-difference modeling of the acoustic wave equation\n",
    "Geophysics, 39 (6), P. 834-842  \n",
    "2. Chen, Jing-Bo (2011) A stability formula for Lax-Wendroff methods\n",
    "with fourth-order in time and general-order in space for\n",
    "the scalar wave equation Geophysics, v. 76, p. T37-T42\n",
    "Convergence  "
   ]
  },
  {
   "cell_type": "markdown",
   "metadata": {},
   "source": [
    "Leandro critério de tempo $ \\Delta t \\lt \\frac{ \\Delta s }{  4 c_{max}} $"
   ]
  },
  {
   "cell_type": "markdown",
   "metadata": {},
   "source": [
    "### Condições de Contorno Absorção\n",
    "\n",
    "1. Equação one way 1D:\n",
    "\n",
    "$$ \\frac{d}{dx_i} \\pm \\frac{1}{c} \\frac{\\partial}{\\partial t} = 0 $$\n"
   ]
  },
  {
   "cell_type": "markdown",
   "metadata": {},
   "source": [
    "## Implementação"
   ]
  },
  {
   "cell_type": "code",
   "execution_count": null,
   "metadata": {},
   "outputs": [],
   "source": [
    "%matplotlib inline\n",
    "from matplotlib import pyplot as plt\n",
    "import numpy as np"
   ]
  },
  {
   "cell_type": "code",
   "execution_count": null,
   "metadata": {},
   "outputs": [],
   "source": [
    "%load_ext Cython"
   ]
  },
  {
   "cell_type": "code",
   "execution_count": null,
   "metadata": {},
   "outputs": [],
   "source": [
    "%%cython\n",
    "\n",
    "cimport cython\n",
    "import numpy as np\n",
    "from cython.parallel cimport prange\n",
    "\n",
    "@cython.boundscheck(False)\n",
    "@cython.wraparound(False)\n",
    "def stepScalar(double[:,::1] u_tp1, double[:,::1] u_t, double[:,::1] u_tm1, \n",
    "                int x1, int x2, int z1, int z2, double dt, double ds, double[:,::1] vel):\n",
    "    \"\"\"\n",
    "    Perform a single time step in the Finite Difference solution for scalar\n",
    "    waves 4th order in space\n",
    "    \"\"\"\n",
    "    cdef int i, j\n",
    "    cdef double cds = (dt/ds)**2\n",
    "\n",
    "    with nogil:\n",
    "        for i in prange(z1, z2):\n",
    "            for j in xrange(x1, x2):\n",
    "                u_tp1[i,j] = (2.*u_t[i,j] - u_tm1[i,j]\n",
    "                    + (vel[i,j]**2)*(\n",
    "                        cds*(-u_t[i,j + 2] + 16.*u_t[i,j + 1] - 30.*u_t[i,j] +\n",
    "                        16.*u_t[i,j - 1] - u_t[i,j - 2])/12. +\n",
    "                        cds*(-u_t[i + 2,j] + 16.*u_t[i + 1,j] - 30.*u_t[i,j] +\n",
    "                        16.*u_t[i - 1,j] - u_t[i - 2,j])/12.))    "
   ]
  },
  {
   "cell_type": "code",
   "execution_count": null,
   "metadata": {},
   "outputs": [],
   "source": [
    "%%time\n",
    "\n",
    "from scipy.signal import fftconvolve\n",
    "\n",
    "def ricker(t, td, f):\n",
    "    \"\"\"amplitude unitária\"\"\"\n",
    "    t = (t - td)\n",
    "    aux = (1 - 2*(np.pi*f*t)**2)\n",
    "    return aux*np.exp(-(np.pi*f*t)**2)\n",
    "\n",
    "def params(fcut, c):\n",
    "    \"\"\"\n",
    "    A partir da frequencia máxima na fonte `fcut` e do \n",
    "    campo de velocidades `c` calcula:\n",
    "    ds, f central, t delay, dt time step\n",
    "    \"\"\"    \n",
    "    # fcut máxima frequência na fonte\n",
    "    f = 2*fcut/(3*np.sqrt(np.pi)) # f central\n",
    "    td = 1./f # time delay    \n",
    "    lmin = np.min(c)/fcut # lambda min\n",
    "    ds = lmin/4. # espaçamento grid evitar alias espacial \"na lata\"\n",
    "    dt = (1-1e-4)*ds*np.sqrt(3)/(np.sqrt(8)*np.max(c))  # \"quaaase\" no limite (menor erro)\n",
    "    return ds, f, td, dt\n",
    "\n",
    "N = 100 # grid dimensao\n",
    "N += 2*2 # segunda ordem no espaço stencial requer +2+2 pontos cada dimensao\n",
    "\n",
    "c = np.ones((N, N), dtype=np.float)*1500. # àgua\n",
    "# campos de pressao em n e n+1 ou n-1\n",
    "p = np.zeros((2, N, N), dtype=np.float) # n e n+1 ou n-1\n",
    "\n",
    "# parametros da simulacao fonte de 20 Hz no máxxximoo...\n",
    "ds, f, td, dt = params(30., c)\n",
    "# numero de iteracoes a partir de duracao da simulacao\n",
    "duracao = .800 # segundo\n",
    "nt = int(duracao/dt)\n",
    "\n",
    "# posicao fonte\n",
    "si, sk = 50, 10\n",
    "kernel = np.array([[ 0,  0,  -1,  0,  0],\n",
    "                   [ 0,  0,  16,  0,  0], \n",
    "                   [-1, 16, -60, 16, -1],\n",
    "                   [ 0,  0,  16,  0,  0],\n",
    "                   [ 0,  0,  -1,  0,  0]]) # diferenciador convolucional  \n",
    "\n",
    "# simplicar contas loop\n",
    "beta = dt/ds\n",
    "\n",
    "snaps = []\n",
    "for i in range(nt):\n",
    "    # para evitar um painel a mais : pilha de paineis \n",
    "    t, tm1 = i%2, (i+1)%2\n",
    "    tp1 = tm1    \n",
    "    p[tp1, 2:-2, 2:-2] = ((1./12.)*(beta*c[2:-2,2:-2])**2*fftconvolve(kernel, p[t], mode='valid')\n",
    "                          +2*p[t, 2:-2, 2:-2] - p[tm1, 2:-2, 2:-2])     \n",
    "#     stepScalar(p[tp1], p[t], p[tm1], 2, N-2, 2, N-2, dt, ds, c)\n",
    "    p[tp1, 2+sk, 2+si] -= ((c[2+sk, 2+si]*dt)**2)*ricker(i*dt, td, f)\n",
    "    \n",
    "    if i%1==0:\n",
    "        snaps.append(p[t].copy())   \n",
    "        \n",
    "        \n",
    "print('Ds: ', ds, 'f. central :', f, 'delay : ', td, 'dt: ',  dt, ' nt: ', nt)"
   ]
  },
  {
   "cell_type": "code",
   "execution_count": null,
   "metadata": {},
   "outputs": [],
   "source": [
    "import matplotlib\n",
    "import matplotlib.animation"
   ]
  },
  {
   "cell_type": "code",
   "execution_count": null,
   "metadata": {},
   "outputs": [],
   "source": [
    "snaps = np.array(snaps)\n",
    "pmin = np.percentile(snaps, [1])\n",
    "ext = [0, N*ds, N*ds, 0]\n",
    "\n",
    "fig = plt.figure(figsize=(7,7))\n",
    "im = plt.imshow(snaps[0,:,:], cmap='gray', interpolation='nearest', vmin=-pmin, vmax=pmin, extent=ext)\n",
    "plt.colorbar(im,  shrink=0.7, pad = 0.07, label=u'amplitude')\n",
    "plt.xlabel('x (m)')\n",
    "plt.ylabel('z (m)')\n",
    "title = plt.title(u'Campo de Pressão')\n",
    "#sns.despine()\n",
    "plt.tight_layout()\n",
    "plt.close()\n",
    "\n",
    "def animate(i):\n",
    "    im.set_data(snaps[i, :,:])\n",
    "    #title.set_text(u'Temperatura da chapa - %.2f' % (snaps[i] * dt))\n",
    "\n",
    "ani = matplotlib.animation.FuncAnimation(fig, animate, frames=snaps.shape[0])\n",
    "\n",
    "from IPython.display import HTML\n",
    "HTML(ani.to_jshtml())"
   ]
  },
  {
   "cell_type": "code",
   "execution_count": null,
   "metadata": {},
   "outputs": [],
   "source": [
    "plt.plot(ricker(np.arange(nt)*dt, td, f))"
   ]
  },
  {
   "cell_type": "code",
   "execution_count": null,
   "metadata": {},
   "outputs": [],
   "source": [
    "plt.plot(snaps[:, 50, 50])"
   ]
  },
  {
   "cell_type": "code",
   "execution_count": null,
   "metadata": {},
   "outputs": [],
   "source": [
    "def _timestep(self, u, tm1, t, tp1, iteration):\n",
    "    \"\"\"\n",
    "    Performs a single step on time (finite differences solution)\n",
    "    (only called by run)\n",
    "    Parameters:\n",
    "    * u: 3D array\n",
    "        two 2D simulation panels shape (2, nz+pad, nx+2pad)\n",
    "    * tm1: int\n",
    "        panel index (t minus 1)\n",
    "        (to avoid copying between 2D arrays)\n",
    "    * t: int\n",
    "        panel index (t)\n",
    "        (to avoid copying between 2D arrays)\n",
    "    * tp1: int\n",
    "        panel index (t plus 1)\n",
    "        (to avoid copying between 2D arrays)\n",
    "    * iteration: int\n",
    "        iteration time step of this simulation\n",
    "    \"\"\"\n",
    "\n",
    "    nz, nx = self.shape\n",
    "    # due dump regions\n",
    "    nz += self.padding\n",
    "    nx += self.padding*2\n",
    "    # apply reynolds 1D for 4th order space 2nd time\n",
    "    _nonreflexive_scalar_boundary_conditions(\n",
    "        u[tp1], u[t], u[tm1], self.velocity, self.dt, self.dx,\n",
    "        self.dz, nx, nz)\n",
    "    # Damp the regions in the padding to make waves go to infinity\n",
    "    # apply dumping in everything to be consistent with\n",
    "    # nonreflexive boundary conditions\n",
    "    _apply_damping(u[tm1], nx, nz, self.padding, self.taper)\n",
    "    _apply_damping(u[t], nx, nz, self.padding, self.taper)\n",
    "    # finally make the step\n",
    "\n",
    "    for pos, src in self.sources:\n",
    "        j, i = pos\n",
    "        u[tp1, i, j + self.padding] += src(iteration*self.dt)"
   ]
  },
  {
   "cell_type": "code",
   "execution_count": null,
   "metadata": {},
   "outputs": [],
   "source": [
    "%cython \n",
    "\n",
    "@cython.boundscheck(False)\n",
    "@cython.wraparound(False)\n",
    "def _nonreflexive_scalar_boundary_conditions(\n",
    "    double[:,::1] u_tp1 not None,\n",
    "    double[:,::1] u_t not None,\n",
    "    double[:,::1] u_tm1 not None,\n",
    "    double[:,::1] vel not None,\n",
    "    double dt, double dx, double dz,\n",
    "    unsigned int nx, unsigned int nz):\n",
    "    \"\"\"\n",
    "    Apply the boundary conditions: free-surface at top, transparent in the borders\n",
    "    4th order (+2-2) indexes\n",
    "    Uses Reynolds, A. C. - Boundary conditions for numerical solution of wave propagation problems\n",
    "    Geophysics p 1099-1110 - 1978\n",
    "    The finite difference approximation used by Reynolds for the transparent boundary condition is of first\n",
    "    order, though the scalar schema of propagation is of fourth order in space\n",
    "    \"\"\"\n",
    "    cdef unsigned int i\n",
    "\n",
    "    # To make reynolds (2nd order space) work for 4th order in space\n",
    "    # With just 2 panels (t and tm1) where tm1 becomes tp1\n",
    "    # We apply 1D reynolds at -2/-1 and +2/+1 respectively and it works\n",
    "    # it just works like bellow. I don´t know why though.\n",
    "    # The the last valid cells are at x [2, nx-3] z [0, nz-3].\n",
    "    # we always apply outside like instructed by Reynolds.\n",
    "    # Also you must use absorbing boundary before step_scalar in the loop\n",
    "\n",
    "    for i in range(nz):\n",
    "        # left\n",
    "        for p in range(2):\n",
    "                u_tp1[i, p] = ( u_t[i, p] + u_t[i, p+1] - u_tm1[i,p+1] +\n",
    "                (vel[i, p]*dt/dx)*(u_t[i, p+1] - u_t[i, p] - u_tm1[i, p+2] + u_tm1[i, p+1])\n",
    "                )\n",
    "        #right\n",
    "        for p in range(2):\n",
    "            p = 1-p            \n",
    "            u_tp1[i, nx-2+p] = ( u_t[i, nx-2+p] + u_t[i, nx-3+p] - u_tm1[i, nx-3+p] -\n",
    "                (vel[i, nx-2+p]*dt/dx)*(u_t[i, nx-2+p] - u_t[i, nx-3+p] - u_tm1[i, nx-3+p] + u_tm1[i, nx-4+p])\n",
    "                )\n",
    "    # Down\n",
    "    for i in range(nx):\n",
    "        for p in range(2):\n",
    "            p = 1-p\n",
    "            u_tp1[nz-2+p, i] = ( u_t[nz-2+p, i] + u_t[nz-3+p, i] - u_tm1[nz-3+p, i] -\n",
    "                    (vel[nz-2+p, i]*dt/dz)*(u_t[nz-2+p, i] - u_t[nz-3+p, i] - u_tm1[nz-3+p, i] + u_tm1[nz-4+p, i])\n",
    "                    )"
   ]
  },
  {
   "cell_type": "code",
   "execution_count": null,
   "metadata": {},
   "outputs": [],
   "source": [
    "%%cython\n",
    "\n",
    "cimport cython\n",
    "from libc.math cimport exp, sqrt\n",
    "\n",
    "@cython.boundscheck(False)\n",
    "@cython.wraparound(False)\n",
    "def _apply_damping(double[:,::1] array not None,\n",
    "    unsigned int nx, unsigned int nz, unsigned int pad, double decay):\n",
    "    \"\"\"\n",
    "    Apply a decay factor to the values of the array in the padding region.\n",
    "    \"\"\"\n",
    "    cdef:\n",
    "        unsigned int i, j\n",
    "    # Damping on the left\n",
    "    for i in range(nz):\n",
    "        for j in range(pad):\n",
    "            array[i,j] *= exp(-((decay*(pad - j))**2))\n",
    "    # Damping on the right\n",
    "    for i in range(nz):\n",
    "        for j in range(nx - pad, nx):\n",
    "            array[i,j] *= exp(-((decay*(j - nx + pad))**2))\n",
    "    # Damping on the bottom\n",
    "    for i in range(nz - pad, nz):\n",
    "        for j in range(nx):\n",
    "            array[i,j] *= exp(-((decay*(i - nz + pad))**2))"
   ]
  }
 ],
 "metadata": {
  "kernelspec": {
   "display_name": "Python 3",
   "language": "python",
   "name": "python3"
  },
  "language_info": {
   "codemirror_mode": {
    "name": "ipython",
    "version": 3
   },
   "file_extension": ".py",
   "mimetype": "text/x-python",
   "name": "python",
   "nbconvert_exporter": "python",
   "pygments_lexer": "ipython3",
   "version": "3.6.5"
  }
 },
 "nbformat": 4,
 "nbformat_minor": 2
}
