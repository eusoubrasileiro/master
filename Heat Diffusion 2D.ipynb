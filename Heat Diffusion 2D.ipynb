{
 "cells": [
  {
   "cell_type": "markdown",
   "metadata": {},
   "source": [
    "## Regime Transiente 2D Difusão de Calor\n",
    "\n",
    "Equação 2D:\n",
    "\n",
    "$$\\frac{\\partial^2 T}{\\partial^2 x}  + \\frac{\\partial^2 T}{\\partial^2 y} = \\alpha^2 \\frac{\\partial T}{\\partial t}  \\tag{1}$$\n",
    "\n",
    "Onde difusividade térmica é:\n",
    "\n",
    "$$ \\alpha^2 = \\frac{k}{\\rho c} $$ em $ \\frac{m^2}{s} $\n",
    "\n",
    "Em um grid regular, utilizando discretização em diferenças finitas usando diferenças centradas para o espaço:\n",
    "\n",
    "O indice de tempo é **n** e indice do eixo x é **i** e no eixo y é **j**.  \n",
    "\n",
    "$$\n",
    "\\frac{\\partial^2 T^n_{ij}}{\\partial^2 x}  = \\frac{T_{i+1j}^n-2T_{ij}^n+T_{i-1j}^n}{\\Delta x^2}  \n",
    "\\tag{2}\n",
    "$$\n",
    "\n",
    "$$\n",
    "\\frac{\\partial^2 T^n_{ij}}{\\partial^2 y}  = \\frac{T_{ij+1}^n-2T_{ij}^n+T_{ij-1}^n}{\\Delta y^2}  \n",
    "\\tag{3}\n",
    "$$\n",
    "\n",
    "e diferença progressiva para o tempo nos indices de tempo **n** e **n+1** (\"futuro\"):\n",
    "\n",
    "$$ \\frac{\\partial T_{ij}^n}{\\partial t} = \\frac{T_{ij}^{n+1}-T_{ij}^n}{\\Delta t} \\tag{4} $$\n",
    "\n",
    "\n",
    "\n",
    "\n"
   ]
  },
  {
   "cell_type": "markdown",
   "metadata": {},
   "source": [
    "Combinando as equações (2), (3) e (4) chegamos em um esquema de \"marcha\" em (5).  \n",
    "Onde os valores **n+1** (\"futuro\") podem ser calculados a partir dos valores em **n**: \n",
    "\n",
    "$$ \\frac{T_{ij}^{n+1}-T_{ij}^n}{\\Delta t} \\alpha^2  = \\frac{T_{i+1j}^n-2T_{ij}^n+T_{i-1j}^n}{\\Delta x^2} + \\frac{T_{ij+1}^n-2T_{ij}^n+T_{ij-1}^n}{\\Delta y^2}$$\n"
   ]
  },
  {
   "cell_type": "markdown",
   "metadata": {},
   "source": [
    "Considerando $\\Delta x = \\Delta y = \\Delta s$"
   ]
  },
  {
   "cell_type": "markdown",
   "metadata": {},
   "source": [
    "$$ T_{ij}^{n+1} = \\frac{1}{\\alpha^2 } \\frac{\\Delta t}{\\Delta s^2}\\left(T_{i+1j}^n-2T_{ij}^n+T_{i-1j}^n+T_{ij+1}^n-2T_{ij}^n+T_{ij-1}^n\\right)  + T_{ij}^n $$\n",
    "\n",
    "$$ T_{ij}^{n+1} = \\lambda \\left(T_{i+1j}^n+T_{i-1j}^n+T_{ij+1}^n+T_{ij-1}^n-4T_{ij}^n\\right)  + T_{ij}^n \\tag{5}$$\n",
    "\n",
    "onde:\n",
    "\n",
    "$$ \\lambda = \\frac{1}{\\alpha^2 } \\frac{\\Delta t}{\\Delta s^2} \\tag{6} $$ \n",
    "\n",
    "Para garantir estabilidade numérica do esquema conforme orientação $\\lambda \\leq 2$"
   ]
  },
  {
   "cell_type": "markdown",
   "metadata": {},
   "source": [
    "A equação (5) pode ser escrita como uma convolução. \n",
    "Sendo o operador de diferenciação na direção x e y substituido pelo kernel : \n",
    "\n",
    "$$\n",
    "\\begin{vmatrix} \n",
    "0 & 1 & 0 \\\\\n",
    "1 & -4 & 1 \\\\\n",
    "0 & 1 & 0 \n",
    "\\end{vmatrix}\n",
    "$$\n",
    "\n",
    "$$\n",
    "T_{ij}^{n+1} = \\lambda \\ \\ T_{ij}^n  \\circledast \n",
    "\\begin{vmatrix} \n",
    "0 & 1 & 0 \\\\\n",
    "1 & -4 & 1 \\\\\n",
    "0 & 1 & 0 \n",
    "\\end{vmatrix} \n",
    " + T_{ij}^n \n",
    "$$\n",
    "\n",
    "  \n",
    "Nota .: A convolução deve ser somente para região de \"sobreposição\" (overlap) completo. (numpy 'valid' mode)"
   ]
  },
  {
   "cell_type": "markdown",
   "metadata": {},
   "source": [
    "### Condições de contorno da direção y topo e base\n",
    "Não foram especificadas no enunciado do exerício assim assumindo como = 0."
   ]
  },
  {
   "cell_type": "code",
   "execution_count": 4,
   "metadata": {
    "scrolled": true
   },
   "outputs": [],
   "source": [
    "import numpy as np\n",
    "from scipy.signal import fftconvolve\n",
    "\n",
    "def rodarSimulacao(N, duracao, save=10, lmbda=0.04175):\n",
    "    \"\"\"\n",
    "    * N : numero de pontos discretização em x e y\n",
    "    * duracao : em segundos da simulacao da difusao\n",
    "    * lmbda : lambda predefido para garantir estabilidade numérica \n",
    "    igual à 0.04175 baseado no item 1\n",
    "    * save : numero de 'snapshots' para salvar  \n",
    "    \n",
    "    O numero de iteracoes é calculado baseado na duracao\n",
    "    \"\"\"\n",
    "    k = 0.835 #K alumínio = 1/alfa^2\n",
    "    ds = 10./(N-1) # 10 cm / N-1 pontos discretização espaço \n",
    "    dt = (ds**2*lmbda)/k # discretização tempo garantindo lambda igual à 0.04175\n",
    "    lmbda = (k*dt)/ds \n",
    "    # \"paineis\" com temperatura da placa em tn e tn+1 (derivada primeira 1 painel necessario)\n",
    "    tplaca = np.zeros((N, N)) # temperatura da placa em tn e tn+1 : \n",
    "    # condições de contorno iniciais no tempo 0 \n",
    "    # extremidades da placa \n",
    "    tplaca[:,  0] = 100. # esquerda \n",
    "    tplaca[:, -1] = 50. # direita\n",
    "    # topo e base da placa assumindo temperatura = 0\n",
    "    kernel = np.array([[0, 1, 0],[1, -4, 1],[0, 1, 0]]) # diferenciador convolucional    \n",
    "    niter = int(duracao/dt) # numero de iteracoes necessarias para essa duracao\n",
    "    nsave = int(niter/save) # step de iteracoes para salvar 'snapshot'\n",
    "    snapshots = np.zeros((save+1, N, N)) # 'filme' das iteracoes\n",
    "    isnap = 0 # indice para salvar 'snapshots' das iteracoes        \n",
    "    \n",
    "    for n in range(niter): # marcha\n",
    "        # calcula tn+1 em funcao de f(tn) \n",
    "        tplaca[1:-1, 1:-1] = lmbda*(fftconvolve(kernel, tplaca, mode='valid')) + tplaca[1:-1, 1:-1] \n",
    "        if n%nsave==0:\n",
    "            snapshots[isnap] = tplaca\n",
    "            isnap += 1 # p/ próximo 'frame' do 'filme'\n",
    "\n",
    "    # imprime um resumo de alguns parâmetros\n",
    "    print('Dt: {:.3g} numero de Iteracoes: {:5d} '.format(dt, niter))\n",
    "    \n",
    "    # salva o último\n",
    "    snapshots[-1] = tplaca\n",
    "    # retorna o 'filme' de snapshots, e o intervalo em x    \n",
    "    return snapshots, ds"
   ]
  },
  {
   "cell_type": "code",
   "execution_count": 5,
   "metadata": {},
   "outputs": [],
   "source": [
    "%matplotlib inline\n",
    "from matplotlib import pyplot as plt"
   ]
  },
  {
   "cell_type": "markdown",
   "metadata": {},
   "source": [
    "Snapshots posição y=3"
   ]
  },
  {
   "cell_type": "code",
   "execution_count": 15,
   "metadata": {},
   "outputs": [
    {
     "name": "stdout",
     "output_type": "stream",
     "text": [
      "Dt: 0.0005 numero de Iteracoes: 19999 \n"
     ]
    }
   ],
   "source": [
    "snapshots, dx = rodarSimulacao(101, 10., save=10)"
   ]
  },
  {
   "cell_type": "code",
   "execution_count": 16,
   "metadata": {},
   "outputs": [
    {
     "data": {
      "text/plain": [
       "<matplotlib.image.AxesImage at 0x7fbc22452ac8>"
      ]
     },
     "execution_count": 16,
     "metadata": {},
     "output_type": "execute_result"
    },
    {
     "data": {
      "image/png": "[encoded data removed]",
      "text/plain": [
       "<Figure size 432x288 with 1 Axes>"
      ]
     },
     "metadata": {},
     "output_type": "display_data"
    }
   ],
   "source": [
    "plt.imshow(snapshots[7,:])"
   ]
  },
  {
   "cell_type": "code",
   "execution_count": 17,
   "metadata": {},
   "outputs": [
    {
     "name": "stderr",
     "output_type": "stream",
     "text": [
      "No handles with labels found to put in legend.\n"
     ]
    },
    {
     "name": "stdout",
     "output_type": "stream",
     "text": [
      "Dt: 0.0005 numero de Iteracoes: 19999 \n"
     ]
    },
    {
     "data": {
      "text/plain": [
       "<matplotlib.legend.Legend at 0x7fbc2247d128>"
      ]
     },
     "execution_count": 17,
     "metadata": {},
     "output_type": "execute_result"
    },
    {
     "data": {
      "image/png": "[encoded data removed]",
      "text/plain": [
       "<Figure size 720x288 with 1 Axes>"
      ]
     },
     "metadata": {},
     "output_type": "display_data"
    }
   ],
   "source": [
    "# solucao para 300 segundos de difusao, 101 pontos e 5 snapshots\n",
    "snapshots, dx = rodarSimulacao(101, 10., save=10)\n",
    "# tamanho da figura dimensões em polegadas\n",
    "plt.figure(figsize=(10,4))\n",
    "# a cada algumas iterações plota a temperatura da barra\n",
    "# posição y = 3\n",
    "plt.plot(np.arange(101)*dx, snapshots[:,3,:].T, '.-')\n",
    "plt.ylabel('temperatura (C)')\n",
    "plt.xlabel('distância (cm)')\n",
    "\n",
    "# plota legenda\n",
    "plt.legend()"
   ]
  },
  {
   "cell_type": "markdown",
   "metadata": {},
   "source": [
    "_________________________________________________________"
   ]
  },
  {
   "cell_type": "markdown",
   "metadata": {},
   "source": [
    "_________________________________________________________"
   ]
  },
  {
   "cell_type": "markdown",
   "metadata": {},
   "source": [
    "_________________________________________________________"
   ]
  },
  {
   "cell_type": "markdown",
   "metadata": {},
   "source": [
    "# 3.\n",
    "Compare os erros das solucoes numericas de equilıbrio (nos 2 casos anteriores) em relacao a solu¸cao analıtica  \n",
    "(uma reta que passa pelos pontos de temperatura 100◦e 50◦C nos extremos), em especial no caso de utilizacao  \n",
    "de λ = 1/6 (que tende a minimizar os erros);  \n",
    "\n",
    "A solução analítica pode ser escrita como uma reta:\n",
    "\n",
    "$$ f(x) = 100 -5x $$ \n",
    "\n",
    "Lembrando que a barra tem 10 cm e logo que $\\Delta x = \\frac{10}{N-1} $.  \n",
    "Escrevendo em função dos **N** pontos de discretização e $ \\Delta x $\n",
    "\n",
    "\n",
    "$$ f(i\\Delta x) = 100 -5(i\\Delta x) $$\n",
    "$$ f(i) = 100 -5(i\\Delta x) $$\n",
    "\n",
    "Onde $i$ represente um indíce de posição na barra."
   ]
  }
 ],
 "metadata": {
  "kernelspec": {
   "display_name": "Python 3",
   "language": "python",
   "name": "python3"
  },
  "language_info": {
   "codemirror_mode": {
    "name": "ipython",
    "version": 3
   },
   "file_extension": ".py",
   "mimetype": "text/x-python",
   "name": "python",
   "nbconvert_exporter": "python",
   "pygments_lexer": "ipython3",
   "version": "3.6.5"
  }
 },
 "nbformat": 4,
 "nbformat_minor": 2
}
