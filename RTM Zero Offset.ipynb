{
 "cells": [
  {
   "cell_type": "markdown",
   "metadata": {},
   "source": [
    "### RTM Acústico Explicito\n",
    "\n",
    "__________________"
   ]
  },
  {
   "cell_type": "code",
   "execution_count": 1,
   "metadata": {},
   "outputs": [],
   "source": [
    "% matplotlib inline"
   ]
  },
  {
   "cell_type": "code",
   "execution_count": 2,
   "metadata": {},
   "outputs": [],
   "source": [
    "from matplotlib import pyplot as plt\n",
    "import matplotlib.animation\n",
    "import matplotlib\n",
    "import numpy as np\n",
    "from numba import njit, prange"
   ]
  },
  {
   "cell_type": "markdown",
   "metadata": {},
   "source": [
    "## Modelagem Direta"
   ]
  },
  {
   "cell_type": "markdown",
   "metadata": {},
   "source": [
    "$$ p_{ik}^{n+1} = \\beta c_{ik}^2 \\left[ -p_{i-2k}^n+16p_{i-1k}^n+16p_{i+1k}^n-p_{i+2k}^n -p_{ik-2}^n+16p_{ik-1}^n+16p_{ik+1}^n-p_{ik+2}^n-60p_{ik}^n \\right] +\\Delta t^2 c_{ik}^2 \\ s_{ik}^n +2p_{ik}^n-p_{ik}^{n-1}  $$"
   ]
  },
  {
   "cell_type": "markdown",
   "metadata": {},
   "source": [
    "#### Loop simples"
   ]
  },
  {
   "cell_type": "code",
   "execution_count": 3,
   "metadata": {},
   "outputs": [],
   "source": [
    "@njit(parallel=True)\n",
    "def stepScalar(u_tp1, u_t, u_tm1, c, x1, x2, z1, z2, dx, dz, dt):\n",
    "    \"\"\"\n",
    "    Perform a single time step in the Finite Difference solution for scalar\n",
    "    waves 4th order in space\n",
    "    \"\"\"    \n",
    "    cdz = (dt/dz)**2\n",
    "    cdx = (dt/dx)**2\n",
    "\n",
    "    for i in prange(z1, z2):\n",
    "        for j in prange(x1, x2):\n",
    "            u_tp1[i,j] = (2.*u_t[i,j] - u_tm1[i,j]\n",
    "                + (c[i,j]**2)*(\n",
    "                    cdx*(-u_t[i,j + 2] + 16.*u_t[i,j + 1] - 30.*u_t[i,j] +\n",
    "                    16.*u_t[i,j - 1] - u_t[i,j - 2])/12. +\n",
    "                    cdz*(-u_t[i + 2,j] + 16.*u_t[i + 1,j] - 30.*u_t[i,j] +\n",
    "                    16.*u_t[i - 1,j] - u_t[i - 2,j])/12.))    "
   ]
  },
  {
   "cell_type": "markdown",
   "metadata": {},
   "source": [
    "##### Absorção 2 ordem"
   ]
  },
  {
   "cell_type": "code",
   "execution_count": 4,
   "metadata": {},
   "outputs": [],
   "source": [
    "@njit(parallel=True)\n",
    "def nonreflexive2nd(u_tp1, u_t, u_tm1, c, nx, nz, dx, dz, dt):\n",
    "    \"\"\"\n",
    "    Apply the boundary conditions: free-surface at top, transparent in the borders\n",
    "    4th order (+2-2) indexes\n",
    "    Uses Reynolds, A. C. - Boundary conditions for numerical solution of wave propagation problems\n",
    "    Geophysics p 1099-1110 - 1978\n",
    "    We apply 1D reynolds at -2/-1 and +2/+1 respectively\n",
    "    \"\"\"\n",
    "    for i in range(nz):\n",
    "        # left\n",
    "        for p in range(2):\n",
    "                u_tp1[i, p] = ( u_t[i, p] + u_t[i, p+1] - u_tm1[i,p+1] +\n",
    "                (c[i, p]*dt/dx)*(u_t[i, p+1] - u_t[i, p] - u_tm1[i, p+2] + u_tm1[i, p+1])\n",
    "                )\n",
    "        #right\n",
    "        for p in range(2):\n",
    "            p = 1-p            \n",
    "            u_tp1[i, nx-2+p] = ( u_t[i, nx-2+p] + u_t[i, nx-3+p] - u_tm1[i, nx-3+p] -\n",
    "                (c[i, nx-2+p]*dt/dx)*(u_t[i, nx-2+p] - u_t[i, nx-3+p] - u_tm1[i, nx-3+p] + u_tm1[i, nx-4+p])\n",
    "                )\n",
    "    # Down\n",
    "    for i in range(nx):\n",
    "        for p in range(2):\n",
    "            p = 1-p\n",
    "            u_tp1[nz-2+p, i] = ( u_t[nz-2+p, i] + u_t[nz-3+p, i] - u_tm1[nz-3+p, i] -\n",
    "                    (c[nz-2+p, i]*dt/dz)*(u_t[nz-2+p, i] - u_t[nz-3+p, i] - u_tm1[nz-3+p, i] + u_tm1[nz-4+p, i])\n",
    "                    )\n",
    "        # Up\n",
    "        for p in range(2):            \n",
    "            u_tp1[p, i] = ( u_t[p, i] + u_t[p+1, i] - u_tm1[p+1, i] +\n",
    "                    (c[p, i]*dt/dz)*(u_t[p+1, i] - u_t[p, i] - u_tm1[p+2, i] + u_tm1[p+1, i])\n",
    "                    )"
   ]
  },
  {
   "cell_type": "markdown",
   "metadata": {},
   "source": [
    "##### Damping Cerjan"
   ]
  },
  {
   "cell_type": "markdown",
   "metadata": {},
   "source": [
    "$$ e^{-\\alpha(i-nx)} $$"
   ]
  },
  {
   "cell_type": "code",
   "execution_count": 5,
   "metadata": {},
   "outputs": [
    {
     "data": {
      "text/plain": [
       "Text(0.5,0,'grid points')"
      ]
     },
     "execution_count": 5,
     "metadata": {},
     "output_type": "execute_result"
    },
    {
     "data": {
      "image/png": "[encoded data removed]",
      "text/plain": [
       "<Figure size 576x144 with 1 Axes>"
      ]
     },
     "metadata": {},
     "output_type": "display_data"
    }
   ],
   "source": [
    "decay=0.004\n",
    "pad=100\n",
    "ix = np.arange(0, pad)\n",
    "plt.figure(figsize=(8,2))\n",
    "plt.plot(ix, np.exp(-(decay*(pad-ix))**2))\n",
    "plt.ylabel('amplitude')\n",
    "plt.xlabel('grid points')"
   ]
  },
  {
   "cell_type": "code",
   "execution_count": 6,
   "metadata": {},
   "outputs": [],
   "source": [
    "@njit(parallel=True)\n",
    "def applyDamping(array, nx, nz, pad, decay):\n",
    "    \"\"\"\n",
    "    Apply a decay factor to the values of the array in the padding region.\n",
    "    \"\"\"\n",
    "    # Damping on the left\n",
    "    for i in prange(nz):\n",
    "        for j in range(pad):\n",
    "            array[i,j] *= np.exp(-((decay*(pad - j))**2))\n",
    "    # Damping on the right\n",
    "    for i in prange(nz):\n",
    "        for j in range(nx - pad, nx):\n",
    "            array[i,j] *= np.exp(-((decay*(j - nx + pad))**2))\n",
    "    # Damping on the bottom\n",
    "    for i in prange(nz - pad, nz): # down\n",
    "        for j in range(nx):\n",
    "            array[i,j] *= np.exp(-((decay*(i - nz + pad))**2))\n",
    "    # Damping up\n",
    "    for i in prange(pad): # down\n",
    "        for j in range(nx): # left-right\n",
    "            array[i,j] *= np.exp(-((decay*(pad - i))**2))"
   ]
  },
  {
   "cell_type": "markdown",
   "metadata": {},
   "source": [
    "### modelo de velocidade para migração rtm zero-offset"
   ]
  },
  {
   "cell_type": "code",
   "execution_count": 7,
   "metadata": {},
   "outputs": [
    {
     "data": {
      "text/plain": [
       "<matplotlib.colorbar.Colorbar at 0x7f77ce322588>"
      ]
     },
     "execution_count": 7,
     "metadata": {},
     "output_type": "execute_result"
    },
    {
     "data": {
      "image/png": "[encoded data removed]",
      "text/plain": [
       "<Figure size 720x360 with 2 Axes>"
      ]
     },
     "metadata": {},
     "output_type": "display_data"
    }
   ],
   "source": [
    "import numpy as np\n",
    "from PIL import Image\n",
    "# loading velocity from wedge image file\n",
    "filename='wedge.tif'\n",
    "img = Image.open(filename)\n",
    "img.load()\n",
    "img = img.convert('I') # gray scale, convert format\n",
    "velocity  = np.asarray(img, dtype=np.float32)\n",
    "velocity[:][velocity[:] == 255.0] = 2500.0\n",
    "velocity[:][velocity[:] == 0.0] = 4500.0\n",
    "velocity[:][velocity[:] == 146.0] = 3500.0\n",
    "velocity[:][velocity[:] == 36.0] = 4000.0\n",
    "plt.figure(figsize=(10,5))\n",
    "im = plt.imshow(velocity)\n",
    "plt.colorbar(im,  shrink=0.60, pad = 0.05, label=u'velocity')"
   ]
  },
  {
   "cell_type": "markdown",
   "metadata": {},
   "source": [
    "### Posição das Fontes"
   ]
  },
  {
   "cell_type": "code",
   "execution_count": 8,
   "metadata": {},
   "outputs": [
    {
     "data": {
      "text/plain": [
       "(0, 400)"
      ]
     },
     "execution_count": 8,
     "metadata": {},
     "output_type": "execute_result"
    },
    {
     "data": {
      "image/png": "[encoded data removed]",
      "text/plain": [
       "<Figure size 360x180 with 1 Axes>"
      ]
     },
     "metadata": {},
     "output_type": "display_data"
    }
   ],
   "source": [
    "edge = np.abs(np.diff(velocity, axis=0)).astype(np.bool)\n",
    "indices = np.where(edge > [0])\n",
    "sz = indices[0]\n",
    "sx = indices[1]\n",
    "plt.figure(figsize=(5,2.5))\n",
    "plt.plot(sx,  sz, '.')\n",
    "plt.ylim(130, 0) # z\n",
    "plt.xlim(0, 400) # x"
   ]
  },
  {
   "cell_type": "code",
   "execution_count": 9,
   "metadata": {},
   "outputs": [],
   "source": [
    "@njit\n",
    "def applySources(u_tp1, c, sx, sz, source, ns, dt):\n",
    "    for i in range(ns):\n",
    "        u_tp1[sz[i],sx[i]] -= ((c[sz[i],sx[i]]*dt)**2)*source  "
   ]
  },
  {
   "cell_type": "code",
   "execution_count": 10,
   "metadata": {},
   "outputs": [
    {
     "name": "stdout",
     "output_type": "stream",
     "text": [
      "Ds:  20.833333333333332 f. central : 11.283791670955125 delay :  0.0886226925452758 dt:  0.002834774066908449  nt:  687\n"
     ]
    }
   ],
   "source": [
    "def ricker(t, td, f):\n",
    "    \"\"\"amplitude unitária\"\"\"\n",
    "    t = (t - td)\n",
    "    aux = (1 - 2*(np.pi*f*t)**2)\n",
    "    return aux*np.exp(-(np.pi*f*t)**2)\n",
    "\n",
    "def params(fcut, c):\n",
    "    \"\"\"\n",
    "    A partir da frequencia máxima na fonte `fcut` e do \n",
    "    campo de velocidades `c` calcula:\n",
    "    ds, f central, t delay, dt time step\n",
    "    \"\"\"    \n",
    "    # fcut máxima frequência na fonte\n",
    "    f = 2*fcut/(3*np.sqrt(np.pi)) # f central\n",
    "    td = 1./f # time delay    \n",
    "    lmin = np.min(c)/fcut # lambda min\n",
    "    ds = lmin/4. # espaçamento grid evitar alias espacial \"na lata\"\n",
    "    dt = (1-1e-4)*ds*np.sqrt(3)/(np.sqrt(8)*np.max(c))  # \"quaaase\" no limite (menor erro)\n",
    "    return ds, f, td, dt\n",
    "\n",
    "nz, nx = velocity.shape\n",
    "npad = 40 # regiao absorcao\n",
    "# segunda ordem no espaço stencial requer +2+2 pontos cada dimensao\n",
    "# padding *2 cada dimensao\n",
    "# padd velocity model with border values\n",
    "padvel = np.pad(velocity, [npad+2*2, npad+2*2],  mode='edge')\n",
    "nz, nx = padvel.shape\n",
    "# correct source positions\n",
    "sx += npad + 2\n",
    "sz += npad + 2\n",
    "ns = len(sx) # number of sources\n",
    "\n",
    "c = padvel\n",
    "# campos de pressao em n e n+1 ou n-1\n",
    "p = np.zeros((2, nz, nx)) # n e n+1 ou n-1\n",
    "# parametros da simulacao fonte de x0 Hz no máxxximoo...\n",
    "ds, f, td, dt = params(30., c)\n",
    "# numero de iteracoes a partir de duracao da simulacao\n",
    "duracao = 1.950 # segundo\n",
    "nt = int(duracao/dt)\n",
    "        \n",
    "print('Ds: ', ds, 'f. central :', f, 'delay : ', td, 'dt: ',  dt, ' nt: ', nt)"
   ]
  },
  {
   "cell_type": "markdown",
   "metadata": {},
   "source": [
    "# Simulation Loop"
   ]
  },
  {
   "cell_type": "code",
   "execution_count": 11,
   "metadata": {},
   "outputs": [],
   "source": [
    "p = np.zeros((2, nz, nx)) # n e n+1 ou n-1"
   ]
  },
  {
   "cell_type": "code",
   "execution_count": 12,
   "metadata": {},
   "outputs": [
    {
     "name": "stdout",
     "output_type": "stream",
     "text": [
      "CPU times: user 4.43 s, sys: 548 ms, total: 4.98 s\n",
      "Wall time: 3.07 s\n"
     ]
    }
   ],
   "source": [
    "%%time\n",
    "\n",
    "snaps = []\n",
    "for i in range(nt):\n",
    "    # para evitar um painel a mais : pilha de paineis \n",
    "    t, tm1 = i%2, (i+1)%2\n",
    "    tp1 = tm1  \n",
    "    \n",
    "    nonreflexive2nd(p[tp1], p[t], p[tm1], c, nx, nz, ds, ds, dt)\n",
    "    stepScalar(p[tp1], p[t], p[tm1], c, 2, nx-2, 2, nz-2, ds, ds, dt)\n",
    "    \n",
    "    applyDamping(p[tm1], nx, nz, npad, 0.004)\n",
    "    applyDamping(p[t], nx, nz, npad, 0.004)  \n",
    "    \n",
    "    applySources(p[tp1], c, sx, sz, ricker(i*dt, td, f), ns, dt)\n",
    "    \n",
    "    if i%1==0:\n",
    "        snaps.append(p[t].copy())        \n",
    "\n",
    "snaps = np.array(snaps) # to array"
   ]
  },
  {
   "cell_type": "markdown",
   "metadata": {},
   "source": [
    "## Animation Plotting!"
   ]
  },
  {
   "cell_type": "code",
   "execution_count": 13,
   "metadata": {},
   "outputs": [],
   "source": [
    "plt.rcParams['animation.embed_limit'] = 300 # in MB"
   ]
  },
  {
   "cell_type": "code",
   "execution_count": null,
   "metadata": {},
   "outputs": [],
   "source": [
    "import matplotlib\n",
    "from matplotlib import animation\n",
    "\n",
    "apad = npad+2 # 2 additional points space\n",
    "pmin = np.percentile(snaps, [1])\n",
    "ext = [0, nx*ds, nz*ds, 0]\n",
    "fig = plt.figure(figsize=(12,6))\n",
    "im = plt.imshow(snaps[0,:,:], cmap='gray_r', interpolation='none', vmin=-pmin, vmax=pmin, extent=ext, alpha=0.7)\n",
    "# boundary without cerjan absortion\n",
    "plt.plot([apad*ds, (nx-apad)*ds, (nx-apad)*ds, apad*ds, apad*ds], \n",
    "         [apad*ds, apad*ds, (nz-apad)*ds, (nz-apad)*ds, (apad)*ds], 'b') \n",
    "plt.colorbar(im,  shrink=0.8, pad = 0.01, aspect=10, label=u'amplitude')\n",
    "plt.xlabel('x (m)')\n",
    "plt.ylabel('z (m)')\n",
    "title = plt.title(u'Campo de Pressão')\n",
    "#sns.despine()\n",
    "plt.tight_layout()\n",
    "plt.close()\n",
    "\n",
    "def animate(i):\n",
    "    im.set_data(snaps[i, :,:])\n",
    "\n",
    "ani = animation.FuncAnimation(fig, animate, frames=snaps.shape[0])\n",
    "\n",
    "from IPython.display import HTML\n",
    "HTML(ani.to_jshtml())"
   ]
  },
  {
   "cell_type": "markdown",
   "metadata": {},
   "source": [
    "## Zero-offset Section"
   ]
  },
  {
   "cell_type": "code",
   "execution_count": null,
   "metadata": {
    "scrolled": true
   },
   "outputs": [],
   "source": [
    "apad = npad+2\n",
    "plt.figure(figsize=(12,4))\n",
    "im = plt.imshow(snaps[:, apad, apad:-apad], aspect='auto', cmap='gray_r')\n",
    "plt.colorbar(im,  shrink=1, pad = 0.01, aspect=10, label=u'amplitude')"
   ]
  },
  {
   "cell_type": "markdown",
   "metadata": {},
   "source": [
    "## Modelagem Reversa"
   ]
  },
  {
   "cell_type": "markdown",
   "metadata": {},
   "source": [
    "$$ p_{ik}^{n+1} = \\beta c_{ik}^2 \\left[ -p_{i-2k}^n+16p_{i-1k}^n+16p_{i+1k}^n-p_{i+2k}^n -p_{ik-2}^n+16p_{ik-1}^n+16p_{ik+1}^n-p_{ik+2}^n-60p_{ik}^n \\right] +\\Delta t^2 c_{ik}^2 \\ s_{ik}^n +2p_{ik}^n-p_{ik}^{n-1} \\tag{1}$$"
   ]
  },
  {
   "cell_type": "markdown",
   "metadata": {},
   "source": [
    "$$ p_{ik}^{n-1} = \\beta c_{ik}^2 \\left[ -p_{i-2k}^n+16p_{i-1k}^n+16p_{i+1k}^n-p_{i+2k}^n -p_{ik-2}^n+16p_{ik-1}^n+16p_{ik+1}^n-p_{ik+2}^n-60p_{ik}^n \\right] +\\Delta t^2 c_{ik}^2 \\ s_{ik}^n +2p_{ik}^n - p_{ik}^{n+1} \\tag{2}$$"
   ]
  },
  {
   "cell_type": "markdown",
   "metadata": {},
   "source": [
    "A equação (2) representa o calculo de diferenças finitas para a reversão no tempo, calculo do tempo passado a partir do futuro. Como pode ser observado a reversão não altera em nada a equação de modelagem direta de equação de onda. Assim na simulação somente deve ser inserido o campo de onda gravado começando pelos últimos tempos."
   ]
  },
  {
   "cell_type": "markdown",
   "metadata": {},
   "source": [
    "### Calculate seismogram positions and apply gaussian filter to avoid abrubt changes in the beginning"
   ]
  },
  {
   "cell_type": "code",
   "execution_count": null,
   "metadata": {},
   "outputs": [],
   "source": [
    "seismogram = snaps[:, :, :]\n",
    "# reverse on time seismogram, multiple sources\n",
    "seismogram = seismogram[::-1, apad+2, 2+apad:-apad-2]"
   ]
  },
  {
   "cell_type": "code",
   "execution_count": null,
   "metadata": {},
   "outputs": [],
   "source": [
    "decay=0.0031\n",
    "pad=seismogram.shape[0]\n",
    "ix = np.arange(0, pad)\n",
    "filter = np.exp(-(decay*(pad-ix))**2)\n",
    "#plt.figure(figsize=(8,2))\n",
    "#plt.plot(ix, filter)\n",
    "seismogram_filtered = np.asarray(seismogram)\n",
    "for i in range(400):\n",
    "    seismogram_filtered[:, i] = seismogram[:, i]*filter"
   ]
  },
  {
   "cell_type": "markdown",
   "metadata": {},
   "source": [
    "### Sources to be injected back"
   ]
  },
  {
   "cell_type": "code",
   "execution_count": null,
   "metadata": {
    "scrolled": false
   },
   "outputs": [],
   "source": [
    "plt.figure(figsize=(12,4))\n",
    "im = plt.imshow(seismogram_filtered, aspect='auto', cmap='gray_r')\n",
    "plt.colorbar(im,  shrink=1, pad = 0.01, aspect=10, label=u'amplitude')"
   ]
  },
  {
   "cell_type": "code",
   "execution_count": null,
   "metadata": {},
   "outputs": [],
   "source": [
    "@njit\n",
    "def applyMultipleSources(u_tp1, c, sx, sz, source, ns, dt):\n",
    "    for i in range(ns):\n",
    "        u_tp1[sz[i],sx[i]] -= ((c[sz[i],sx[i]]*dt)**2)*source[i]  "
   ]
  },
  {
   "cell_type": "code",
   "execution_count": null,
   "metadata": {},
   "outputs": [],
   "source": [
    "def params(fcut, c):\n",
    "    \"\"\"\n",
    "    A partir da frequencia máxima na fonte `fcut` e do \n",
    "    campo de velocidades `c` calcula:\n",
    "    ds, f central, t delay, dt time step\n",
    "    \"\"\"    \n",
    "    # fcut máxima frequência na fonte\n",
    "    f = 2*fcut/(3*np.sqrt(np.pi)) # f central\n",
    "    td = 1./f # time delay    \n",
    "    lmin = np.min(c)/fcut # lambda min\n",
    "    ds = lmin/4. # espaçamento grid evitar alias espacial \"na lata\"\n",
    "    dt = (1-1e-4)*ds*np.sqrt(3)/(np.sqrt(8)*np.max(c))  # \"quaaase\" no limite (menor erro)\n",
    "    return ds, f, td, dt\n",
    "\n",
    "nz, nx = velocity.shape\n",
    "npad = 40 # regiao absorcao\n",
    "# segunda ordem no espaço stencial requer +2+2 pontos cada dimensao\n",
    "# padding *2 cada dimensao\n",
    "# padd velocity model with border values\n",
    "padvel = np.pad(velocity, [npad+2, npad+2],  mode='edge')\n",
    "nz, nx = padvel.shape\n",
    "\n",
    "c = padvel\n",
    "# campos de pressao em n e n+1 ou n-1\n",
    "p = np.zeros((2, nz, nx)) # n e n+1 ou n-1\n",
    "# parametros da simulacao fonte de x0 Hz no máxxximoo...\n",
    "ds, f, td, dt = params(30., c)\n",
    "# numero de iteracoes a partir de duracao da simulacao\n",
    "duracao = 1.950 # segundo\n",
    "nt = int(duracao/dt)\n",
    "\n",
    "### seismometers positions\n",
    "nzs, nxs = velocity.shape\n",
    "sx = npad + 2 + np.arange(nxs, dtype=np.int)\n",
    "sz = npad + 2 + np.zeros(nxs, dtype=np.int)\n",
    "ns = len(sx) # number of sources\n",
    "        \n",
    "print('Ds: ', ds, 'f. central :', f, 'delay : ', td, 'dt: ',  dt, ' nt: ', nt)"
   ]
  },
  {
   "cell_type": "markdown",
   "metadata": {},
   "source": [
    "# Reverse Time Simulation Loop"
   ]
  },
  {
   "cell_type": "code",
   "execution_count": null,
   "metadata": {
    "scrolled": true
   },
   "outputs": [],
   "source": [
    "%%time\n",
    "snaps = []\n",
    "for i in range(nt):\n",
    "    # para evitar um painel a mais : pilha de paineis \n",
    "    t, tm1 = i%2, (i+1)%2\n",
    "    tp1 = tm1  \n",
    "    \n",
    "    nonreflexive2nd(p[tp1], p[t], p[tm1], c, nx, nz, ds, ds, dt)\n",
    "    stepScalar(p[tp1], p[t], p[tm1], c, 2, nx-2, 2, nz-2, ds, ds, dt)\n",
    "    \n",
    "    applyDamping(p[tm1], nx, nz, npad, 0.004)\n",
    "    applyDamping(p[t], nx, nz, npad, 0.004)  \n",
    "    \n",
    "    applyMultipleSources(p[tp1], c, sx, sz, seismogram_filtered[i].ravel(), ns, dt)\n",
    "    \n",
    "    if i%1==0:\n",
    "        snaps.append(p[t].copy())        \n",
    "        \n",
    "snaps = np.array(snaps)"
   ]
  },
  {
   "cell_type": "code",
   "execution_count": null,
   "metadata": {},
   "outputs": [],
   "source": [
    "plt.rcParams['animation.embed_limit'] = 300 # in MB"
   ]
  },
  {
   "cell_type": "code",
   "execution_count": null,
   "metadata": {},
   "outputs": [],
   "source": [
    "import matplotlib\n",
    "from matplotlib import animation\n",
    "\n",
    "apad = npad+2 # 2 additional points space\n",
    "snaps = np.array(snaps)\n",
    "pmin = np.percentile(snaps, [1])\n",
    "ext = [0, nx*ds, nz*ds, 0]\n",
    "fig = plt.figure(figsize=(12,6))\n",
    "im = plt.imshow(snaps[0,:,:], cmap='gray_r', interpolation='none', vmin=-pmin, vmax=pmin, extent=ext, alpha=0.7)\n",
    "# boundary without cerjan absortion\n",
    "plt.plot([apad*ds, (nx-apad)*ds, (nx-apad)*ds, apad*ds, apad*ds], \n",
    "         [apad*ds, apad*ds, (nz-apad)*ds, (nz-apad)*ds, (apad)*ds], 'b') \n",
    "plt.colorbar(im,  shrink=0.8, pad = 0.01, aspect=10, label=u'amplitude')\n",
    "plt.xlabel('x (m)')\n",
    "plt.ylabel('z (m)')\n",
    "title = plt.title(u'Campo de Pressão')\n",
    "#sns.despine()\n",
    "plt.tight_layout()\n",
    "plt.close()\n",
    "\n",
    "def animate(i):\n",
    "    im.set_data(snaps[i, :,:])\n",
    "\n",
    "ani = animation.FuncAnimation(fig, animate, frames=snaps.shape[0])\n",
    "\n",
    "from IPython.display import HTML\n",
    "HTML(ani.to_jshtml())"
   ]
  },
  {
   "cell_type": "markdown",
   "metadata": {},
   "source": [
    "## Reverse Migrated Section\n",
    "\n",
    "### overlay velocity model"
   ]
  },
  {
   "cell_type": "code",
   "execution_count": null,
   "metadata": {},
   "outputs": [],
   "source": [
    "# correção devido ao time delta para injeção da fonte, transforma em fase zero\n",
    "delay = int(td/dt)"
   ]
  },
  {
   "cell_type": "code",
   "execution_count": null,
   "metadata": {},
   "outputs": [],
   "source": [
    "apad = npad+2\n",
    "plt.figure(figsize=(12,4))\n",
    "plt.imshow(velocity, aspect='auto')\n",
    "im = plt.imshow(snaps[-delay, apad:-apad, apad:-apad], aspect='auto', cmap='gray_r', vmin=-1e5, vmax=1e5, alpha=.95)\n",
    "\n",
    "plt.colorbar(im,  shrink=1, pad = 0.01, aspect=10, label=u'amplitude')"
   ]
  },
  {
   "cell_type": "code",
   "execution_count": null,
   "metadata": {},
   "outputs": [],
   "source": []
  }
 ],
 "metadata": {
  "kernelspec": {
   "display_name": "Python 3",
   "language": "python",
   "name": "python3"
  },
  "language_info": {
   "codemirror_mode": {
    "name": "ipython",
    "version": 3
   },
   "file_extension": ".py",
   "mimetype": "text/x-python",
   "name": "python",
   "nbconvert_exporter": "python",
   "pygments_lexer": "ipython3",
   "version": "3.6.5"
  }
 },
 "nbformat": 4,
 "nbformat_minor": 2
}
