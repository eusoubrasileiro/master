{
 "cells": [
  {
   "cell_type": "markdown",
   "metadata": {},
   "source": [
    "## Equação Acústica 2D Formulação DF Explícita NSG \n",
    "\n",
    "__________________\n",
    "\n",
    "$$ \\nabla^2 p -\\frac{1}{c²}\\frac{\\partial^2 p}{\\partial t^2} = -\\rho \\ s(t)  $$\n",
    "\n",
    "$$ \\frac{\\partial^2 p}{\\partial t^2} = c^2\\left(\\frac{\\partial^2 p}{\\partial x^2} + \\frac{\\partial^2 p}{\\partial z^2} \\right) +c^2\\rho \\ s(t) \\tag{1}$$\n",
    "\n",
    "Equação (1) pode ser aproximada por diferenças finitas. Considerando quarta-ordem no espaço (x e z), segunda ordem no tempo (t). Os indices correspondentes são i, k e n respectivamente. \n",
    "\n",
    "$$ \\frac{\\partial^2 p}{\\partial t^2} = \\frac{p_{ik}^{n+1}-2p_{ik}^n+p_{ik}^{n-1}}{\\Delta t^2}  $$\n",
    "\n",
    "para x ou z:\n",
    "\n",
    "$$ \\frac{\\partial^2 p}{\\partial x^2} = \\frac{p_{i-2k}^n+16p_{i-1k}^n-30p_{ik}^n+16p_{i+1k}^n-p_{i+2k}^n}{12 \\Delta x^2}  $$\n",
    "\n",
    "\n",
    "Conectando das duas equações acima à (1), chegamos ao esquema de marcha abaixo:"
   ]
  },
  {
   "cell_type": "markdown",
   "metadata": {},
   "source": [
    "$$ \\frac{p_{ik}^{n+1}-2p_{ik}^n+p_{ik}^{n-1}}{\\Delta t^2} = c^2\\left(\n",
    "\\frac{p_{i-2k}^n+16p_{i-1k}^n-30p_{ik}^n+16p_{i+1k}^n-p_{i+2k}^n}{12\\Delta x^2} +\n",
    "\\frac{p_{ik-2}^n+16p_{ik-1}^n-30p_{ik}^n+16p_{ik+1}^n-p_{ik+2}^n}{12 \\Delta z^2}\n",
    " \\right) +c^2\\rho \\ s^n $$\n",
    " \n",
    "para $ \\Delta x = \\Delta z = h$ em um grid com velocidade $c_{ik}$ e densidade $\\rho_{ik}$. Nos tempos n-1, n para calculo do tempo n+1.\n",
    "\n"
   ]
  },
  {
   "cell_type": "markdown",
   "metadata": {},
   "source": [
    "$$ p_{ik}^{n+1} = \\frac{\\Delta t^2c_{ik}^2}{12h} \\left( p_{i-2k}^n+16p_{i-1k}^n+16p_{i+1k}^n-p_{i+2k}^n + p_{ik-2}^n+16p_{ik-1}^n+16p_{ik+1}^n-p_{ik+2}^n-60p_{ik}^n \\right) +\\Delta t^2 c_{ik}^2\\rho \\ s_{ik}^n +2p_{ik}^n-p_{ik}^{n-1} \\tag{2} $$"
   ]
  },
  {
   "cell_type": "markdown",
   "metadata": {},
   "source": [
    "A fonte sísmica pode ser considerada uma Ricker.\n",
    " \n",
    " \n",
    "$$ s(t) = A(1 - 2 \\pi^2 f^2 t^2)exp(-\\pi^2 f^2 t^2) $$"
   ]
  },
  {
   "cell_type": "markdown",
   "metadata": {},
   "source": [
    "#### Maximum time step that can be used in the FD scalar simulation with 4th order space 2nd time. \n",
    "\n",
    "$$\n",
    "     \\Delta t \\leq \\frac{2 \\Delta s}{ V \\sqrt{\\sum_{a=-N}^{N}\n",
    "     (|w_a^1| + |w_a^2|)}}\n",
    "     = \\frac{ h \\sqrt{3}}{ c_{max} \\sqrt{8}}\n",
    "$$\n",
    "\n",
    "Where $w_a$ are the centered differences weights\n",
    "\n",
    "References:  \n",
    "1. Alford R.M., Kelly K.R., Boore D.M. (1974) Accuracy of\n",
    "finite-difference modeling of the acoustic wave equation\n",
    "Geophysics, 39 (6), P. 834-842  \n",
    "2. Chen, Jing-Bo (2011) A stability formula for Lax-Wendroff methods\n",
    "with fourth-order in time and general-order in space for\n",
    "the scalar wave equation Geophysics, v. 76, p. T37-T42\n",
    "Convergence  "
   ]
  },
  {
   "cell_type": "code",
   "execution_count": null,
   "metadata": {},
   "outputs": [],
   "source": [
    "\n",
    "c = np.zeros()"
   ]
  },
  {
   "cell_type": "code",
   "execution_count": null,
   "metadata": {},
   "outputs": [],
   "source": [
    "npad = 10"
   ]
  },
  {
   "cell_type": "code",
   "execution_count": 1,
   "metadata": {},
   "outputs": [],
   "source": [
    "%load_ext Cython"
   ]
  },
  {
   "cell_type": "code",
   "execution_count": 7,
   "metadata": {},
   "outputs": [
    {
     "ename": "SyntaxError",
     "evalue": "invalid syntax (<ipython-input-7-91d24c60d9b4>, line 6)",
     "output_type": "error",
     "traceback": [
      "\u001b[0;36m  File \u001b[0;32m\"<ipython-input-7-91d24c60d9b4>\"\u001b[0;36m, line \u001b[0;32m6\u001b[0m\n\u001b[0;31m    double[:,::1] u_tp1 not None,\u001b[0m\n\u001b[0m          ^\u001b[0m\n\u001b[0;31mSyntaxError\u001b[0m\u001b[0;31m:\u001b[0m invalid syntax\n"
     ]
    }
   ],
   "source": [
    "%cython \n",
    "\n",
    "@cython.boundscheck(False)\n",
    "@cython.wraparound(False)\n",
    "def _nonreflexive_scalar_boundary_conditions(\n",
    "    double[:,::1] u_tp1 not None,\n",
    "    double[:,::1] u_t not None,\n",
    "    double[:,::1] u_tm1 not None,\n",
    "    double[:,::1] vel not None,\n",
    "    double dt, double dx, double dz,\n",
    "    unsigned int nx, unsigned int nz):\n",
    "    \"\"\"\n",
    "    Apply the boundary conditions: free-surface at top, transparent in the borders\n",
    "    4th order (+2-2) indexes\n",
    "    Uses Reynolds, A. C. - Boundary conditions for numerical solution of wave propagation problems\n",
    "    Geophysics p 1099-1110 - 1978\n",
    "    The finite difference approximation used by Reynolds for the transparent boundary condition is of first\n",
    "    order, though the scalar schema of propagation is of fourth order in space\n",
    "    \"\"\"\n",
    "    cdef unsigned int i\n",
    "\n",
    "    # To make reynolds (2nd order space) work for 4th order in space\n",
    "    # With just 2 panels (t and tm1) where tm1 becomes tp1\n",
    "    # We apply 1D reynolds at -2/-1 and +2/+1 respectively and it works\n",
    "    # it just works like bellow. I don´t know why though.\n",
    "    # The the last valid cells are at x [2, nx-3] z [0, nz-3].\n",
    "    # we always apply outside like instructed by Reynolds.\n",
    "    # Also you must use absorbing boundary before step_scalar in the loop\n",
    "\n",
    "    for i in range(nz):\n",
    "        # left\n",
    "        for p in range(2):\n",
    "                u_tp1[i, p] = ( u_t[i, p] + u_t[i, p+1] - u_tm1[i,p+1] +\n",
    "                (vel[i, p]*dt/dx)*(u_t[i, p+1] - u_t[i, p] - u_tm1[i, p+2] + u_tm1[i, p+1])\n",
    "                )\n",
    "        #right\n",
    "        for p in range(2):\n",
    "            p = 1-p            \n",
    "            u_tp1[i, nx-2+p] = ( u_t[i, nx-2+p] + u_t[i, nx-3+p] - u_tm1[i, nx-3+p] -\n",
    "                (vel[i, nx-2+p]*dt/dx)*(u_t[i, nx-2+p] - u_t[i, nx-3+p] - u_tm1[i, nx-3+p] + u_tm1[i, nx-4+p])\n",
    "                )\n",
    "    # Down\n",
    "    for i in range(nx):\n",
    "        for p in range(2):\n",
    "            p = 1-p\n",
    "            u_tp1[nz-2+p, i] = ( u_t[nz-2+p, i] + u_t[nz-3+p, i] - u_tm1[nz-3+p, i] -\n",
    "                    (vel[nz-2+p, i]*dt/dz)*(u_t[nz-2+p, i] - u_t[nz-3+p, i] - u_tm1[nz-3+p, i] + u_tm1[nz-4+p, i])\n",
    "                    )"
   ]
  },
  {
   "cell_type": "code",
   "execution_count": 8,
   "metadata": {},
   "outputs": [],
   "source": [
    "%%cython\n",
    "\n",
    "cimport cython\n",
    "from libc.math cimport exp, sqrt\n",
    "\n",
    "@cython.boundscheck(False)\n",
    "@cython.wraparound(False)\n",
    "def _apply_damping(double[:,::1] array not None,\n",
    "    unsigned int nx, unsigned int nz, unsigned int pad, double decay):\n",
    "    \"\"\"\n",
    "    Apply a decay factor to the values of the array in the padding region.\n",
    "    \"\"\"\n",
    "    cdef:\n",
    "        unsigned int i, j\n",
    "    # Damping on the left\n",
    "    for i in range(nz):\n",
    "        for j in range(pad):\n",
    "            array[i,j] *= exp(-((decay*(pad - j))**2))\n",
    "    # Damping on the right\n",
    "    for i in range(nz):\n",
    "        for j in range(nx - pad, nx):\n",
    "            array[i,j] *= exp(-((decay*(j - nx + pad))**2))\n",
    "    # Damping on the bottom\n",
    "    for i in range(nz - pad, nz):\n",
    "        for j in range(nx):\n",
    "            array[i,j] *= exp(-((decay*(i - nz + pad))**2))"
   ]
  },
  {
   "cell_type": "code",
   "execution_count": 9,
   "metadata": {},
   "outputs": [],
   "source": [
    "%%cython\n",
    "\n",
    "cimport cython\n",
    "from libc.math cimport exp, sqrt\n",
    "from cython.parallel cimport prange\n",
    "\n",
    "@cython.boundscheck(False)\n",
    "@cython.wraparound(False)\n",
    "def _step_scalar(\n",
    "    double[:,::1] u_tp1 not None,\n",
    "    double[:,::1] u_t not None,\n",
    "    double[:,::1] u_tm1 not None,\n",
    "    unsigned int x1, unsigned int x2, unsigned int z1, unsigned int z2,\n",
    "    double dt, double dx, double dz,\n",
    "    double[:,::1] vel not None):\n",
    "    \"\"\"\n",
    "    Perform a single time step in the Finite Difference solution for scalar\n",
    "    waves 4th order in space\n",
    "    \"\"\"\n",
    "    cdef int i, j\n",
    "    cdef double cdx = (dt/dx)**2\n",
    "    cdef double cdz = (dt/dz)**2\n",
    "\n",
    "    with nogil:\n",
    "        for i in prange(z1, z2):\n",
    "            for j in xrange(x1, x2):\n",
    "                u_tp1[i,j] = (2.*u_t[i,j] - u_tm1[i,j]\n",
    "                    + (vel[i,j]**2)*(\n",
    "                        cdx*(-u_t[i,j + 2] + 16.*u_t[i,j + 1] - 30.*u_t[i,j] +\n",
    "                        16.*u_t[i,j - 1] - u_t[i,j - 2])/12. +\n",
    "                        cdz*(-u_t[i + 2,j] + 16.*u_t[i + 1,j] - 30.*u_t[i,j] +\n",
    "                        16.*u_t[i - 1,j] - u_t[i - 2,j])/12.))"
   ]
  },
  {
   "cell_type": "code",
   "execution_count": 5,
   "metadata": {},
   "outputs": [
    {
     "name": "stderr",
     "output_type": "stream",
     "text": [
      "\n",
      "Error compiling Cython file:\n",
      "------------------------------------------------------------\n",
      "...\n",
      "    nz, nx = self.shape\n",
      "    # due dump regions\n",
      "    nz += self.padding\n",
      "    nx += self.padding*2\n",
      "    # apply reynolds 1D for 4th order space 2nd time\n",
      "    _nonreflexive_scalar_boundary_conditions(\n",
      "   ^\n",
      "------------------------------------------------------------\n",
      "\n",
      "/home/andre/.cache/ipython/cython/_cython_magic_7e47d95c35d77f412ec839ea381bcf4c.pyx:30:4: undeclared name not builtin: _nonreflexive_scalar_boundary_conditions\n",
      "\n",
      "Error compiling Cython file:\n",
      "------------------------------------------------------------\n",
      "...\n",
      "        u[tp1], u[t], u[tm1], self.velocity, self.dt, self.dx,\n",
      "        self.dz, nx, nz)\n",
      "    # Damp the regions in the padding to make waves go to infinity\n",
      "    # apply dumping in everything to be consistent with\n",
      "    # nonreflexive boundary conditions\n",
      "    _apply_damping(u[tm1], nx, nz, self.padding, self.taper)\n",
      "   ^\n",
      "------------------------------------------------------------\n",
      "\n",
      "/home/andre/.cache/ipython/cython/_cython_magic_7e47d95c35d77f412ec839ea381bcf4c.pyx:36:4: undeclared name not builtin: _apply_damping\n",
      "\n",
      "Error compiling Cython file:\n",
      "------------------------------------------------------------\n",
      "...\n",
      "    # apply dumping in everything to be consistent with\n",
      "    # nonreflexive boundary conditions\n",
      "    _apply_damping(u[tm1], nx, nz, self.padding, self.taper)\n",
      "    _apply_damping(u[t], nx, nz, self.padding, self.taper)\n",
      "    # finally make the step\n",
      "    _step_scalar(u[tp1], u[t], u[tm1], 2, nx - 2, 2, nz - 2,\n",
      "   ^\n",
      "------------------------------------------------------------\n",
      "\n",
      "/home/andre/.cache/ipython/cython/_cython_magic_7e47d95c35d77f412ec839ea381bcf4c.pyx:39:4: undeclared name not builtin: _step_scalar\n"
     ]
    },
    {
     "ename": "TypeError",
     "evalue": "object of type 'NoneType' has no len()",
     "output_type": "error",
     "traceback": [
      "\u001b[0;31m---------------------------------------------------------------------------\u001b[0m",
      "\u001b[0;31mTypeError\u001b[0m                                 Traceback (most recent call last)",
      "\u001b[0;32m<ipython-input-5-3d56b3dd8f41>\u001b[0m in \u001b[0;36m<module>\u001b[0;34m()\u001b[0m\n\u001b[0;32m----> 1\u001b[0;31m \u001b[0mget_ipython\u001b[0m\u001b[0;34m(\u001b[0m\u001b[0;34m)\u001b[0m\u001b[0;34m.\u001b[0m\u001b[0mrun_cell_magic\u001b[0m\u001b[0;34m(\u001b[0m\u001b[0;34m'cython'\u001b[0m\u001b[0;34m,\u001b[0m \u001b[0;34m''\u001b[0m\u001b[0;34m,\u001b[0m \u001b[0;34m'\\ncimport cython\\nfrom libc.math cimport exp, sqrt\\n\\ndef _timestep(self, u, tm1, t, tp1, iteration):\\n    \"\"\"\\n    Performs a single step on time (finite differences solution)\\n    (only called by run)\\n    Parameters:\\n    * u: 3D array\\n        two 2D simulation panels shape (2, nz+pad, nx+2pad)\\n    * tm1: int\\n        panel index (t minus 1)\\n        (to avoid copying between 2D arrays)\\n    * t: int\\n        panel index (t)\\n        (to avoid copying between 2D arrays)\\n    * tp1: int\\n        panel index (t plus 1)\\n        (to avoid copying between 2D arrays)\\n    * iteration: int\\n        iteration time step of this simulation\\n    \"\"\"\\n\\n    nz, nx = self.shape\\n    # due dump regions\\n    nz += self.padding\\n    nx += self.padding*2\\n    # apply reynolds 1D for 4th order space 2nd time\\n    _nonreflexive_scalar_boundary_conditions(\\n        u[tp1], u[t], u[tm1], self.velocity, self.dt, self.dx,\\n        self.dz, nx, nz)\\n    # Damp the regions in the padding to make waves go to infinity\\n    # apply dumping in everything to be consistent with\\n    # nonreflexive boundary conditions\\n    _apply_damping(u[tm1], nx, nz, self.padding, self.taper)\\n    _apply_damping(u[t], nx, nz, self.padding, self.taper)\\n    # finally make the step\\n    _step_scalar(u[tp1], u[t], u[tm1], 2, nx - 2, 2, nz - 2,\\n                 self.dt, self.dx, self.dz, self.velocity)\\n    for pos, src in self.sources:\\n        j, i = pos\\n        u[tp1, i, j + self.padding] += src(iteration*self.dt)'\u001b[0m\u001b[0;34m)\u001b[0m\u001b[0;34m\u001b[0m\u001b[0m\n\u001b[0m",
      "\u001b[0;32m~/anaconda3/lib/python3.6/site-packages/IPython/core/interactiveshell.py\u001b[0m in \u001b[0;36mrun_cell_magic\u001b[0;34m(self, magic_name, line, cell)\u001b[0m\n\u001b[1;32m   2165\u001b[0m             \u001b[0mmagic_arg_s\u001b[0m \u001b[0;34m=\u001b[0m \u001b[0mself\u001b[0m\u001b[0;34m.\u001b[0m\u001b[0mvar_expand\u001b[0m\u001b[0;34m(\u001b[0m\u001b[0mline\u001b[0m\u001b[0;34m,\u001b[0m \u001b[0mstack_depth\u001b[0m\u001b[0;34m)\u001b[0m\u001b[0;34m\u001b[0m\u001b[0m\n\u001b[1;32m   2166\u001b[0m             \u001b[0;32mwith\u001b[0m \u001b[0mself\u001b[0m\u001b[0;34m.\u001b[0m\u001b[0mbuiltin_trap\u001b[0m\u001b[0;34m:\u001b[0m\u001b[0;34m\u001b[0m\u001b[0m\n\u001b[0;32m-> 2167\u001b[0;31m                 \u001b[0mresult\u001b[0m \u001b[0;34m=\u001b[0m \u001b[0mfn\u001b[0m\u001b[0;34m(\u001b[0m\u001b[0mmagic_arg_s\u001b[0m\u001b[0;34m,\u001b[0m \u001b[0mcell\u001b[0m\u001b[0;34m)\u001b[0m\u001b[0;34m\u001b[0m\u001b[0m\n\u001b[0m\u001b[1;32m   2168\u001b[0m             \u001b[0;32mreturn\u001b[0m \u001b[0mresult\u001b[0m\u001b[0;34m\u001b[0m\u001b[0m\n\u001b[1;32m   2169\u001b[0m \u001b[0;34m\u001b[0m\u001b[0m\n",
      "\u001b[0;32m<decorator-gen-127>\u001b[0m in \u001b[0;36mcython\u001b[0;34m(self, line, cell)\u001b[0m\n",
      "\u001b[0;32m~/anaconda3/lib/python3.6/site-packages/IPython/core/magic.py\u001b[0m in \u001b[0;36m<lambda>\u001b[0;34m(f, *a, **k)\u001b[0m\n\u001b[1;32m    185\u001b[0m     \u001b[0;31m# but it's overkill for just that one bit of state.\u001b[0m\u001b[0;34m\u001b[0m\u001b[0;34m\u001b[0m\u001b[0m\n\u001b[1;32m    186\u001b[0m     \u001b[0;32mdef\u001b[0m \u001b[0mmagic_deco\u001b[0m\u001b[0;34m(\u001b[0m\u001b[0marg\u001b[0m\u001b[0;34m)\u001b[0m\u001b[0;34m:\u001b[0m\u001b[0;34m\u001b[0m\u001b[0m\n\u001b[0;32m--> 187\u001b[0;31m         \u001b[0mcall\u001b[0m \u001b[0;34m=\u001b[0m \u001b[0;32mlambda\u001b[0m \u001b[0mf\u001b[0m\u001b[0;34m,\u001b[0m \u001b[0;34m*\u001b[0m\u001b[0ma\u001b[0m\u001b[0;34m,\u001b[0m \u001b[0;34m**\u001b[0m\u001b[0mk\u001b[0m\u001b[0;34m:\u001b[0m \u001b[0mf\u001b[0m\u001b[0;34m(\u001b[0m\u001b[0;34m*\u001b[0m\u001b[0ma\u001b[0m\u001b[0;34m,\u001b[0m \u001b[0;34m**\u001b[0m\u001b[0mk\u001b[0m\u001b[0;34m)\u001b[0m\u001b[0;34m\u001b[0m\u001b[0m\n\u001b[0m\u001b[1;32m    188\u001b[0m \u001b[0;34m\u001b[0m\u001b[0m\n\u001b[1;32m    189\u001b[0m         \u001b[0;32mif\u001b[0m \u001b[0mcallable\u001b[0m\u001b[0;34m(\u001b[0m\u001b[0marg\u001b[0m\u001b[0;34m)\u001b[0m\u001b[0;34m:\u001b[0m\u001b[0;34m\u001b[0m\u001b[0m\n",
      "\u001b[0;32m~/anaconda3/lib/python3.6/site-packages/Cython/Build/IpythonMagic.py\u001b[0m in \u001b[0;36mcython\u001b[0;34m(self, line, cell)\u001b[0m\n\u001b[1;32m    319\u001b[0m         \u001b[0;32mif\u001b[0m \u001b[0mneed_cythonize\u001b[0m\u001b[0;34m:\u001b[0m\u001b[0;34m\u001b[0m\u001b[0m\n\u001b[1;32m    320\u001b[0m             \u001b[0mextensions\u001b[0m \u001b[0;34m=\u001b[0m \u001b[0mself\u001b[0m\u001b[0;34m.\u001b[0m\u001b[0m_cythonize\u001b[0m\u001b[0;34m(\u001b[0m\u001b[0mmodule_name\u001b[0m\u001b[0;34m,\u001b[0m \u001b[0mcode\u001b[0m\u001b[0;34m,\u001b[0m \u001b[0mlib_dir\u001b[0m\u001b[0;34m,\u001b[0m \u001b[0margs\u001b[0m\u001b[0;34m,\u001b[0m \u001b[0mquiet\u001b[0m\u001b[0;34m=\u001b[0m\u001b[0margs\u001b[0m\u001b[0;34m.\u001b[0m\u001b[0mquiet\u001b[0m\u001b[0;34m)\u001b[0m\u001b[0;34m\u001b[0m\u001b[0m\n\u001b[0;32m--> 321\u001b[0;31m             \u001b[0;32massert\u001b[0m \u001b[0mlen\u001b[0m\u001b[0;34m(\u001b[0m\u001b[0mextensions\u001b[0m\u001b[0;34m)\u001b[0m \u001b[0;34m==\u001b[0m \u001b[0;36m1\u001b[0m\u001b[0;34m\u001b[0m\u001b[0m\n\u001b[0m\u001b[1;32m    322\u001b[0m             \u001b[0mextension\u001b[0m \u001b[0;34m=\u001b[0m \u001b[0mextensions\u001b[0m\u001b[0;34m[\u001b[0m\u001b[0;36m0\u001b[0m\u001b[0;34m]\u001b[0m\u001b[0;34m\u001b[0m\u001b[0m\n\u001b[1;32m    323\u001b[0m             \u001b[0mself\u001b[0m\u001b[0;34m.\u001b[0m\u001b[0m_code_cache\u001b[0m\u001b[0;34m[\u001b[0m\u001b[0mkey\u001b[0m\u001b[0;34m]\u001b[0m \u001b[0;34m=\u001b[0m \u001b[0mmodule_name\u001b[0m\u001b[0;34m\u001b[0m\u001b[0m\n",
      "\u001b[0;31mTypeError\u001b[0m: object of type 'NoneType' has no len()"
     ]
    }
   ],
   "source": [
    "\n",
    "def _timestep(self, u, tm1, t, tp1, iteration):\n",
    "    \"\"\"\n",
    "    Performs a single step on time (finite differences solution)\n",
    "    (only called by run)\n",
    "    Parameters:\n",
    "    * u: 3D array\n",
    "        two 2D simulation panels shape (2, nz+pad, nx+2pad)\n",
    "    * tm1: int\n",
    "        panel index (t minus 1)\n",
    "        (to avoid copying between 2D arrays)\n",
    "    * t: int\n",
    "        panel index (t)\n",
    "        (to avoid copying between 2D arrays)\n",
    "    * tp1: int\n",
    "        panel index (t plus 1)\n",
    "        (to avoid copying between 2D arrays)\n",
    "    * iteration: int\n",
    "        iteration time step of this simulation\n",
    "    \"\"\"\n",
    "\n",
    "    nz, nx = self.shape\n",
    "    # due dump regions\n",
    "    nz += self.padding\n",
    "    nx += self.padding*2\n",
    "    # apply reynolds 1D for 4th order space 2nd time\n",
    "    _nonreflexive_scalar_boundary_conditions(\n",
    "        u[tp1], u[t], u[tm1], self.velocity, self.dt, self.dx,\n",
    "        self.dz, nx, nz)\n",
    "    # Damp the regions in the padding to make waves go to infinity\n",
    "    # apply dumping in everything to be consistent with\n",
    "    # nonreflexive boundary conditions\n",
    "    _apply_damping(u[tm1], nx, nz, self.padding, self.taper)\n",
    "    _apply_damping(u[t], nx, nz, self.padding, self.taper)\n",
    "    # finally make the step\n",
    "    _step_scalar(u[tp1], u[t], u[tm1], 2, nx - 2, 2, nz - 2,\n",
    "                 self.dt, self.dx, self.dz, self.velocity)\n",
    "    for pos, src in self.sources:\n",
    "        j, i = pos\n",
    "        u[tp1, i, j + self.padding] += src(iteration*self.dt)"
   ]
  }
 ],
 "metadata": {
  "kernelspec": {
   "display_name": "Python 3",
   "language": "python",
   "name": "python3"
  },
  "language_info": {
   "codemirror_mode": {
    "name": "ipython",
    "version": 3
   },
   "file_extension": ".py",
   "mimetype": "text/x-python",
   "name": "python",
   "nbconvert_exporter": "python",
   "pygments_lexer": "ipython3",
   "version": "3.6.5"
  }
 },
 "nbformat": 4,
 "nbformat_minor": 2
}
