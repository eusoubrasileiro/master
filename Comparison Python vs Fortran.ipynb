{
 "cells": [
  {
   "cell_type": "markdown",
   "metadata": {},
   "source": [
    "# Fortran vs Python difusão de Calor 2D\n",
    "### Ou porque não trazer faca para briga de bazuca"
   ]
  },
  {
   "cell_type": "markdown",
   "metadata": {},
   "source": [
    "### Python Numba double for"
   ]
  },
  {
   "cell_type": "code",
   "execution_count": 49,
   "metadata": {},
   "outputs": [],
   "source": [
    "import numpy as np\n",
    "from numba import njit, prange\n",
    "\n",
    "@njit(nogil=True, parallel=True)\n",
    "def nstepDifusao(T, lmbda, N):    \n",
    "    for i in prange(1, N-1):\n",
    "        for j in prange(1, N-1):\n",
    "            T[i, j] = lmbda*(T[i+1, j]-4*T[i, j]+T[i-1, j]+T[i, j+1]+T[i, j-1]) + T[i, j] \n",
    "            \n",
    "@jit\n",
    "def numbarodarSimulacao(N, niter, dt, save=10, lmbda=0.04175):\n",
    "    \"\"\"\n",
    "    * N : numero de pontos discretização em x e y\n",
    "    * duracao : em segundos da simulacao da difusao\n",
    "    * lmbda : lambda predefido para garantir estabilidade numérica \n",
    "    igual à 0.04175 baseado no item 1\n",
    "    * save : numero de 'snapshots' para salvar  \n",
    "    \n",
    "    O numero de iteracoes é calculado baseado na duracao\n",
    "    \"\"\"\n",
    "    k = 0.835 #K alumínio = 1/alfa^2\n",
    "    ds = 10./(N-1) # 10 cm / N-1 pontos discretização espaço \n",
    "    #dt = (ds**2*lmbda)/k # discretização tempo garantindo lambda igual à 0.04175\n",
    "    lmbda = (k*dt)/ds \n",
    "    # \"paineis\" com temperatura da placa em tn e tn+1 (derivada primeira 1 painel necessario)\n",
    "    tplaca = np.zeros((N, N)) # temperatura da placa em tn e tn+1 : \n",
    "    # condições de contorno iniciais no tempo 0 \n",
    "    # extremidades da placa \n",
    "    tplaca[:,  0] = 100. # esquerda \n",
    "    tplaca[:, -1] = 50. # direita\n",
    "    # topo e base da placa assumindo temperatura = 0\n",
    "    kernel = np.array([[0, 1, 0],[1, -4, 1],[0, 1, 0]]) # diferenciador convolucional        \n",
    "    nsave = int(niter/save) # step de iteracoes para salvar 'snapshot'\n",
    "    snapshots = np.zeros((save+1, N, N)) # 'filme' das iteracoes\n",
    "    isnap = 0 # indice para salvar 'snapshots' das iteracoes        \n",
    "    \n",
    "    for n in range(niter): # marcha\n",
    "        # calcula tn+1 em funcao de f(tn) \n",
    "        nstepDifusao(tplaca, lmbda, N)"
   ]
  },
  {
   "cell_type": "markdown",
   "metadata": {},
   "source": [
    "### Morelatto Convolve 1D"
   ]
  },
  {
   "cell_type": "code",
   "execution_count": 50,
   "metadata": {},
   "outputs": [],
   "source": [
    "from scipy.ndimage.filters import convolve1d\n",
    "\n",
    "def conv1drodarSimulacao(nx = 101, ny=101, nt=101, dt=0.1, dx=0.01, dy=0.01):\n",
    "    T_l = 100 #°C - Temperatura do lado esquerdo da chapa\n",
    "    T_r = 50 #°C - Temperatura do lado esquerdo da chapa\n",
    "    T_u = 25 #°C - Temperatura de cima da chapa\n",
    "    T_d = 75 #°C - Temperatura de baixo da chapa\n",
    "\n",
    "\n",
    "    K = 9.7 * 1e-5 # Difusividade térmica do aluminio (m²/s)\n",
    "                   # fonte: www.electronics-cooling.com/2007/08/thermal-diffusivity/\n",
    "\n",
    "    lbd_x = K * dt/dx**2 # Constante lambda x\n",
    "    lbd_y = K * dt/dy**2 # Constante lambda y\n",
    "\n",
    "    assert lbd_x < 0.5 # Condição de estabilidade eixo x\n",
    "    assert lbd_y < 0.5 # Condição de estabilidade eixo y\n",
    "\n",
    "    # Inicializando a temperatura da chapa\n",
    "    T = np.zeros((nx, ny))\n",
    "    T[:,0] = T_l\n",
    "    T[:,-1] = T_r\n",
    "    T[0,:] = T_u\n",
    "    T[-1,:] = T_d\n",
    "\n",
    "    kernel = np.array([1,-2,1]) # Convolution kernel\n",
    "\n",
    "    # Loop implementando as diferenças finitas\n",
    "    for n in np.arange(nt):\n",
    "        T[1:-1,1:-1] += lbd_x * convolve1d(T,kernel, axis=0, mode='constant')[1:-1,1:-1] +\\\n",
    "                        lbd_y * convolve1d(T,kernel, axis=1, mode='constant')[1:-1,1:-1]"
   ]
  },
  {
   "cell_type": "markdown",
   "metadata": {},
   "source": [
    "### Cython double for"
   ]
  },
  {
   "cell_type": "code",
   "execution_count": 51,
   "metadata": {
    "scrolled": true
   },
   "outputs": [
    {
     "name": "stdout",
     "output_type": "stream",
     "text": [
      "The cython extension is already loaded. To reload it, use:\n",
      "  %reload_ext cython\n"
     ]
    }
   ],
   "source": [
    "%load_ext cython"
   ]
  },
  {
   "cell_type": "code",
   "execution_count": 53,
   "metadata": {},
   "outputs": [
    {
     "name": "stderr",
     "output_type": "stream",
     "text": [
      "\n",
      "Error compiling Cython file:\n",
      "------------------------------------------------------------\n",
      "...\n",
      "@cython.wraparound(False)\n",
      "@cython.nonecheck(False)\n",
      "cdef cstepDifusao(double [:,::1] T, double lmbda, int N):    \n",
      "    cdef int i, j\n",
      "    for i in prange(1, N-1, nogil=True):\n",
      "        for j in prange(1, N-1, nogil=True):\n",
      "                      ^\n",
      "------------------------------------------------------------\n",
      "\n",
      "/home/andre/.cache/ipython/cython/_cython_magic_b9a8f28eca8bdf15601c743f48b6c43d.pyx:12:23: Trying to release the GIL while it was previously released.\n"
     ]
    },
    {
     "ename": "TypeError",
     "evalue": "object of type 'NoneType' has no len()",
     "output_type": "error",
     "traceback": [
      "\u001b[0;31m---------------------------------------------------------------------------\u001b[0m",
      "\u001b[0;31mTypeError\u001b[0m                                 Traceback (most recent call last)",
      "\u001b[0;32m<ipython-input-53-4729dc939aa1>\u001b[0m in \u001b[0;36m<module>\u001b[0;34m()\u001b[0m\n\u001b[0;32m----> 1\u001b[0;31m \u001b[0mget_ipython\u001b[0m\u001b[0;34m(\u001b[0m\u001b[0;34m)\u001b[0m\u001b[0;34m.\u001b[0m\u001b[0mrun_cell_magic\u001b[0m\u001b[0;34m(\u001b[0m\u001b[0;34m'cython'\u001b[0m\u001b[0;34m,\u001b[0m \u001b[0;34m''\u001b[0m\u001b[0;34m,\u001b[0m \u001b[0;34m'cimport cython\\ncimport numpy as np\\nimport numpy as np\\nfrom cython.parallel import prange\\n\\n@cython.boundscheck(False)\\n@cython.wraparound(False)\\n@cython.nonecheck(False)\\ncdef cstepDifusao(double [:,::1] T, double lmbda, int N):    \\n    cdef int i, j\\n    for i in prange(1, N-1, nogil=True):\\n        for j in prange(1, N-1, nogil=True):\\n            T[i, j] = lmbda*(T[i+1, j]-4*T[i, j]+T[i-1, j]+T[i, j+1]+T[i, j-1]) + T[i, j] \\n\\n        \\n@cython.boundscheck(False)\\n@cython.wraparound(False)\\n@cython.nonecheck(False)\\ncpdef cythonrodarSimulacao(int N, int niter, double dt):\\n    \"\"\"\\n    * N : numero de pontos discretização em x e y\\n    * duracao : em segundos da simulacao da difusao\\n    * lmbda : lambda predefido para garantir estabilidade numérica \\n    igual à 0.04175 baseado no item 1\\n    * save : numero de \\'snapshots\\' para salvar  \\n    \\n    O numero de iteracoes é calculado baseado na duracao\\n    \"\"\"\\n    cdef double lmbda=0.04175\\n    #cdef double k = 0.835 #K alumínio = 1/alfa^2\\n    #cdef double ds = 10./(N-1) # 10 cm / N-1 pontos discretização espaço \\n    # \"paineis\" com temperatura da placa em tn e tn+1 (derivada primeira 1 painel necessario)\\n    T = np.empty((N, N), dtype=np.float64)    \\n    # condições de contorno iniciais no tempo 0 \\n    # extremidades da placa \\n    T[:,  0] = 100. # esquerda \\n    T[:, -1] = 50. # direita\\n    # topo e base da placa assumindo temperatura = 0\\n\\n    for n in range(niter): # marcha\\n        # calcula tn+1 em funcao de f(tn) \\n        cstepDifusao(T, lmbda, N)'\u001b[0m\u001b[0;34m)\u001b[0m\u001b[0;34m\u001b[0m\u001b[0m\n\u001b[0m",
      "\u001b[0;32m~/anaconda3/lib/python3.6/site-packages/IPython/core/interactiveshell.py\u001b[0m in \u001b[0;36mrun_cell_magic\u001b[0;34m(self, magic_name, line, cell)\u001b[0m\n\u001b[1;32m   2165\u001b[0m             \u001b[0mmagic_arg_s\u001b[0m \u001b[0;34m=\u001b[0m \u001b[0mself\u001b[0m\u001b[0;34m.\u001b[0m\u001b[0mvar_expand\u001b[0m\u001b[0;34m(\u001b[0m\u001b[0mline\u001b[0m\u001b[0;34m,\u001b[0m \u001b[0mstack_depth\u001b[0m\u001b[0;34m)\u001b[0m\u001b[0;34m\u001b[0m\u001b[0m\n\u001b[1;32m   2166\u001b[0m             \u001b[0;32mwith\u001b[0m \u001b[0mself\u001b[0m\u001b[0;34m.\u001b[0m\u001b[0mbuiltin_trap\u001b[0m\u001b[0;34m:\u001b[0m\u001b[0;34m\u001b[0m\u001b[0m\n\u001b[0;32m-> 2167\u001b[0;31m                 \u001b[0mresult\u001b[0m \u001b[0;34m=\u001b[0m \u001b[0mfn\u001b[0m\u001b[0;34m(\u001b[0m\u001b[0mmagic_arg_s\u001b[0m\u001b[0;34m,\u001b[0m \u001b[0mcell\u001b[0m\u001b[0;34m)\u001b[0m\u001b[0;34m\u001b[0m\u001b[0m\n\u001b[0m\u001b[1;32m   2168\u001b[0m             \u001b[0;32mreturn\u001b[0m \u001b[0mresult\u001b[0m\u001b[0;34m\u001b[0m\u001b[0m\n\u001b[1;32m   2169\u001b[0m \u001b[0;34m\u001b[0m\u001b[0m\n",
      "\u001b[0;32m<decorator-gen-127>\u001b[0m in \u001b[0;36mcython\u001b[0;34m(self, line, cell)\u001b[0m\n",
      "\u001b[0;32m~/anaconda3/lib/python3.6/site-packages/IPython/core/magic.py\u001b[0m in \u001b[0;36m<lambda>\u001b[0;34m(f, *a, **k)\u001b[0m\n\u001b[1;32m    185\u001b[0m     \u001b[0;31m# but it's overkill for just that one bit of state.\u001b[0m\u001b[0;34m\u001b[0m\u001b[0;34m\u001b[0m\u001b[0m\n\u001b[1;32m    186\u001b[0m     \u001b[0;32mdef\u001b[0m \u001b[0mmagic_deco\u001b[0m\u001b[0;34m(\u001b[0m\u001b[0marg\u001b[0m\u001b[0;34m)\u001b[0m\u001b[0;34m:\u001b[0m\u001b[0;34m\u001b[0m\u001b[0m\n\u001b[0;32m--> 187\u001b[0;31m         \u001b[0mcall\u001b[0m \u001b[0;34m=\u001b[0m \u001b[0;32mlambda\u001b[0m \u001b[0mf\u001b[0m\u001b[0;34m,\u001b[0m \u001b[0;34m*\u001b[0m\u001b[0ma\u001b[0m\u001b[0;34m,\u001b[0m \u001b[0;34m**\u001b[0m\u001b[0mk\u001b[0m\u001b[0;34m:\u001b[0m \u001b[0mf\u001b[0m\u001b[0;34m(\u001b[0m\u001b[0;34m*\u001b[0m\u001b[0ma\u001b[0m\u001b[0;34m,\u001b[0m \u001b[0;34m**\u001b[0m\u001b[0mk\u001b[0m\u001b[0;34m)\u001b[0m\u001b[0;34m\u001b[0m\u001b[0m\n\u001b[0m\u001b[1;32m    188\u001b[0m \u001b[0;34m\u001b[0m\u001b[0m\n\u001b[1;32m    189\u001b[0m         \u001b[0;32mif\u001b[0m \u001b[0mcallable\u001b[0m\u001b[0;34m(\u001b[0m\u001b[0marg\u001b[0m\u001b[0;34m)\u001b[0m\u001b[0;34m:\u001b[0m\u001b[0;34m\u001b[0m\u001b[0m\n",
      "\u001b[0;32m~/anaconda3/lib/python3.6/site-packages/Cython/Build/IpythonMagic.py\u001b[0m in \u001b[0;36mcython\u001b[0;34m(self, line, cell)\u001b[0m\n\u001b[1;32m    319\u001b[0m         \u001b[0;32mif\u001b[0m \u001b[0mneed_cythonize\u001b[0m\u001b[0;34m:\u001b[0m\u001b[0;34m\u001b[0m\u001b[0m\n\u001b[1;32m    320\u001b[0m             \u001b[0mextensions\u001b[0m \u001b[0;34m=\u001b[0m \u001b[0mself\u001b[0m\u001b[0;34m.\u001b[0m\u001b[0m_cythonize\u001b[0m\u001b[0;34m(\u001b[0m\u001b[0mmodule_name\u001b[0m\u001b[0;34m,\u001b[0m \u001b[0mcode\u001b[0m\u001b[0;34m,\u001b[0m \u001b[0mlib_dir\u001b[0m\u001b[0;34m,\u001b[0m \u001b[0margs\u001b[0m\u001b[0;34m,\u001b[0m \u001b[0mquiet\u001b[0m\u001b[0;34m=\u001b[0m\u001b[0margs\u001b[0m\u001b[0;34m.\u001b[0m\u001b[0mquiet\u001b[0m\u001b[0;34m)\u001b[0m\u001b[0;34m\u001b[0m\u001b[0m\n\u001b[0;32m--> 321\u001b[0;31m             \u001b[0;32massert\u001b[0m \u001b[0mlen\u001b[0m\u001b[0;34m(\u001b[0m\u001b[0mextensions\u001b[0m\u001b[0;34m)\u001b[0m \u001b[0;34m==\u001b[0m \u001b[0;36m1\u001b[0m\u001b[0;34m\u001b[0m\u001b[0m\n\u001b[0m\u001b[1;32m    322\u001b[0m             \u001b[0mextension\u001b[0m \u001b[0;34m=\u001b[0m \u001b[0mextensions\u001b[0m\u001b[0;34m[\u001b[0m\u001b[0;36m0\u001b[0m\u001b[0;34m]\u001b[0m\u001b[0;34m\u001b[0m\u001b[0m\n\u001b[1;32m    323\u001b[0m             \u001b[0mself\u001b[0m\u001b[0;34m.\u001b[0m\u001b[0m_code_cache\u001b[0m\u001b[0;34m[\u001b[0m\u001b[0mkey\u001b[0m\u001b[0;34m]\u001b[0m \u001b[0;34m=\u001b[0m \u001b[0mmodule_name\u001b[0m\u001b[0;34m\u001b[0m\u001b[0m\n",
      "\u001b[0;31mTypeError\u001b[0m: object of type 'NoneType' has no len()"
     ]
    }
   ],
   "source": [
    "%%cython\n",
    "cimport cython\n",
    "cimport numpy as np\n",
    "import numpy as np\n",
    "from cython.parallel import prange\n",
    "\n",
    "@cython.boundscheck(False)\n",
    "@cython.wraparound(False)\n",
    "@cython.nonecheck(False)\n",
    "cdef cstepDifusao(double [:,::1] T, double lmbda, int N):    \n",
    "    cdef int i, j\n",
    "    for i in prange(1, N-1, nogil=True):\n",
    "        for j in prange(1, N-1, nogil=True):\n",
    "            T[i, j] = lmbda*(T[i+1, j]-4*T[i, j]+T[i-1, j]+T[i, j+1]+T[i, j-1]) + T[i, j] \n",
    "\n",
    "        \n",
    "@cython.boundscheck(False)\n",
    "@cython.wraparound(False)\n",
    "@cython.nonecheck(False)\n",
    "cpdef cythonrodarSimulacao(int N, int niter, double dt):\n",
    "    \"\"\"\n",
    "    * N : numero de pontos discretização em x e y\n",
    "    * duracao : em segundos da simulacao da difusao\n",
    "    * lmbda : lambda predefido para garantir estabilidade numérica \n",
    "    igual à 0.04175 baseado no item 1\n",
    "    * save : numero de 'snapshots' para salvar  \n",
    "    \n",
    "    O numero de iteracoes é calculado baseado na duracao\n",
    "    \"\"\"\n",
    "    cdef double lmbda=0.04175\n",
    "    #cdef double k = 0.835 #K alumínio = 1/alfa^2\n",
    "    #cdef double ds = 10./(N-1) # 10 cm / N-1 pontos discretização espaço \n",
    "    # \"paineis\" com temperatura da placa em tn e tn+1 (derivada primeira 1 painel necessario)\n",
    "    T = np.empty((N, N), dtype=np.float64)    \n",
    "    # condições de contorno iniciais no tempo 0 \n",
    "    # extremidades da placa \n",
    "    T[:,  0] = 100. # esquerda \n",
    "    T[:, -1] = 50. # direita\n",
    "    # topo e base da placa assumindo temperatura = 0\n",
    "\n",
    "    for n in range(niter): # marcha\n",
    "        # calcula tn+1 em funcao de f(tn) \n",
    "        cstepDifusao(T, lmbda, N)"
   ]
  },
  {
   "cell_type": "markdown",
   "metadata": {},
   "source": [
    "## CUDA Pytorch"
   ]
  },
  {
   "cell_type": "code",
   "execution_count": 54,
   "metadata": {},
   "outputs": [],
   "source": [
    "import torch as th\n",
    "import torch.nn.functional as F\n",
    "import numpy as np\n",
    "\n",
    "#th.set_num_threads(8)\n",
    "\n",
    "def torchrodarSimulacao(N, niter, dt, save=10, lmbda=0.04175):\n",
    "    \"\"\"\n",
    "    * N : numero de pontos discretização em x e y\n",
    "    * duracao : em segundos da simulacao da difusao\n",
    "    * lmbda : lambda predefido para garantir estabilidade numérica \n",
    "    igual à 0.04175 baseado no item 1\n",
    "    * save : numero de 'snapshots' para salvar  \n",
    "\n",
    "    O numero de iteracoes é calculado baseado na duracao\n",
    "    \"\"\"\n",
    "    k = 0.835 #K alumínio = 1/alfa^2\n",
    "    ds = 10./(N-1) # 10 cm / N-1 pontos discretização espaço \n",
    "    tplaca = np.zeros((N, N)) # temperatura da placa em tn e tn+1 : \n",
    "    # condições de contorno iniciais no tempo 0 \n",
    "    # extremidades da placa \n",
    "    tplaca[:,  0] = 100. # esquerda \n",
    "    tplaca[:, -1] = 50. # direita\n",
    "    # topo e base da placa assumindo temperatura = 0\n",
    "    kernel = np.array([[0, 1, 0],[1, -4, 1],[0, 1, 0]]) # diferenciador convolucional        \n",
    "    nsave = int(niter/save) # step de iteracoes para salvar 'snapshot'\n",
    "    snapshots = np.zeros((save+1, N, N)) # 'filme' das iteracoes\n",
    "    isnap = 0 # indice para salvar 'snapshots' das iteracoes        \n",
    "\n",
    "    # pytorch wrapping\n",
    "    kernel = th.tensor(kernel, dtype=th.float32)\n",
    "    kernel = kernel.unsqueeze(0).unsqueeze(0)     # pytorch format for conv2d\n",
    "    tplaca = th.tensor(tplaca, dtype=th.float32)\n",
    "    tplaca = tplaca.unsqueeze(0).unsqueeze(0)  \n",
    "    snapshots = th.tensor(snapshots, dtype=th.float32)\n",
    "\n",
    "    # send to cuda \n",
    "    #     kernel = kernel.to(\"cuda\")\n",
    "    #     tplace = tplace.to(\"cuda\")\n",
    "    #     snapshots = snapshots.to(\"cuda\")\n",
    "\n",
    "    for n in range(niter): # marcha\n",
    "        # calcula tn+1 em funcao de f(tn) \n",
    "        tplaca[0, 0, 1:-1, 1:-1] = lmbda*F.conv2d(tplaca, kernel) + tplaca[0, 0, 1:-1, 1:-1]\n",
    "\n",
    "        if n%nsave==0:\n",
    "            snapshots[isnap] = tplaca.squeeze(0).squeeze(0)\n",
    "            isnap += 1 # p/ próximo 'frame' do 'filme'\n",
    "\n",
    "    # imprime um resumo de alguns parâmetros\n",
    "    #print('Dt: {:.3g} numero de Iteracoes: {:5d} '.format(dt, niter))\n",
    "\n",
    "    # salva o último\n",
    "    snapshots[-1] = tplaca.squeeze(0).squeeze(0)\n",
    "    # retorna o 'filme' de snapshots, e o intervalo em x    \n",
    "    return snapshots, ds"
   ]
  },
  {
   "cell_type": "markdown",
   "metadata": {},
   "source": [
    "## Comparação para diferentes valores de NxN (grid da placa)\n"
   ]
  },
  {
   "cell_type": "markdown",
   "metadata": {},
   "source": [
    "**Numero de iterações 10 dt = 0.1 **"
   ]
  },
  {
   "cell_type": "code",
   "execution_count": 55,
   "metadata": {},
   "outputs": [],
   "source": [
    "# !x,y,t,nsnap\n",
    "# !dx,dy,dt\n",
    "# !alfa,Tesq,Tdir,Tsup,Tinf\n",
    "#r\"\"\"1000 1000 200 9\n",
    "#2 2 0.1\n",
    "#0.835 100.0 200.0 100.0 200.0\n",
    "#\"\"\""
   ]
  },
  {
   "cell_type": "markdown",
   "metadata": {},
   "source": [
    "# 3 Algoritmos \n",
    "\n",
    "## 1. Fortran  \n",
    "## 2. Python Numba Double For \n",
    "## 3. Python Tweek Conv. 1D  \n",
    "## 4. Python Cython Double For\n",
    "## 5. Pytorch Cuda"
   ]
  },
  {
   "cell_type": "code",
   "execution_count": 56,
   "metadata": {},
   "outputs": [],
   "source": [
    "from subprocess import call\n",
    "import time\n",
    "\n",
    "## fortran loop\n",
    "def fortran(N):\n",
    "    N=N*2 # devido ao dx=2    \n",
    "    command = \"{:} {:} 10 9\\n 2 2 0.1\\n0.835 100.0 200.0 100.0 200.0\".format(N,N)\n",
    "    with open('in.txt','w') as f:\n",
    "        f.write(command)\n",
    "    call('./calor2d.bin', shell=True)\n",
    "    \n",
    "## Python numba\n",
    "def pythonnumba(N):\n",
    "    numbarodarSimulacao(N, 100, 0.1)\n",
    "\n",
    "## Python convolução 1D a little tweek\n",
    "def pythonconv1d(N):\n",
    "    conv1drodarSimulacao(N, N, 100, 0.1)\n",
    "\n",
    "## Torch CUDA\n",
    "def pythontorch(N):\n",
    "    torchrodarSimulacao(N, 100, 0.1)    \n",
    "\n",
    "## Cython for loop    \n",
    "def pythoncython(N):\n",
    "    cythonrodarSimulacao(N, 100, 0.1)  \n",
    "    \n",
    "# chama funcao com parâmetro N\n",
    "def callfunc(func, N):    \n",
    "    start = time.time()\n",
    "    func(N)\n",
    "    end = time.time()    \n",
    "    return end-start"
   ]
  },
  {
   "cell_type": "code",
   "execution_count": 57,
   "metadata": {},
   "outputs": [
    {
     "name": "stdout",
     "output_type": "stream",
     "text": [
      "/home/andre/PycharmProjects/master/calor2D\n"
     ]
    }
   ],
   "source": [
    "cd /home/andre/PycharmProjects/master/calor2D/"
   ]
  },
  {
   "cell_type": "markdown",
   "metadata": {},
   "source": [
    "### Plota comparação"
   ]
  },
  {
   "cell_type": "code",
   "execution_count": 58,
   "metadata": {},
   "outputs": [],
   "source": [
    "nxn = list(range(300, 3000, 500))"
   ]
  },
  {
   "cell_type": "code",
   "execution_count": 59,
   "metadata": {},
   "outputs": [
    {
     "name": "stdout",
     "output_type": "stream",
     "text": [
      "0\n",
      "1\n",
      "2\n",
      "3\n",
      "4\n",
      "5\n"
     ]
    }
   ],
   "source": [
    "py1d = []\n",
    "fort = []\n",
    "pytorch = []\n",
    "cython = []\n",
    "pynumba = []\n",
    "for i, N in enumerate(nxn):\n",
    "    \n",
    "    py1d.append(callfunc(pythonconv1d, N))\n",
    "    fort.append(callfunc(fortran, N))\n",
    "    pytorch.append(callfunc(pythontorch, N))\n",
    "    cython.append(callfunc(pythoncython, N))\n",
    "    pynumba.append(callfunc(pythonnumba, N))\n",
    "    print(i)"
   ]
  },
  {
   "cell_type": "code",
   "execution_count": 60,
   "metadata": {},
   "outputs": [],
   "source": [
    "%matplotlib inline"
   ]
  },
  {
   "cell_type": "code",
   "execution_count": 61,
   "metadata": {},
   "outputs": [],
   "source": [
    "from matplotlib import pyplot as plt"
   ]
  },
  {
   "cell_type": "code",
   "execution_count": 62,
   "metadata": {},
   "outputs": [
    {
     "data": {
      "text/plain": [
       "<matplotlib.legend.Legend at 0x7f55a57f3f28>"
      ]
     },
     "execution_count": 62,
     "metadata": {},
     "output_type": "execute_result"
    },
    {
     "data": {
      "image/png": "[encoded data removed]",
      "text/plain": [
       "<Figure size 1080x360 with 1 Axes>"
      ]
     },
     "metadata": {},
     "output_type": "display_data"
    }
   ],
   "source": [
    "plt.figure(figsize=(15,5))\n",
    "plt.plot(nxn, pynumba, '.r')\n",
    "plt.plot(nxn, pynumba, '-r', label='numba')\n",
    "plt.plot(nxn, py1d, '.g')\n",
    "plt.plot(nxn, py1d, '-g', label='py1d')\n",
    "plt.plot(nxn, fort, '.b')\n",
    "plt.plot(nxn, fort, '-b', label='fortran')\n",
    "plt.plot(nxn, pytorch, '.b')\n",
    "plt.plot(nxn, pytorch, '-k', label='torch')\n",
    "plt.plot(nxn, cython, '.m')\n",
    "plt.plot(nxn, cython, '-m', label='cython')\n",
    "plt.ylabel('tempo execucao (segundos)')\n",
    "plt.xlabel('numero pontos grid (N)')\n",
    "plt.legend()\n",
    "#plt.ylim(0, )"
   ]
  },
  {
   "cell_type": "code",
   "execution_count": null,
   "metadata": {},
   "outputs": [],
   "source": []
  },
  {
   "cell_type": "code",
   "execution_count": null,
   "metadata": {},
   "outputs": [],
   "source": []
  },
  {
   "cell_type": "code",
   "execution_count": null,
   "metadata": {},
   "outputs": [],
   "source": []
  },
  {
   "cell_type": "code",
   "execution_count": null,
   "metadata": {},
   "outputs": [],
   "source": []
  },
  {
   "cell_type": "code",
   "execution_count": null,
   "metadata": {},
   "outputs": [],
   "source": []
  },
  {
   "cell_type": "code",
   "execution_count": null,
   "metadata": {},
   "outputs": [],
   "source": []
  },
  {
   "cell_type": "code",
   "execution_count": null,
   "metadata": {},
   "outputs": [],
   "source": []
  },
  {
   "cell_type": "code",
   "execution_count": null,
   "metadata": {},
   "outputs": [],
   "source": []
  },
  {
   "cell_type": "code",
   "execution_count": null,
   "metadata": {},
   "outputs": [],
   "source": []
  },
  {
   "cell_type": "code",
   "execution_count": null,
   "metadata": {},
   "outputs": [],
   "source": []
  },
  {
   "cell_type": "code",
   "execution_count": null,
   "metadata": {},
   "outputs": [],
   "source": []
  }
 ],
 "metadata": {
  "kernelspec": {
   "display_name": "Python 3",
   "language": "python",
   "name": "python3"
  },
  "language_info": {
   "codemirror_mode": {
    "name": "ipython",
    "version": 3
   },
   "file_extension": ".py",
   "mimetype": "text/x-python",
   "name": "python",
   "nbconvert_exporter": "python",
   "pygments_lexer": "ipython3",
   "version": "3.6.5"
  }
 },
 "nbformat": 4,
 "nbformat_minor": 2
}
