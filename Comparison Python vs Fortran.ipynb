{
 "cells": [
  {
   "cell_type": "markdown",
   "metadata": {},
   "source": [
    "# Python vs Fortran  Heat Equation 2D\n",
    "### Or: Why not bring a knife to the bazooka fight"
   ]
  },
  {
   "cell_type": "markdown",
   "metadata": {},
   "source": [
    "### Fortran program\n",
    "\n",
    "Fortran Code available at `fortran_calor2d/`.  \n",
    "All calls to timer or printing functions were removed.\n",
    "Use the command `make` to build the executable version at the folder.\n",
    "Fortran uses a double for to calculate the field at each grid node.\n",
    "\n",
    "### Python\n",
    "\n",
    "Due its versatility there were implemented 4 versions of heat equation simulation:\n",
    "\n",
    "#### 1. Python Numba\n",
    "    1. Uses numba for a double **for** the calculates the field at each grid point.\n",
    "    2. Uses paralallel processing for each for.\n",
    "#### 2. Python Tweek Conv. 1D  \n",
    "    1. Uses pure python/numpy and 1D convolution to calculate the spatial derivatives in each direction.\n",
    "#### 3. Python Cython\n",
    "    1. Uses numba for a double **for** the calculates the field at each grid point.\n",
    "    2. Uses paralallel processing for each for.\n",
    "#### 4. Pytorch Cuda\n",
    "    1. Uses pytorch library and 2D convoluation to calculate the spatial derivatives. A GeForce GTX 1060 was used. \n",
    "    \n",
    "   \n",
    "#### All the code is available bellow being very simple to reuse.\n",
    "\n",
    "**When comes to performance Python wins as expected.**\n",
    "\n",
    "*Numba is the best choice when there is no CUDA/GPU Geforce available.*"
   ]
  },
  {
   "cell_type": "markdown",
   "metadata": {},
   "source": [
    "### Python Numba double for"
   ]
  },
  {
   "cell_type": "code",
   "execution_count": 1,
   "metadata": {},
   "outputs": [],
   "source": [
    "import numpy as np\n",
    "from numba import jit, njit, prange\n",
    "\n",
    "@njit(nogil=True, parallel=True)\n",
    "def nstepDifusao(T, lmbda, N):    \n",
    "    for i in prange(1, N-1):\n",
    "        for j in prange(1, N-1):\n",
    "            T[i, j] = lmbda*(T[i+1, j]-4*T[i, j]+T[i-1, j]+T[i, j+1]+T[i, j-1]) + T[i, j] \n",
    "            \n",
    "@jit\n",
    "def numbarodarSimulacao(N, niter, dt, save=10, lmbda=0.04175):\n",
    "    k = 0.835 #K alumínio = 1/alfa^2\n",
    "    ds = 10./(N-1) # 10 cm / N-1 pontos discretização espaço \n",
    "    #dt = (ds**2*lmbda)/k # discretização tempo garantindo lambda igual à 0.04175\n",
    "    lmbda = (k*dt)/ds \n",
    "    # \"paineis\" com temperatura da placa em tn e tn+1 (derivada primeira 1 painel necessario)\n",
    "    tplaca = np.zeros((N, N)) # temperatura da placa em tn e tn+1 : \n",
    "    # condições de contorno iniciais no tempo 0 \n",
    "    # extremidades da placa \n",
    "    tplaca[:,  0] = 100. # esquerda \n",
    "    tplaca[:, -1] = 50. # direita\n",
    "    # topo e base da placa assumindo temperatura = 0\n",
    "    kernel = np.array([[0, 1, 0],[1, -4, 1],[0, 1, 0]]) # diferenciador convolucional        \n",
    "    nsave = int(niter/save) # step de iteracoes para salvar 'snapshot'\n",
    "    snapshots = np.zeros((save+1, N, N)) # 'filme' das iteracoes\n",
    "    isnap = 0 # indice para salvar 'snapshots' das iteracoes        \n",
    "    \n",
    "    for n in range(niter): # marcha\n",
    "        # calcula tn+1 em funcao de f(tn) \n",
    "        nstepDifusao(tplaca, lmbda, N)"
   ]
  },
  {
   "cell_type": "markdown",
   "metadata": {},
   "source": [
    "### Morelatto Convolve 1D"
   ]
  },
  {
   "cell_type": "code",
   "execution_count": 2,
   "metadata": {},
   "outputs": [],
   "source": [
    "from scipy.ndimage.filters import convolve1d\n",
    "\n",
    "def conv1drodarSimulacao(nx = 101, ny=101, nt=101, dt=0.1, dx=0.01, dy=0.01):\n",
    "    T_l = 100 #°C - Temperatura do lado esquerdo da chapa\n",
    "    T_r = 50 #°C - Temperatura do lado esquerdo da chapa\n",
    "    T_u = 25 #°C - Temperatura de cima da chapa\n",
    "    T_d = 75 #°C - Temperatura de baixo da chapa\n",
    "    K = 9.7 * 1e-5 # Difusividade térmica do aluminio (m²/s)\n",
    "                   # fonte: www.electronics-cooling.com/2007/08/thermal-diffusivity/\n",
    "    lbd_x = K * dt/dx**2 # Constante lambda x\n",
    "    lbd_y = K * dt/dy**2 # Constante lambda y\n",
    "    assert lbd_x < 0.5 # Condição de estabilidade eixo x\n",
    "    assert lbd_y < 0.5 # Condição de estabilidade eixo y\n",
    "    T = np.zeros((nx, ny))\n",
    "    T[:,0] = T_l\n",
    "    T[:,-1] = T_r\n",
    "    T[0,:] = T_u\n",
    "    T[-1,:] = T_d\n",
    "    kernel = np.array([1,-2,1]) # Convolution kernel\n",
    "    for n in np.arange(nt):\n",
    "        T[1:-1,1:-1] += lbd_x * convolve1d(T,kernel, axis=0, mode='constant')[1:-1,1:-1] +\\\n",
    "                        lbd_y * convolve1d(T,kernel, axis=1, mode='constant')[1:-1,1:-1]"
   ]
  },
  {
   "cell_type": "markdown",
   "metadata": {},
   "source": [
    "### Cython double for"
   ]
  },
  {
   "cell_type": "code",
   "execution_count": 3,
   "metadata": {
    "scrolled": true
   },
   "outputs": [],
   "source": [
    "%load_ext cython"
   ]
  },
  {
   "cell_type": "code",
   "execution_count": 4,
   "metadata": {},
   "outputs": [],
   "source": [
    "%%cython\n",
    "cimport cython\n",
    "cimport numpy as np\n",
    "import numpy as np\n",
    "from cython.parallel import prange\n",
    "\n",
    "@cython.boundscheck(False)\n",
    "@cython.wraparound(False)\n",
    "@cython.nonecheck(False)\n",
    "cdef cstepDifusao(double [:,::1] T, double lmbda, int N):    \n",
    "    cdef int i, j\n",
    "    for i in prange(1, N-1, nogil=True):\n",
    "        for j in prange(1, N-1):\n",
    "            T[i, j] = lmbda*(T[i+1, j]-4*T[i, j]+T[i-1, j]+T[i, j+1]+T[i, j-1]) + T[i, j] \n",
    "\n",
    "        \n",
    "@cython.boundscheck(False)\n",
    "@cython.wraparound(False)\n",
    "@cython.nonecheck(False)\n",
    "cpdef cythonrodarSimulacao(int N, int niter, double dt):\n",
    "    cdef double lmbda=0.04175\n",
    "    #cdef double k = 0.835 #K alumínio = 1/alfa^2\n",
    "    #cdef double ds = 10./(N-1) # 10 cm / N-1 pontos discretização espaço \n",
    "    # \"paineis\" com temperatura da placa em tn e tn+1 (derivada primeira 1 painel necessario)\n",
    "    T = np.empty((N, N), dtype=np.float64)    \n",
    "    # condições de contorno iniciais no tempo 0 \n",
    "    # extremidades da placa \n",
    "    T[:,  0] = 100. # esquerda \n",
    "    T[:, -1] = 50. # direita\n",
    "    # topo e base da placa assumindo temperatura = 0\n",
    "\n",
    "    for n in range(niter): # marcha\n",
    "        # calcula tn+1 em funcao de f(tn) \n",
    "        cstepDifusao(T, lmbda, N)"
   ]
  },
  {
   "cell_type": "markdown",
   "metadata": {},
   "source": [
    "## CUDA Pytorch"
   ]
  },
  {
   "cell_type": "code",
   "execution_count": 5,
   "metadata": {},
   "outputs": [],
   "source": [
    "import torch as th\n",
    "import torch.nn.functional as F\n",
    "import numpy as np\n",
    "\n",
    "#th.set_num_threads(8)\n",
    "\n",
    "def torchrodarSimulacao(N, niter, dt, save=10, lmbda=0.04175):\n",
    "    k = 0.835 #K alumínio = 1/alfa^2\n",
    "    ds = 10./(N-1) # 10 cm / N-1 pontos discretização espaço \n",
    "    tplaca = np.zeros((N, N)) # temperatura da placa em tn e tn+1 : \n",
    "    # condições de contorno iniciais no tempo 0 \n",
    "    # extremidades da placa \n",
    "    tplaca[:,  0] = 100. # esquerda \n",
    "    tplaca[:, -1] = 50. # direita\n",
    "    # topo e base da placa assumindo temperatura = 0\n",
    "    kernel = np.array([[0, 1, 0],[1, -4, 1],[0, 1, 0]]) # diferenciador convolucional        \n",
    "    nsave = int(niter/save) # step de iteracoes para salvar 'snapshot'\n",
    "    snapshots = np.zeros((save+1, N, N)) # 'filme' das iteracoes\n",
    "    isnap = 0 # indice para salvar 'snapshots' das iteracoes        \n",
    "\n",
    "    # pytorch wrapping\n",
    "    kernel = th.tensor(kernel, dtype=th.float32)\n",
    "    kernel = kernel.unsqueeze(0).unsqueeze(0)     # pytorch format for conv2d\n",
    "    tplaca = th.tensor(tplaca, dtype=th.float32)\n",
    "    tplaca = tplaca.unsqueeze(0).unsqueeze(0)  \n",
    "\n",
    "    # send to cuda \n",
    "    kernel = kernel.to(\"cuda\")\n",
    "    tplaca = tplaca.to(\"cuda\")\n",
    "\n",
    "    for n in range(niter): # marcha\n",
    "        # calcula tn+1 em funcao de f(tn) \n",
    "        tplaca[0, 0, 1:-1, 1:-1] = lmbda*F.conv2d(tplaca, kernel) + tplaca[0, 0, 1:-1, 1:-1]"
   ]
  },
  {
   "cell_type": "code",
   "execution_count": 6,
   "metadata": {},
   "outputs": [],
   "source": [
    "# !x,y,t,nsnap\n",
    "# !dx,dy,dt\n",
    "# !alfa,Tesq,Tdir,Tsup,Tinf\n",
    "#r\"\"\"1000 1000 200 9\n",
    "#2 2 0.1\n",
    "#0.835 100.0 200.0 100.0 200.0\n",
    "#\"\"\""
   ]
  },
  {
   "cell_type": "markdown",
   "metadata": {},
   "source": [
    "# Comparision for different grid sizes (NxN) with increasing N"
   ]
  },
  {
   "cell_type": "markdown",
   "metadata": {},
   "source": [
    "**iterations 10 dt = 0.1 **"
   ]
  },
  {
   "cell_type": "markdown",
   "metadata": {},
   "source": [
    "## 1. Fortran  \n",
    "## 2. Python Numba Double For \n",
    "## 3. Python Tweek Conv. 1D  \n",
    "## 4. Python Cython Double For\n",
    "## 5. Pytorch Cuda GeForce GTX 1060"
   ]
  },
  {
   "cell_type": "code",
   "execution_count": 7,
   "metadata": {},
   "outputs": [],
   "source": [
    "from subprocess import call\n",
    "import time\n",
    "\n",
    "## fortran loop\n",
    "def fortran(N):\n",
    "    N=N*2 # devido ao dx=2    \n",
    "    command = \"{:} {:} 10 9\\n 2 2 0.1\\n0.835 100.0 200.0 100.0 200.0\".format(N,N)\n",
    "    with open('in.txt','w') as f:\n",
    "        f.write(command)\n",
    "    call('./calor2d', shell=True)\n",
    "    \n",
    "## Python numba\n",
    "def pythonnumba(N):\n",
    "    numbarodarSimulacao(N, 100, 0.1)\n",
    "\n",
    "## Python convolução 1D a little tweek\n",
    "def pythonconv1d(N):\n",
    "    conv1drodarSimulacao(N, N, 100, 0.1)\n",
    "\n",
    "## Torch CUDA\n",
    "def pythontorch(N):\n",
    "    torchrodarSimulacao(N, 100, 0.1)    \n",
    "\n",
    "## Cython for loop    \n",
    "def pythoncython(N):\n",
    "    cythonrodarSimulacao(N, 100, 0.1)  \n",
    "    \n",
    "# chama funcao com parâmetro N\n",
    "def callfunc(func, N):    \n",
    "    start = time.time()\n",
    "    func(N)\n",
    "    end = time.time()    \n",
    "    return end-start"
   ]
  },
  {
   "cell_type": "markdown",
   "metadata": {},
   "source": [
    "Move the folder where we can executed the fortran code at the background."
   ]
  },
  {
   "cell_type": "code",
   "execution_count": 8,
   "metadata": {},
   "outputs": [
    {
     "name": "stdout",
     "output_type": "stream",
     "text": [
      "/home/andre/PycharmProjects/master/calor2D\n"
     ]
    }
   ],
   "source": [
    "cd calor2D/"
   ]
  },
  {
   "cell_type": "markdown",
   "metadata": {},
   "source": [
    "### Plota comparação"
   ]
  },
  {
   "cell_type": "code",
   "execution_count": 9,
   "metadata": {},
   "outputs": [],
   "source": [
    "nxn = list(range(300, 4500, 500))"
   ]
  },
  {
   "cell_type": "code",
   "execution_count": 10,
   "metadata": {},
   "outputs": [
    {
     "name": "stdout",
     "output_type": "stream",
     "text": [
      "0\n",
      "1\n",
      "2\n",
      "3\n",
      "4\n",
      "5\n",
      "6\n",
      "7\n",
      "8\n"
     ]
    }
   ],
   "source": [
    "py1d = []\n",
    "fort = []\n",
    "pytorch = []\n",
    "cython = []\n",
    "pynumba = []\n",
    "for i, N in enumerate(nxn):    \n",
    "    py1d.append(callfunc(pythonconv1d, N))\n",
    "    fort.append(callfunc(fortran, N))\n",
    "    pytorch.append(callfunc(pythontorch, N))\n",
    "    cython.append(callfunc(pythoncython, N))\n",
    "    pynumba.append(callfunc(pythonnumba, N))\n",
    "    print(i)"
   ]
  },
  {
   "cell_type": "code",
   "execution_count": 11,
   "metadata": {},
   "outputs": [],
   "source": [
    "%matplotlib inline"
   ]
  },
  {
   "cell_type": "code",
   "execution_count": 12,
   "metadata": {},
   "outputs": [],
   "source": [
    "from matplotlib import pyplot as plt"
   ]
  },
  {
   "cell_type": "code",
   "execution_count": 22,
   "metadata": {},
   "outputs": [
    {
     "data": {
      "image/png": "[encoded data removed]",
      "text/plain": [
       "<Figure size 1080x360 with 1 Axes>"
      ]
     },
     "metadata": {},
     "output_type": "display_data"
    }
   ],
   "source": [
    "plt.figure(figsize=(15,5))\n",
    "plt.plot(nxn, pynumba, '.r')\n",
    "plt.plot(nxn, pynumba, '-r', label='python numba')\n",
    "plt.plot(nxn, py1d, '.g')\n",
    "plt.plot(nxn, py1d, '-g', label='python py1dconv.')\n",
    "plt.plot(nxn, fort, '.b')\n",
    "plt.plot(nxn, fort, '-b', label='fortran')\n",
    "plt.plot(nxn, pytorch, '.b')\n",
    "plt.plot(nxn, pytorch, '-k', label='python torch Cuda GTX 1060')\n",
    "plt.plot(nxn, cython, '.m')\n",
    "plt.plot(nxn, cython, '-m', label='python cython')\n",
    "plt.yscale('log')\n",
    "plt.ylabel('tempo execucao (segundos)')\n",
    "plt.xlabel('numero pontos lateral do grid (N)')\n",
    "plt.legend()\n",
    "plt.grid(which='minor', axis='y')\n",
    "plt.grid(which='major', axis='x')"
   ]
  },
  {
   "cell_type": "code",
   "execution_count": 24,
   "metadata": {},
   "outputs": [
    {
     "data": {
      "text/plain": [
       "325.27790252591285"
      ]
     },
     "execution_count": 24,
     "metadata": {},
     "output_type": "execute_result"
    }
   ],
   "source": [
    "fort[-1]/pytorch[-1]"
   ]
  },
  {
   "cell_type": "markdown",
   "metadata": {},
   "source": [
    "## Pytorch with CUDA is the fastest being 325x faster than fortran"
   ]
  },
  {
   "cell_type": "code",
   "execution_count": 26,
   "metadata": {},
   "outputs": [
    {
     "data": {
      "text/plain": [
       "19.50301228645899"
      ]
     },
     "execution_count": 26,
     "metadata": {},
     "output_type": "execute_result"
    }
   ],
   "source": [
    "fort[-1]/pynumba[-1]"
   ]
  },
  {
   "cell_type": "markdown",
   "metadata": {},
   "source": [
    "## Python with numba is the second being as 20x fastest than fortran "
   ]
  },
  {
   "cell_type": "code",
   "execution_count": 27,
   "metadata": {},
   "outputs": [
    {
     "data": {
      "text/plain": [
       "2.755389469400562"
      ]
     },
     "execution_count": 27,
     "metadata": {},
     "output_type": "execute_result"
    }
   ],
   "source": [
    "fort[-1]/cython[-1]"
   ]
  },
  {
   "cell_type": "markdown",
   "metadata": {},
   "source": [
    "##  Cython in third being almost as 3x times faster than fortran"
   ]
  },
  {
   "cell_type": "code",
   "execution_count": null,
   "metadata": {},
   "outputs": [],
   "source": []
  },
  {
   "cell_type": "code",
   "execution_count": null,
   "metadata": {},
   "outputs": [],
   "source": []
  },
  {
   "cell_type": "code",
   "execution_count": null,
   "metadata": {},
   "outputs": [],
   "source": []
  },
  {
   "cell_type": "code",
   "execution_count": null,
   "metadata": {},
   "outputs": [],
   "source": []
  },
  {
   "cell_type": "code",
   "execution_count": null,
   "metadata": {},
   "outputs": [],
   "source": []
  },
  {
   "cell_type": "code",
   "execution_count": null,
   "metadata": {},
   "outputs": [],
   "source": []
  }
 ],
 "metadata": {
  "kernelspec": {
   "display_name": "Python 3",
   "language": "python",
   "name": "python3"
  },
  "language_info": {
   "codemirror_mode": {
    "name": "ipython",
    "version": 3
   },
   "file_extension": ".py",
   "mimetype": "text/x-python",
   "name": "python",
   "nbconvert_exporter": "python",
   "pygments_lexer": "ipython3",
   "version": "3.6.5"
  }
 },
 "nbformat": 4,
 "nbformat_minor": 2
}
