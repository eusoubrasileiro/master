{
 "cells": [
  {
   "cell_type": "markdown",
   "metadata": {},
   "source": [
    "# Fortran vs Python difusão de Calor 2D\n",
    "### Ou porque não trazer faca para briga de bazuca"
   ]
  },
  {
   "cell_type": "markdown",
   "metadata": {},
   "source": [
    "### Python Puro Convolve 2D "
   ]
  },
  {
   "cell_type": "raw",
   "metadata": {},
   "source": [
    "Código do notebook original 2D calor.\n",
    "\n",
    "Pequena modificação para especificar diretamente número de iterações e dt"
   ]
  },
  {
   "cell_type": "code",
   "execution_count": 30,
   "metadata": {},
   "outputs": [],
   "source": [
    "import numpy as np\n",
    "from scipy.signal import fftconvolve\n",
    "\n",
    "def rodarSimulacao(N, niter, dt, save=10, lmbda=0.04175):\n",
    "    \"\"\"\n",
    "    * N : numero de pontos discretização em x e y\n",
    "    * duracao : em segundos da simulacao da difusao\n",
    "    * lmbda : lambda predefido para garantir estabilidade numérica \n",
    "    igual à 0.04175 baseado no item 1\n",
    "    * save : numero de 'snapshots' para salvar  \n",
    "    \n",
    "    O numero de iteracoes é calculado baseado na duracao\n",
    "    \"\"\"\n",
    "    k = 0.835 #K alumínio = 1/alfa^2\n",
    "    ds = 10./(N-1) # 10 cm / N-1 pontos discretização espaço \n",
    "    #dt = (ds**2*lmbda)/k # discretização tempo garantindo lambda igual à 0.04175\n",
    "    lmbda = (k*dt)/ds \n",
    "    # \"paineis\" com temperatura da placa em tn e tn+1 (derivada primeira 1 painel necessario)\n",
    "    tplaca = np.zeros((N, N)) # temperatura da placa em tn e tn+1 : \n",
    "    # condições de contorno iniciais no tempo 0 \n",
    "    # extremidades da placa \n",
    "    tplaca[:,  0] = 100. # esquerda \n",
    "    tplaca[:, -1] = 50. # direita\n",
    "    # topo e base da placa assumindo temperatura = 0\n",
    "    kernel = np.array([[0, 1, 0],[1, -4, 1],[0, 1, 0]]) # diferenciador convolucional        \n",
    "    nsave = int(niter/save) # step de iteracoes para salvar 'snapshot'\n",
    "    snapshots = np.zeros((save+1, N, N)) # 'filme' das iteracoes\n",
    "    isnap = 0 # indice para salvar 'snapshots' das iteracoes        \n",
    "    \n",
    "    for n in range(niter): # marcha\n",
    "        # calcula tn+1 em funcao de f(tn) \n",
    "        tplaca[1:-1, 1:-1] = lmbda*(fftconvolve(kernel, tplaca, mode='valid')) + tplaca[1:-1, 1:-1] \n",
    "#         if n%nsave==0:\n",
    "#             snapshots[isnap] = tplaca\n",
    "#             isnap += 1 # p/ próximo 'frame' do 'filme'\n",
    "\n",
    "#     # imprime um resumo de alguns parâmetros\n",
    "#     #print('Dt: {:.3g} numero de Iteracoes: {:5d} '.format(dt, niter))\n",
    "    \n",
    "#     # salva o último\n",
    "#     snapshots[-1] = tplaca\n",
    "#     # retorna o 'filme' de snapshots, e o intervalo em x    \n",
    "#     return snapshots, ds"
   ]
  },
  {
   "cell_type": "markdown",
   "metadata": {},
   "source": [
    "### Morelatto Convolve 1D"
   ]
  },
  {
   "cell_type": "code",
   "execution_count": 31,
   "metadata": {},
   "outputs": [],
   "source": [
    "from scipy.ndimage.filters import convolve1d\n",
    "\n",
    "def convolution1d(nx = 101, ny=101, nt=101, dt=0.1, dx=0.01, dy=0.01):\n",
    "    T_l = 100 #°C - Temperatura do lado esquerdo da chapa\n",
    "    T_r = 50 #°C - Temperatura do lado esquerdo da chapa\n",
    "    T_u = 25 #°C - Temperatura de cima da chapa\n",
    "    T_d = 75 #°C - Temperatura de baixo da chapa\n",
    "\n",
    "\n",
    "    K = 9.7 * 1e-5 # Difusividade térmica do aluminio (m²/s)\n",
    "                   # fonte: www.electronics-cooling.com/2007/08/thermal-diffusivity/\n",
    "\n",
    "    lbd_x = K * dt/dx**2 # Constante lambda x\n",
    "    lbd_y = K * dt/dy**2 # Constante lambda y\n",
    "\n",
    "    assert lbd_x < 0.5 # Condição de estabilidade eixo x\n",
    "    assert lbd_y < 0.5 # Condição de estabilidade eixo y\n",
    "\n",
    "    # Inicializando a temperatura da chapa\n",
    "    T = np.zeros((nx, ny))\n",
    "    T[:,0] = T_l\n",
    "    T[:,-1] = T_r\n",
    "    T[0,:] = T_u\n",
    "    T[-1,:] = T_d\n",
    "\n",
    "    kernel = np.array([1,-2,1]) # Convolution kernel\n",
    "\n",
    "    # Loop implementando as diferenças finitas\n",
    "    for n in np.arange(nt):\n",
    "        T[1:-1,1:-1] += lbd_x * convolve1d(T,kernel, axis=0, mode='constant')[1:-1,1:-1] +\\\n",
    "                        lbd_y * convolve1d(T,kernel, axis=1, mode='constant')[1:-1,1:-1]"
   ]
  },
  {
   "cell_type": "markdown",
   "metadata": {},
   "source": [
    "### Cython double for horrible!!"
   ]
  },
  {
   "cell_type": "code",
   "execution_count": 2,
   "metadata": {
    "scrolled": true
   },
   "outputs": [],
   "source": [
    "%load_ext cython"
   ]
  },
  {
   "cell_type": "code",
   "execution_count": 3,
   "metadata": {},
   "outputs": [],
   "source": [
    "%%cython\n",
    "cimport cython\n",
    "cimport numpy as np\n",
    "import numpy as np\n",
    "\n",
    "@cython.boundscheck(False)\n",
    "@cython.wraparound(False)\n",
    "def cythonrodarSimulacao(int N, int niter, double dt):\n",
    "    \"\"\"\n",
    "    * N : numero de pontos discretização em x e y\n",
    "    * duracao : em segundos da simulacao da difusao\n",
    "    * lmbda : lambda predefido para garantir estabilidade numérica \n",
    "    igual à 0.04175 baseado no item 1\n",
    "    * save : numero de 'snapshots' para salvar  \n",
    "    \n",
    "    O numero de iteracoes é calculado baseado na duracao\n",
    "    \"\"\"\n",
    "    cdef double lmbda=0.04175\n",
    "    #cdef double k = 0.835 #K alumínio = 1/alfa^2\n",
    "    #cdef double ds = 10./(N-1) # 10 cm / N-1 pontos discretização espaço \n",
    "    # \"paineis\" com temperatura da placa em tn e tn+1 (derivada primeira 1 painel necessario)\n",
    "    T = np.empty((N, N), dtype=np.float64)    \n",
    "    kernel = np.array([[0, 1, 0],[1, -4, 1],[0, 1, 0]], dtype=np.float64) # diferenciador convolucional   \n",
    "    # condições de contorno iniciais no tempo 0 \n",
    "    # extremidades da placa \n",
    "    T[:,  0] = 100. # esquerda \n",
    "    T[:, -1] = 50. # direita\n",
    "    # topo e base da placa assumindo temperatura = 0\n",
    "    cdef int n\n",
    "    cdef int i, j\n",
    "    for n in range(niter): # marcha\n",
    "        # calcula tn+1 em funcao de f(tn) \n",
    "        for i in range(1, N-1):\n",
    "            for j in range(1, N-1):\n",
    "                T[i, j] = lmbda*(T[i+1, j]-4*T[i, j]+T[i-1, j]+T[i, j+1]+T[i, j-1]) + T[i, j] "
   ]
  },
  {
   "cell_type": "code",
   "execution_count": null,
   "metadata": {},
   "outputs": [],
   "source": [
    "cythonrodarSimulacao"
   ]
  },
  {
   "cell_type": "markdown",
   "metadata": {},
   "source": [
    "## CUDA Pytorch"
   ]
  },
  {
   "cell_type": "code",
   "execution_count": 34,
   "metadata": {},
   "outputs": [],
   "source": [
    "import torch as th\n",
    "import torch.nn.functional as F\n",
    "import numpy as np\n",
    "\n",
    "th.set_num_threads(8)\n",
    "\n",
    "def rodarSimulacaoPytorch(N, niter, dt, save=10, lmbda=0.04175):\n",
    "    \"\"\"\n",
    "    * N : numero de pontos discretização em x e y\n",
    "    * duracao : em segundos da simulacao da difusao\n",
    "    * lmbda : lambda predefido para garantir estabilidade numérica \n",
    "    igual à 0.04175 baseado no item 1\n",
    "    * save : numero de 'snapshots' para salvar  \n",
    "\n",
    "    O numero de iteracoes é calculado baseado na duracao\n",
    "    \"\"\"\n",
    "    k = 0.835 #K alumínio = 1/alfa^2\n",
    "    ds = 10./(N-1) # 10 cm / N-1 pontos discretização espaço \n",
    "    tplaca = np.zeros((N, N)) # temperatura da placa em tn e tn+1 : \n",
    "    # condições de contorno iniciais no tempo 0 \n",
    "    # extremidades da placa \n",
    "    tplaca[:,  0] = 100. # esquerda \n",
    "    tplaca[:, -1] = 50. # direita\n",
    "    # topo e base da placa assumindo temperatura = 0\n",
    "    kernel = np.array([[0, 1, 0],[1, -4, 1],[0, 1, 0]]) # diferenciador convolucional        \n",
    "    nsave = int(niter/save) # step de iteracoes para salvar 'snapshot'\n",
    "    snapshots = np.zeros((save+1, N, N)) # 'filme' das iteracoes\n",
    "    isnap = 0 # indice para salvar 'snapshots' das iteracoes        \n",
    "\n",
    "    # pytorch wrapping\n",
    "    kernel = th.tensor(kernel, dtype=th.float32)\n",
    "    kernel = kernel.unsqueeze(0).unsqueeze(0)     # pytorch format for conv2d\n",
    "    tplaca = th.tensor(tplaca, dtype=th.float32)\n",
    "    tplaca = tplaca.unsqueeze(0).unsqueeze(0)  \n",
    "    snapshots = th.tensor(snapshots, dtype=th.float32)\n",
    "\n",
    "    # send to cuda \n",
    "    #     kernel = kernel.to(\"cuda\")\n",
    "    #     tplace = tplace.to(\"cuda\")\n",
    "    #     snapshots = snapshots.to(\"cuda\")\n",
    "\n",
    "    for n in range(niter): # marcha\n",
    "        # calcula tn+1 em funcao de f(tn) \n",
    "        tplaca[0, 0, 1:-1, 1:-1] = lmbda*F.conv2d(tplaca, kernel) + tplaca[0, 0, 1:-1, 1:-1]\n",
    "\n",
    "        if n%nsave==0:\n",
    "            snapshots[isnap] = tplaca.squeeze(0).squeeze(0)\n",
    "            isnap += 1 # p/ próximo 'frame' do 'filme'\n",
    "\n",
    "    # imprime um resumo de alguns parâmetros\n",
    "    #print('Dt: {:.3g} numero de Iteracoes: {:5d} '.format(dt, niter))\n",
    "\n",
    "    # salva o último\n",
    "    snapshots[-1] = tplaca.squeeze(0).squeeze(0)\n",
    "    # retorna o 'filme' de snapshots, e o intervalo em x    \n",
    "    return snapshots, ds"
   ]
  },
  {
   "cell_type": "markdown",
   "metadata": {},
   "source": [
    "## Comparação para diferentes valores de NxN (grid da placa)\n"
   ]
  },
  {
   "cell_type": "markdown",
   "metadata": {},
   "source": [
    "**Numero de iterações 10 dt = 0.1 **"
   ]
  },
  {
   "cell_type": "code",
   "execution_count": 35,
   "metadata": {},
   "outputs": [],
   "source": [
    "# !x,y,t,nsnap\n",
    "# !dx,dy,dt\n",
    "# !alfa,Tesq,Tdir,Tsup,Tinf\n",
    "#r\"\"\"1000 1000 200 9\n",
    "#2 2 0.1\n",
    "#0.835 100.0 200.0 100.0 200.0\n",
    "#\"\"\""
   ]
  },
  {
   "cell_type": "markdown",
   "metadata": {},
   "source": [
    "# 3 Algoritmos \n",
    "\n",
    "## 1. Fortran  \n",
    "## 2. Python Naive 2D  \n",
    "## 3. Python Tweek 1D  \n",
    "## 4. Pytorch Cuda"
   ]
  },
  {
   "cell_type": "code",
   "execution_count": 36,
   "metadata": {},
   "outputs": [],
   "source": [
    "from subprocess import call\n",
    "import time\n",
    "\n",
    "## fortran loop\n",
    "def fortran(N):\n",
    "    N=N*2 # devido ao dx=2    \n",
    "    command = \"{:} {:} 10 9\\n 2 2 0.1\\n0.835 100.0 200.0 100.0 200.0\".format(N,N)\n",
    "    with open('in.txt','w') as f:\n",
    "        f.write(command)\n",
    "    call('./calor2d.bin', shell=True)\n",
    "    \n",
    "## Python Cru mais simples convolução 2D\n",
    "def pythonraw(N):\n",
    "    rodarSimulacao(N, 100, 0.1)\n",
    "\n",
    "## Python convolução 1D a little tweek\n",
    "def pythonconv1d(N):\n",
    "    convolution1d(N, N, 100, 0.1)\n",
    "\n",
    "## Cython convolucao 2D\n",
    "def pythontorch(N):\n",
    "    rodarSimulacaoPytorch(N, 100, 0.1)    \n",
    "    \n",
    "# chama funcao com parâmetro N\n",
    "def callfunc(func, N):    \n",
    "    start = time.time()\n",
    "    func(N)\n",
    "    end = time.time()    \n",
    "    return end-start"
   ]
  },
  {
   "cell_type": "code",
   "execution_count": 37,
   "metadata": {},
   "outputs": [
    {
     "name": "stdout",
     "output_type": "stream",
     "text": [
      "/home/andre/PycharmProjects/master/calor2D\n"
     ]
    }
   ],
   "source": [
    "cd /home/andre/PycharmProjects/master/calor2D/"
   ]
  },
  {
   "cell_type": "markdown",
   "metadata": {},
   "source": [
    "### Plota comparação"
   ]
  },
  {
   "cell_type": "code",
   "execution_count": 38,
   "metadata": {},
   "outputs": [],
   "source": [
    "nxn = list(range(300, 6000, 100))"
   ]
  },
  {
   "cell_type": "code",
   "execution_count": 39,
   "metadata": {},
   "outputs": [
    {
     "name": "stdout",
     "output_type": "stream",
     "text": [
      "0\n",
      "1\n",
      "2\n",
      "3\n",
      "4\n",
      "5\n",
      "6\n",
      "7\n",
      "8\n",
      "9\n",
      "10\n",
      "11\n",
      "12\n",
      "13\n",
      "14\n",
      "15\n",
      "16\n",
      "17\n",
      "18\n",
      "19\n",
      "20\n",
      "21\n",
      "22\n",
      "23\n",
      "24\n",
      "25\n",
      "26\n",
      "27\n",
      "28\n",
      "29\n",
      "30\n",
      "31\n",
      "32\n",
      "33\n",
      "34\n",
      "35\n",
      "36\n",
      "37\n",
      "38\n",
      "39\n",
      "40\n",
      "41\n",
      "42\n",
      "43\n",
      "44\n",
      "45\n",
      "46\n",
      "47\n",
      "48\n",
      "49\n",
      "50\n",
      "51\n",
      "52\n",
      "53\n",
      "54\n",
      "55\n",
      "56\n"
     ]
    }
   ],
   "source": [
    "pynaive = []\n",
    "py1d = []\n",
    "fort = []\n",
    "pytorch = []\n",
    "for i, N in enumerate(nxn):\n",
    "    pynaive.append(callfunc(pythonraw, N))\n",
    "    py1d.append(callfunc(pythonconv1d, N))\n",
    "    fort.append(callfunc(fortran, N))\n",
    "    pytorch.append(callfunc(pythontorch, N))\n",
    "    print(i)"
   ]
  },
  {
   "cell_type": "code",
   "execution_count": 40,
   "metadata": {},
   "outputs": [],
   "source": [
    "%matplotlib inline"
   ]
  },
  {
   "cell_type": "code",
   "execution_count": 41,
   "metadata": {},
   "outputs": [],
   "source": [
    "from matplotlib import pyplot as plt"
   ]
  },
  {
   "cell_type": "code",
   "execution_count": 43,
   "metadata": {},
   "outputs": [
    {
     "data": {
      "text/plain": [
       "<matplotlib.legend.Legend at 0x7fdb488d7f98>"
      ]
     },
     "execution_count": 43,
     "metadata": {},
     "output_type": "execute_result"
    },
    {
     "data": {
      "image/png": "[encoded data removed]",
      "text/plain": [
       "<Figure size 1080x360 with 1 Axes>"
      ]
     },
     "metadata": {},
     "output_type": "display_data"
    }
   ],
   "source": [
    "plt.figure(figsize=(15,5))\n",
    "plt.plot(nxn, pynaive, '.r')\n",
    "plt.plot(nxn, pynaive, '-r', label='pynaive')\n",
    "plt.plot(nxn, py1d, '.g')\n",
    "plt.plot(nxn, py1d, '-g', label='py1d')\n",
    "plt.plot(nxn, fort, '.b')\n",
    "plt.plot(nxn, fort, '-b', label='fortran')\n",
    "plt.plot(nxn, pytorch, '.b')\n",
    "plt.plot(nxn, pytorch, '-k', label='torch')\n",
    "plt.ylabel('tempo execucao (segundos)')\n",
    "plt.xlabel('numero pontos grid (N)')\n",
    "plt.legend()\n",
    "#plt.xlim(0, 1000)\n",
    "#plt.ylim(0, 5)"
   ]
  },
  {
   "cell_type": "code",
   "execution_count": null,
   "metadata": {},
   "outputs": [],
   "source": [
    "%load_ext Cython\n",
    "\n",
    "#%%cython\n",
    "#import cython\n",
    "#@cython.boundscheck(False)\n",
    "#@cython.wraparound(False)"
   ]
  }
 ],
 "metadata": {
  "kernelspec": {
   "display_name": "Python 3",
   "language": "python",
   "name": "python3"
  },
  "language_info": {
   "codemirror_mode": {
    "name": "ipython",
    "version": 3
   },
   "file_extension": ".py",
   "mimetype": "text/x-python",
   "name": "python",
   "nbconvert_exporter": "python",
   "pygments_lexer": "ipython3",
   "version": "3.6.5"
  }
 },
 "nbformat": 4,
 "nbformat_minor": 2
}
