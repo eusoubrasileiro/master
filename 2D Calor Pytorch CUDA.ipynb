{
 "cells": [
  {
   "cell_type": "markdown",
   "metadata": {},
   "source": [
    "# Implementação em CUDA Pytorch Difusão de Calor 2D"
   ]
  },
  {
   "cell_type": "code",
   "execution_count": 9,
   "metadata": {},
   "outputs": [],
   "source": [
    "import torch as th\n",
    "import torch.nn.functional as F\n",
    "import numpy as np\n",
    "\n",
    "th.set_num_threads(8)\n",
    "\n",
    "def rodarSimulacaoPytorch(N, niter, dt, save=10, lmbda=0.04175):\n",
    "    \"\"\"\n",
    "    * N : numero de pontos discretização em x e y\n",
    "    * duracao : em segundos da simulacao da difusao\n",
    "    * lmbda : lambda predefido para garantir estabilidade numérica \n",
    "    igual à 0.04175 baseado no item 1\n",
    "    * save : numero de 'snapshots' para salvar  \n",
    "\n",
    "    O numero de iteracoes é calculado baseado na duracao\n",
    "    \"\"\"\n",
    "    k = 0.835 #K alumínio = 1/alfa^2\n",
    "    ds = 10./(N-1) # 10 cm / N-1 pontos discretização espaço \n",
    "    tplaca = np.zeros((N, N)) # temperatura da placa em tn e tn+1 : \n",
    "    # condições de contorno iniciais no tempo 0 \n",
    "    # extremidades da placa \n",
    "    tplaca[:,  0] = 100. # esquerda \n",
    "    tplaca[:, -1] = 50. # direita\n",
    "    # topo e base da placa assumindo temperatura = 0\n",
    "    kernel = np.array([[0, 1, 0],[1, -4, 1],[0, 1, 0]]) # diferenciador convolucional        \n",
    "    nsave = int(niter/save) # step de iteracoes para salvar 'snapshot'\n",
    "    snapshots = np.zeros((save+1, N, N)) # 'filme' das iteracoes\n",
    "    isnap = 0 # indice para salvar 'snapshots' das iteracoes        \n",
    "\n",
    "    # pytorch wrapping\n",
    "    kernel = th.tensor(kernel, dtype=th.float32)\n",
    "    kernel = kernel.unsqueeze(0).unsqueeze(0)     # pytorch format for conv2d\n",
    "    tplaca = th.tensor(tplaca, dtype=th.float32)\n",
    "    tplaca = tplaca.unsqueeze(0).unsqueeze(0)  \n",
    "    snapshots = th.tensor(snapshots, dtype=th.float32)\n",
    "\n",
    "    # send to cuda \n",
    "    #     kernel = kernel.to(\"cuda\")\n",
    "    #     tplace = tplace.to(\"cuda\")\n",
    "    #     snapshots = snapshots.to(\"cuda\")\n",
    "\n",
    "    for n in range(niter): # marcha\n",
    "        # calcula tn+1 em funcao de f(tn) \n",
    "        tplaca[0, 0, 1:-1, 1:-1] = lmbda*F.conv2d(tplaca, kernel) + tplaca[0, 0, 1:-1, 1:-1]\n",
    "\n",
    "        if n%nsave==0:\n",
    "            snapshots[isnap] = tplaca.squeeze(0).squeeze(0)\n",
    "            isnap += 1 # p/ próximo 'frame' do 'filme'\n",
    "\n",
    "    # imprime um resumo de alguns parâmetros\n",
    "    #print('Dt: {:.3g} numero de Iteracoes: {:5d} '.format(dt, niter))\n",
    "\n",
    "    # salva o último\n",
    "    snapshots[-1] = tplaca.squeeze(0).squeeze(0)\n",
    "    # retorna o 'filme' de snapshots, e o intervalo em x    \n",
    "    return snapshots, ds"
   ]
  },
  {
   "cell_type": "code",
   "execution_count": 11,
   "metadata": {},
   "outputs": [
    {
     "name": "stdout",
     "output_type": "stream",
     "text": [
      "CPU times: user 2min 48s, sys: 19.6 s, total: 3min 7s\n",
      "Wall time: 24.4 s\n"
     ]
    }
   ],
   "source": [
    "%%time\n",
    "snapshots, ds = rodarSimulacao(1000, 1000, 0.1)"
   ]
  },
  {
   "cell_type": "code",
   "execution_count": 55,
   "metadata": {},
   "outputs": [],
   "source": [
    "snapshots = snapshots.data.numpy()"
   ]
  },
  {
   "cell_type": "code",
   "execution_count": 56,
   "metadata": {},
   "outputs": [],
   "source": [
    "%matplotlib inline"
   ]
  },
  {
   "cell_type": "code",
   "execution_count": 57,
   "metadata": {},
   "outputs": [],
   "source": [
    "from matplotlib import pyplot as plt"
   ]
  },
  {
   "cell_type": "code",
   "execution_count": 59,
   "metadata": {},
   "outputs": [
    {
     "data": {
      "text/plain": [
       "11"
      ]
     },
     "execution_count": 59,
     "metadata": {},
     "output_type": "execute_result"
    }
   ],
   "source": [
    "len(snapshots)"
   ]
  },
  {
   "cell_type": "code",
   "execution_count": 61,
   "metadata": {},
   "outputs": [
    {
     "data": {
      "text/plain": [
       "<matplotlib.image.AxesImage at 0x7fc0f595e1d0>"
      ]
     },
     "execution_count": 61,
     "metadata": {},
     "output_type": "execute_result"
    },
    {
     "data": {
      "image/png": "[encoded data removed]",
      "text/plain": [
       "<Figure size 1080x360 with 1 Axes>"
      ]
     },
     "metadata": {},
     "output_type": "display_data"
    }
   ],
   "source": [
    "plt.figure(figsize=(15,5))\n",
    "plt.imshow(snapshots[10])"
   ]
  },
  {
   "cell_type": "code",
   "execution_count": null,
   "metadata": {},
   "outputs": [],
   "source": []
  },
  {
   "cell_type": "code",
   "execution_count": null,
   "metadata": {},
   "outputs": [],
   "source": []
  },
  {
   "cell_type": "code",
   "execution_count": null,
   "metadata": {},
   "outputs": [],
   "source": []
  },
  {
   "cell_type": "code",
   "execution_count": null,
   "metadata": {},
   "outputs": [],
   "source": []
  },
  {
   "cell_type": "code",
   "execution_count": null,
   "metadata": {},
   "outputs": [],
   "source": []
  }
 ],
 "metadata": {
  "kernelspec": {
   "display_name": "Python 3",
   "language": "python",
   "name": "python3"
  },
  "language_info": {
   "codemirror_mode": {
    "name": "ipython",
    "version": 3
   },
   "file_extension": ".py",
   "mimetype": "text/x-python",
   "name": "python",
   "nbconvert_exporter": "python",
   "pygments_lexer": "ipython3",
   "version": "3.6.5"
  }
 },
 "nbformat": 4,
 "nbformat_minor": 2
}
