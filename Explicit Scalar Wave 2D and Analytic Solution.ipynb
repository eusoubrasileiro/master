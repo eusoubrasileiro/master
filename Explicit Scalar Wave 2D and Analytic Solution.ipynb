{
 "cells": [
  {
   "cell_type": "markdown",
   "metadata": {},
   "source": [
    "### ANALYTIC SOLUTION FOR SCALAR WAVE 2D FREE SPACE \n",
    "\n",
    "Based on Alford 1974 Geophysics. \n",
    "\"ACCURACY OF FINITE-DIFFERENCE MODELING OF THE ACOUSTIC WAVE EQUATION\"\n",
    "\n",
    "Using cylindrical coordinates for a free a space medium homogeneous of velocity **$v$**. If the observer is at a **$\\rho$** distance from the source. The analytical solution is written from the frequency domain solution as:\n",
    "\n",
    "$$\n",
    "U(\\rho, t) = \\frac{1}{2\\pi}\\int_{-\\inf}^{+\\inf}-F(\\omega) i\\pi H^{(2)}_{0}(k\\rho)\n",
    "$$\n",
    "\n",
    "where $F(\\omega)$ is the fourier transform of the source\n",
    "function $f(t)$\n",
    "\n",
    "$H^{(2)}$ is the second Hankel function of order 0\n",
    "\n",
    "and $k = \\omega/v $\n",
    "\n",
    "To avoid and diminish numerical errors we can use a source with analytical fourier transform known \n",
    "\n",
    "For simplicity on above equation we can use a simple Gauss Pulse:\n",
    "\n",
    "$$ f(t) = te^{-\\alpha t^2} $$ \n",
    "\n",
    "and its Fourier Transform $F(\\omega)$ (note: in Alford's paper it was a bit different, I trust this one from Wolfram)\n",
    "\n",
    "$$ F(\\omega) = \\frac{i\\omega}{2\\sqrt{2} \\alpha^{\\frac{3}{2}}}e^{-\\left(\\frac{\\omega^2}{4\\alpha}\\right)}\n",
    "$$\n",
    "\n",
    "So simplifying the first one we get:"
   ]
  },
  {
   "cell_type": "markdown",
   "metadata": {},
   "source": [
    "$$ U(\\rho, t) = -i\\pi H^{(2)}_{0}(k\\rho_s)  \\frac{i\\omega}{2\\sqrt{2} \\alpha^{\\frac{3}{2}}}e^{-\\left(\\frac{\\omega^2}{4\\alpha}\\right)} $$"
   ]
  },
  {
   "cell_type": "markdown",
   "metadata": {},
   "source": [
    "$$ U(\\rho, t) =  H^{(2)}_{0}(k\\rho_s)  \\frac{\\omega\\pi}{2\\sqrt{2} \\alpha^{\\frac{3}{2}}}e^{-\\left(\\frac{\\omega^2}{4\\alpha}\\right)} $$"
   ]
  },
  {
   "cell_type": "markdown",
   "metadata": {},
   "source": [
    "### Using partially analytical solution in frequency domain Ricker Wavelet ###\n",
    "\n",
    "\n",
    "The wavelet is created in time then fourier transformed to frequency to apply<br/> \n",
    "the analytical solution and then apply back the inverse fourier transform to get it back to time"
   ]
  },
  {
   "cell_type": "markdown",
   "metadata": {},
   "source": [
    "It's recommended to use the partially time / partially frequency analytical solution implementation.\n",
    "\n",
    "Then you are able to compare and check how reliable is your F.D. using the error curve. "
   ]
  },
  {
   "cell_type": "code",
   "execution_count": 1,
   "metadata": {},
   "outputs": [],
   "source": [
    "%matplotlib inline"
   ]
  },
  {
   "cell_type": "code",
   "execution_count": 2,
   "metadata": {},
   "outputs": [],
   "source": [
    "from matplotlib import pyplot as plt\n",
    "import matplotlib.animation\n",
    "import matplotlib\n",
    "import numpy as np\n",
    "from numba import njit, prange"
   ]
  },
  {
   "cell_type": "code",
   "execution_count": 13,
   "metadata": {},
   "outputs": [],
   "source": [
    "def wave2d_analytic(rho, c, dt, source):\n",
    "    \"\"\"\n",
    "    Analytic solution wave equation 2D for free space.\n",
    "    Assume that source is at rho=0\n",
    "    Do not evaluate at zero, solution not real!\n",
    "    * rho : float\n",
    "        distance to the source function\n",
    "    * c : float\n",
    "        velocity\n",
    "    * dt : float\n",
    "        sample rate for time source and analytical solution\n",
    "    * source : 1D array\n",
    "        source function in time\n",
    "    References:\n",
    "    Alford, R. M., Kelly, K. R., Boore, D. M. (1974) Accuracy of\n",
    "    finite-difference modeling of the acoustic wave equation.\n",
    "    Geophysics, 39(06), 834-842\n",
    "    \"\"\"\n",
    "    n = source.size\n",
    "    if rho/c > dt*n:  # make enough time for final solution\n",
    "        newn = (rho/c)/dt + 16\n",
    "        source = signal.resample(source, newn)\n",
    "        n = newn\n",
    "    # omega (2pi*f) increment for each omega that will be sampled\n",
    "    ws = numpy.pi*2*numpy.arange(0, (1./dt), (1./dt)/n)\n",
    "    # all k's = w/c in omega/frequency domain to evaluate the solution\n",
    "    ks = ws/c\n",
    "    # hankel filter kernel\n",
    "    hankel = -1j*numpy.pi*hankel2(0, ks*rho)\n",
    "    hankel[0] = 1j  # i infinity in limit\n",
    "    sw = numpy.fft.fft(source)  # just go to frequency\n",
    "    return numpy.real(numpy.fft.ifft(hankel*sw))\n",
    "\n",
    "\n",
    "def wedge_cylindrical(rho, phi, rho_s, phi_s, c, source, dt):\n",
    "    \"\"\"\n",
    "    Analytic solution equation (3) paper Alford et. al. cylindrical coordinates\n",
    "    for \\rho (observation point) smaller equal \\rho_s (source point)\n",
    "    (look figure 1. in paper)\n",
    "    90 degrees wedge model cylindrical coordinates\n",
    "    \n",
    "    R.M. Alford - Accuracy of Finite-Difference Modeling\n",
    "    rho - radius from center position of observation point\n",
    "    phi - angle in radians position of observation point\n",
    "    rho_s - radius from center position of source function\n",
    "    phi_s - angle in radians position of source function\n",
    "    c - velocity    \n",
    "    source - source fuction sampled in time\n",
    "    dt - sample rate from source function in time\n",
    "    \"\"\"\n",
    "    N = len(source)\n",
    "    dw = numpy.pi*2*(1./dt)/N # omega increment for each omega that will be sampled \n",
    "    ks = numpy.array([(p*dw/c) for p in xrange(N)]) # all k's = w/c in omega/frequency domain to evaluate the solution\n",
    "    \n",
    "    # serie aproximation just 100 first terms\n",
    "    serie = numpy.zeros(N) +1j * numpy.zeros(N)\n",
    "    for n in xrange(1,100):\n",
    "        tmp = jn(2*n/3, ks*rho)*hankel2(2*n/3,ks*rho_s)*numpy.sin(2*n*phi_s/3)*numpy.sin(2*n*phi/3)\n",
    "        tmp[0] = 0. # bessel and hankel undefined in 0\n",
    "        serie += tmp    \n",
    "    \n",
    "    sourcew = numpy.fft.fft(source) # source in the frequency domain    \n",
    "    return numpy.real(numpy.fft.ifft(numpy.complex(0, -8*numpy.pi/3) * sourcew * serie))"
   ]
  },
  {
   "cell_type": "code",
   "execution_count": 4,
   "metadata": {},
   "outputs": [],
   "source": [
    "@njit(parallel=True)\n",
    "def stepScalar(u_tp1, u_t, u_tm1, c, x1, x2, z1, z2, dx, dz, dt):\n",
    "    \"\"\"\n",
    "    Perform a single time step in the Finite Difference solution for scalar\n",
    "    waves 4th order in space\n",
    "    \"\"\"    \n",
    "    cdz = (dt/dz)**2\n",
    "    cdx = (dt/dx)**2\n",
    "\n",
    "    for i in prange(z1, z2):\n",
    "        for j in prange(x1, x2):\n",
    "            u_tp1[i,j] = (2.*u_t[i,j] - u_tm1[i,j]\n",
    "                + (c[i,j]**2)*(\n",
    "                    cdx*(-u_t[i,j + 2] + 16.*u_t[i,j + 1] - 30.*u_t[i,j] +\n",
    "                    16.*u_t[i,j - 1] - u_t[i,j - 2])/12. +\n",
    "                    cdz*(-u_t[i + 2,j] + 16.*u_t[i + 1,j] - 30.*u_t[i,j] +\n",
    "                    16.*u_t[i - 1,j] - u_t[i - 2,j])/12.))    \n",
    "            \n",
    "@njit(parallel=True)\n",
    "def nonreflexive2nd(u_tp1, u_t, u_tm1, c, nx, nz, dx, dz, dt):\n",
    "    \"\"\"\n",
    "    Apply the boundary conditions: free-surface at top, transparent in the borders\n",
    "    4th order (+2-2) indexes\n",
    "    Uses Reynolds, A. C. - Boundary conditions for numerical solution of wave propagation problems\n",
    "    Geophysics p 1099-1110 - 1978\n",
    "    We apply 1D reynolds at -2/-1 and +2/+1 respectively\n",
    "    \"\"\"\n",
    "    for i in range(nz):\n",
    "        # left\n",
    "        for p in range(2):\n",
    "                u_tp1[i, p] = ( u_t[i, p] + u_t[i, p+1] - u_tm1[i,p+1] +\n",
    "                (c[i, p]*dt/dx)*(u_t[i, p+1] - u_t[i, p] - u_tm1[i, p+2] + u_tm1[i, p+1])\n",
    "                )\n",
    "        #right\n",
    "        for p in range(2):\n",
    "            p = 1-p            \n",
    "            u_tp1[i, nx-2+p] = ( u_t[i, nx-2+p] + u_t[i, nx-3+p] - u_tm1[i, nx-3+p] -\n",
    "                (c[i, nx-2+p]*dt/dx)*(u_t[i, nx-2+p] - u_t[i, nx-3+p] - u_tm1[i, nx-3+p] + u_tm1[i, nx-4+p])\n",
    "                )\n",
    "    # Down\n",
    "    for i in range(nx):\n",
    "        for p in range(2):\n",
    "            p = 1-p\n",
    "            u_tp1[nz-2+p, i] = ( u_t[nz-2+p, i] + u_t[nz-3+p, i] - u_tm1[nz-3+p, i] -\n",
    "                    (c[nz-2+p, i]*dt/dz)*(u_t[nz-2+p, i] - u_t[nz-3+p, i] - u_tm1[nz-3+p, i] + u_tm1[nz-4+p, i])\n",
    "                    )\n",
    "        # Up\n",
    "        for p in range(2):            \n",
    "            u_tp1[p, i] = ( u_t[p, i] + u_t[p+1, i] - u_tm1[p+1, i] +\n",
    "                    (c[p, i]*dt/dz)*(u_t[p+1, i] - u_t[p, i] - u_tm1[p+2, i] + u_tm1[p+1, i])\n",
    "                    )\n",
    "            \n",
    "@njit(parallel=True)\n",
    "def applyDamping(array, nx, nz, pad, decay):\n",
    "    \"\"\"\n",
    "    Apply a decay factor to the values of the array in the padding region.\n",
    "    \"\"\"\n",
    "    # Damping on the left\n",
    "    for i in prange(nz):\n",
    "        for j in range(pad):\n",
    "            array[i,j] *= np.exp(-((decay*(pad - j))**2))\n",
    "    # Damping on the right\n",
    "    for i in prange(nz):\n",
    "        for j in range(nx - pad, nx):\n",
    "            array[i,j] *= np.exp(-((decay*(j - nx + pad))**2))\n",
    "    # Damping on the bottom\n",
    "    for i in prange(nz - pad, nz): # down\n",
    "        for j in range(nx):\n",
    "            array[i,j] *= np.exp(-((decay*(i - nz + pad))**2))\n",
    "    # Damping up\n",
    "    for i in prange(pad): # down\n",
    "        for j in range(nx): # left-right\n",
    "            array[i,j] *= np.exp(-((decay*(pad - i))**2))"
   ]
  },
  {
   "cell_type": "code",
   "execution_count": 5,
   "metadata": {},
   "outputs": [],
   "source": [
    "@njit\n",
    "def ricker(t, td, f):\n",
    "    \"\"\"amplitude unitária\"\"\"\n",
    "    t = (t - td)\n",
    "    aux = (1 - 2*(np.pi*f*t)**2)\n",
    "    return aux*np.exp(-(np.pi*f*t)**2)\n",
    "\n",
    "def params(fcut, c):\n",
    "    \"\"\"\n",
    "    A partir da frequencia máxima na fonte `fcut` e do \n",
    "    campo de velocidades `c` calcula:\n",
    "    ds, f central, t delay, dt time step\n",
    "    \"\"\"    \n",
    "    # fcut máxima frequência na fonte\n",
    "    f = 2*fcut/(3*np.sqrt(np.pi)) # f central\n",
    "    td = 2*np.sqrt(np.pi)/fcut # time delay    \n",
    "    lmin = np.min(c)/fcut # lambda min\n",
    "    ds = lmin/5. # espaçamento grid evitar alias espacial \"na lata\"\n",
    "    dt = (1-1e-4)*ds*np.sqrt(3)/(np.sqrt(8)*np.max(c))  # \"quaaase\" no limite (menor erro)\n",
    "    return ds, f, td, dt\n"
   ]
  },
  {
   "cell_type": "code",
   "execution_count": 6,
   "metadata": {},
   "outputs": [],
   "source": [
    "@njit\n",
    "def runSimulation(params):\n",
    "    ds, dt, c, nx, nz, nt, npad, sz, sx, td, f = params\n",
    "    p = np.zeros((2, nz, nx)) # n e n+1 ou n-1\n",
    "    snaps = np.zeros((nt, nz, nx))\n",
    "    for i in range(nt):\n",
    "        # para evitar um painel a mais : pilha de paineis \n",
    "        t, tm1 = i%2, (i+1)%2\n",
    "        tp1 = tm1  \n",
    "\n",
    "        nonreflexive2nd(p[tp1], p[t], p[tm1], c, nx, nz, ds, ds, dt)\n",
    "        stepScalar(p[tp1], p[t], p[tm1], c, 2, nx-2, 2, nz-2, ds, ds, dt)\n",
    "\n",
    "        applyDamping(p[tm1], nx, nz, npad, 0.004)\n",
    "        applyDamping(p[t], nx, nz, npad, 0.004)  \n",
    "        \n",
    "        p[tp1, sz, sx] -= ((c[sz, sx]*dt)**2)*ricker(i*dt, td, f)  \n",
    "        # simulation snapshots array            \n",
    "        snaps[i, :] = p[t]    \n",
    "    return snaps"
   ]
  },
  {
   "cell_type": "code",
   "execution_count": 7,
   "metadata": {},
   "outputs": [
    {
     "name": "stdout",
     "output_type": "stream",
     "text": [
      "Ds (m): 1.3 f.center (Hz): 11.3 delay (ms) : 118.2  dt (ms): 4.1   nt: 734 \n"
     ]
    }
   ],
   "source": [
    "# Set the parameters of the finite difference grid\n",
    "vshape = (200, 200)\n",
    "ds = 12.5 # spacing\n",
    "area = [0, vshape[0]*ds, 0, vshape[1]*ds]\n",
    "# Set the parameters of the finite difference grid\n",
    "velocity = np.ones(vshape)*200\n",
    "velocity[100:,100:] = 0.\n",
    "\n",
    "npad = 40 # abs region\n",
    "# padd velocity model with border values\n",
    "padvelocity = np.pad(velocity, [npad+2*2, npad+2*2],  mode='edge')\n",
    "nz, nx = padvelocity.shape\n",
    "\n",
    "# Alford adapted by André\n",
    "xs, zs = 140, 80 # source\n",
    "\n",
    "# receivers\n",
    "xa, za = 110, 90 # A - delta 7 - epsilon 2\n",
    "xb, zb = 80, 80 # mirrored source positon to left\n",
    "xc, zc = 80, 90 # difraction\n",
    "receivers = [ [za, xa], [zb, xb], [zc, xc] ]\n",
    "offset = np.array([npad+2, npad+2]) # index offset due abs borders\n",
    "receivers = np.array(receivers)+offset\n",
    "source = np.array([zs, xs]) + offset\n",
    "\n",
    "# simulation params\n",
    "ds, f, td, dt = params(30., np.ones(1)*200.)\n",
    "maxt = 3.000\n",
    "nt = int(maxt/dt)\n",
    "        \n",
    "print('Ds (m): {:4<.1f} f.center (Hz): {:<4.1f} ' \\\n",
    "      'delay (ms) : {:<4.1f}  dt (ms): {:<4.1f}  nt: {:<4d}'.format(\n",
    "                    ds, f, td*1000, dt*1000, nt))"
   ]
  },
  {
   "cell_type": "markdown",
   "metadata": {},
   "source": [
    "### Run simulation using Alford's  layout"
   ]
  },
  {
   "cell_type": "code",
   "execution_count": 8,
   "metadata": {},
   "outputs": [],
   "source": [
    "snaps = runSimulation((ds, dt, padvelocity, nx, nz, nt, npad, source[0], source[1], td, f))"
   ]
  },
  {
   "cell_type": "markdown",
   "metadata": {},
   "source": [
    "### Source and Receivers Layout\n",
    "\n",
    "- star - source\n",
    "- triangle - receiver"
   ]
  },
  {
   "cell_type": "markdown",
   "metadata": {},
   "source": [
    "### One simulation Snap-shot"
   ]
  },
  {
   "cell_type": "code",
   "execution_count": 9,
   "metadata": {},
   "outputs": [
    {
     "data": {
      "text/plain": [
       "[<matplotlib.lines.Line2D at 0xb7efba8>]"
      ]
     },
     "execution_count": 9,
     "metadata": {},
     "output_type": "execute_result"
    },
    {
     "data": {
      "image/png": "[encoded data removed]",
      "text/plain": [
       "<Figure size 360x360 with 1 Axes>"
      ]
     },
     "metadata": {
      "needs_background": "light"
     },
     "output_type": "display_data"
    }
   ],
   "source": [
    "vmin_ = np.percentile(snaps[45, :], 99.9)\n",
    "plt.figure(figsize=(5,5))\n",
    "plt.imshow(padvelocity, aspect='auto')\n",
    "plt.imshow(snaps[150, :], cmap='gray', alpha=0.99, vmin=-vmin_, vmax=vmin_)\n",
    "plt.plot(receivers[0,1], receivers[0,0], 'b^', markersize=8, alpha=.9)\n",
    "plt.plot(receivers[1,1], receivers[1,0], 'g^', markersize=8, alpha=.9)\n",
    "plt.plot(receivers[2,1], receivers[2,0], 'r^', markersize=8, alpha=.9)\n",
    "plt.plot(source[1], source[0], '*y', markersize=15) \n",
    "#plt.xlim((npad+2+85, 115+npad+2));\n",
    "#plt.ylim((115+npad+2, npad+2+85));"
   ]
  },
  {
   "cell_type": "markdown",
   "metadata": {},
   "source": [
    "### Get source used in simulation"
   ]
  },
  {
   "cell_type": "code",
   "execution_count": 10,
   "metadata": {},
   "outputs": [],
   "source": [
    "t_ricker = ricker(np.arange(nt)*dt, td, f)  "
   ]
  },
  {
   "cell_type": "markdown",
   "metadata": {},
   "source": [
    "### Calculate source-receiver distances "
   ]
  },
  {
   "cell_type": "code",
   "execution_count": 11,
   "metadata": {},
   "outputs": [],
   "source": [
    "distances = np.sqrt(np.sum((receivers-source)**2, axis=1))"
   ]
  },
  {
   "cell_type": "code",
   "execution_count": 12,
   "metadata": {},
   "outputs": [
    {
     "data": {
      "image/png": "[encoded data removed]",
      "text/plain": [
       "<Figure size 432x288 with 1 Axes>"
      ]
     },
     "metadata": {
      "needs_background": "light"
     },
     "output_type": "display_data"
    },
    {
     "data": {
      "image/png": "[encoded data removed]",
      "text/plain": [
       "<Figure size 432x288 with 1 Axes>"
      ]
     },
     "metadata": {
      "needs_background": "light"
     },
     "output_type": "display_data"
    },
    {
     "data": {
      "image/png": "[encoded data removed]",
      "text/plain": [
       "<Figure size 432x288 with 1 Axes>"
      ]
     },
     "metadata": {
      "needs_background": "light"
     },
     "output_type": "display_data"
    },
    {
     "data": {
      "text/plain": [
       "<Figure size 432x288 with 0 Axes>"
      ]
     },
     "metadata": {},
     "output_type": "display_data"
    }
   ],
   "source": [
    "for i, receiver in enumerate(receivers):\n",
    "    distance = distances[i]\n",
    "    analytic = wave2d_analytic(distance, 200, dt, t_ricker)\n",
    "    real = snaps[:, receiver[0], receiver[1]]\n",
    "    real = (real-np.min(real))/(np.max(real)-np.min(real))\n",
    "    analytic = (analytic-np.min(analytic))/(np.max(analytic)-np.min(analytic))\n",
    "    real -= np.mean(real)\n",
    "    analytic -= np.mean(analytic)\n",
    "    plt.plot(analytic, '-+r', lw=0.5)\n",
    "    plt.plot(real, '-+b', lw=0.5)\n",
    "    plt.xlim(0, 200)\n",
    "    plt.figure()"
   ]
  },
  {
   "cell_type": "code",
   "execution_count": null,
   "metadata": {},
   "outputs": [],
   "source": []
  }
 ],
 "metadata": {
  "kernelspec": {
   "display_name": "Python 3",
   "language": "python",
   "name": "python3"
  },
  "language_info": {
   "codemirror_mode": {
    "name": "ipython",
    "version": 3
   },
   "file_extension": ".py",
   "mimetype": "text/x-python",
   "name": "python",
   "nbconvert_exporter": "python",
   "pygments_lexer": "ipython3",
   "version": "3.6.6"
  }
 },
 "nbformat": 4,
 "nbformat_minor": 1
}
