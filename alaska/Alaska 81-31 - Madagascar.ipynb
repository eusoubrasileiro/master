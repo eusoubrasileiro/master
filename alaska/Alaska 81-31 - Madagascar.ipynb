{
 "cells": [
  {
   "cell_type": "code",
   "execution_count": 3,
   "metadata": {},
   "outputs": [
    {
     "name": "stdout",
     "output_type": "stream",
     "text": [
      "/home/andre/Projects/master/alaska/field_segy\n"
     ]
    }
   ],
   "source": [
    "cd field_segy"
   ]
  },
  {
   "cell_type": "code",
   "execution_count": 2,
   "metadata": {},
   "outputs": [
    {
     "name": "stdout",
     "output_type": "stream",
     "text": [
      "N\bNA\bAM\bME\bE\r\n",
      "\tsfsegyread\r\n",
      "D\bDE\bES\bSC\bCR\bRI\bIP\bPT\bTI\bIO\bON\bN\r\n",
      "\tConvert a SEG-Y or SU dataset to RSF.\r\n",
      "S\bSY\bYN\bNO\bOP\bPS\bSI\bIS\bS\r\n",
      "\tsfsegyread mask=msk.rsf > out.rsf tfile=hdr.rsf verb=n su= suxdr=n endian=y n2=0 format= ns=0 tape= hfile= bfile= read=\r\n",
      "C\bCO\bOM\bMM\bME\bEN\bNT\bTS\bS\r\n",
      "\t\r\n",
      "\tData headers and trace headers are separated from the data.\r\n",
      "\t\r\n",
      "\t\"suread\" is equivalent to \"segyread su=y\"\r\n",
      "\t\r\n",
      "\t\r\n",
      "\tSEGY key names:\r\n",
      "\t\r\n",
      "\ttracl: trace sequence number within line 0\r\n",
      "\t\r\n",
      "\ttracr: trace sequence number within reel 4\r\n",
      "\t\r\n",
      "\tfldr:     field record number 8 \r\n",
      "\t\r\n",
      "\ttracf:    trace number within field record 12 \r\n",
      "\t\r\n",
      "\tep:       energy source point number 16 \r\n",
      "\t\r\n",
      "\tcdp:      CDP ensemble number 20 \r\n",
      "\t\r\n",
      "\tcdpt:     trace number within CDP ensemble 24 \r\n",
      "\t\r\n",
      "\ttrid:     trace identification code:\r\n",
      "\t1 = seismic data\r\n",
      "\t2 = dead\r\n",
      "\t3 = dummy\r\n",
      "\t4 = time break\r\n",
      "\t5 = uphole\r\n",
      "\t6 = sweep\r\n",
      "\t7 = timing\r\n",
      "\t8 = water break\r\n",
      "\t9---, N = optional use (N = 32,767) 28 \r\n",
      "\t\r\n",
      "\tnvs:      number of vertically summed traces 30 \r\n",
      "\t\r\n",
      "\tnhs:      number of horizontally summed traces 32 \r\n",
      "\t\r\n",
      "\tduse:     data use:\r\n",
      "\t1 = production\r\n",
      "\t2 = test 34\r\n",
      "\t\r\n",
      "\toffset:   distance from source point to receiver\r\n",
      "\tgroup (negative if opposite to direction\r\n",
      "\tin which the line was shot) 36 \r\n",
      "\t\r\n",
      "\tgelev:    receiver group elevation from sea level\r\n",
      "\t(above sea level is positive) 40 \r\n",
      "\t\r\n",
      "\tselev:    source elevation from sea level\r\n",
      "\t(above sea level is positive) 44 \r\n",
      "\t\r\n",
      "\tsdepth:   source depth (positive) 48 \r\n",
      "\t\r\n",
      "\tgdel:     datum elevation at receiver group 52 \r\n",
      "\t\r\n",
      "\tsdel:     datum elevation at source 56 \r\n",
      "\t\r\n",
      "\tswdep:    water depth at source 60 \r\n",
      "\t\r\n",
      "\tgwdep:    water depth at receiver group 64 \r\n",
      "\t\r\n",
      "\tscalel:   scale factor for previous 7 entries\r\n",
      "\twith value plus or minus 10 to the\r\n",
      "\tpower 0, 1, 2, 3, or 4 (if positive,\r\n",
      "\tmultiply, if negative divide) 68 \r\n",
      "\t\r\n",
      "\tscalco:   scale factor for next 4 entries\r\n",
      "\twith value plus or minus 10 to the\r\n",
      "\tpower 0, 1, 2, 3, or 4 (if positive,\r\n",
      "\tmultiply, if negative divide) 70 \r\n",
      "\t\r\n",
      "\tsx:       X source coordinate 72 \r\n",
      "\t\r\n",
      "\tsy:       Y source coordinate 76 \r\n",
      "\t\r\n",
      "\tgx:       X group coordinate 80 \r\n",
      "\t\r\n",
      "\tgy:       Y group coordinate 84 \r\n",
      "\t\r\n",
      "\tcounit:   coordinate units code:\r\n",
      "\tfor previous four entries\r\n",
      "\t1 = length (meters or feet)\r\n",
      "\t2 = seconds of arc (in this case, the\r\n",
      "\tX values are unsigned longitude and the Y values\r\n",
      "\tare latitude, a positive value designates\r\n",
      "\tthe number of seconds east of Greenwich\r\n",
      "\tor north of the equator 88 \r\n",
      "\t\r\n",
      "\twevel:     weathering velocity 90 \r\n",
      "\t\r\n",
      "\tswevel:    subweathering velocity 92 \r\n",
      "\t\r\n",
      "\tsut:       uphole time at source 94 \r\n",
      "\t\r\n",
      "\tgut:       uphole time at receiver group 96 \r\n",
      "\t\r\n",
      "\tsstat:     source static correction 98 \r\n",
      "\t\r\n",
      "\tgstat:     group static correction 100 \r\n",
      "\t\r\n",
      "\ttstat:     total static applied 102 \r\n",
      "\t\r\n",
      "\tlaga:      lag time A, time in ms between end of 240-\r\n",
      "\tbyte trace identification header and time\r\n",
      "\tbreak, positive if time break occurs after\r\n",
      "\tend of header, time break is defined as\r\n",
      "\tthe initiation pulse which maybe recorded\r\n",
      "\ton an auxiliary trace or as otherwise\r\n",
      "\tspecified by the recording system 104 \r\n",
      "\t\r\n",
      "\tlagb:      lag time B, time in ms between the time\r\n",
      "\tbreak and the initiation time of the energy source,\r\n",
      "\tmay be positive or negative 106 \r\n",
      "\t\r\n",
      "\tdelrt:     delay recording time, time in ms between\r\n",
      "\tinitiation time of energy source and time\r\n",
      "\twhen recording of data samples begins\r\n",
      "\t(for deep water work if recording does not\r\n",
      "\tstart at zero time) 108 \r\n",
      "\t\r\n",
      "\tmuts:      mute time--start 110 \r\n",
      "\t\r\n",
      "\tmute:      mute time--end 112 \r\n",
      "\t\r\n",
      "\tns:        number of samples in this trace 114 \r\n",
      "\t\r\n",
      "\tdt:        sample interval, in micro-seconds 116 \r\n",
      "\t\r\n",
      "\tgain:      gain type of field instruments code:\r\n",
      "\t1 = fixed\r\n",
      "\t2 = binary\r\n",
      "\t3 = floating point\r\n",
      "\t4 ---- N = optional use 118 \r\n",
      "\t\r\n",
      "\tigc:       instrument gain constant 120 \r\n",
      "\t\r\n",
      "\tigi:       instrument early or initial gain 122 \r\n",
      "\t\r\n",
      "\tcorr:      correlated:\r\n",
      "\t1 = no\r\n",
      "\t2 = yes 124\r\n",
      "\t\r\n",
      "\tsfs:       sweep frequency at start 126 \r\n",
      "\t\r\n",
      "\tsfe:       sweep frequency at end 128 \r\n",
      "\t\r\n",
      "\tslen:      sweep length in ms 130 \r\n",
      "\t\r\n",
      "\tstyp:      sweep type code:\r\n",
      "\t1 = linear\r\n",
      "\t2 = cos-squared\r\n",
      "\t3 = other 132\r\n",
      "\t\r\n",
      "\tstas:      sweep trace length at start in ms 134 \r\n",
      "\t\r\n",
      "\tstae:      sweep trace length at end in ms 136 \r\n",
      "\t\r\n",
      "\ttatyp:     taper type: 1=linear, 2=cos^2, 3=other 138 \r\n",
      "\t\r\n",
      "\tafilf:     alias filter frequency if used 140 \r\n",
      "\t\r\n",
      "\tafils:     alias filter slope 142 \r\n",
      "\t\r\n",
      "\tnofilf:    notch filter frequency if used 144 \r\n",
      "\t\r\n",
      "\tnofils:    notch filter slope 146 \r\n",
      "\t\r\n",
      "\tlcf:       low cut frequency if used 148 \r\n",
      "\t\r\n",
      "\thcf:       high cut frequncy if used 150 \r\n",
      "\t\r\n",
      "\tlcs:       low cut slope 152 \r\n",
      "\t\r\n",
      "\thcs:       high cut slope 154 \r\n",
      "\t\r\n",
      "\tyear:      year data recorded 156 \r\n",
      "\t\r\n",
      "\tday:       day of year 158 \r\n",
      "\t\r\n",
      "\thour:      hour of day (24 hour clock) 160 \r\n",
      "\t\r\n",
      "\tminute:    minute of hour 162 \r\n",
      "\t\r\n",
      "\tsec:       second of minute 164 \r\n",
      "\t\r\n",
      "\ttimbas:    time basis code:\r\n",
      "\t1 = local\r\n",
      "\t2 = GMT\r\n",
      "\t3 = other 166\r\n",
      "\t\r\n",
      "\ttrwf:      trace weighting factor, defined as 1/2^N\r\n",
      "\tvolts for the least sigificant bit 168 \r\n",
      "\t\r\n",
      "\tgrnors:    geophone group number of roll switch\r\n",
      "\tposition one 170\r\n",
      "\t\r\n",
      "\tgrnofr:    geophone group number of trace one within\r\n",
      "\toriginal field record 172\r\n",
      "\t\r\n",
      "\tgrnlof:    geophone group number of last trace within\r\n",
      "\toriginal field record 174\r\n",
      "\t\r\n",
      "\tgaps:      gap size (total number of groups dropped) 176 \r\n",
      "\t\r\n",
      "\totrav:     overtravel taper code: \r\n",
      "\t1 = down (or behind)\r\n",
      "\t2 = up (or ahead) 178\r\n",
      "\t\r\n",
      "\tcdpx:   X coordinate of CDP 180\r\n",
      "\t\r\n",
      "\tcdpy:   Y coordinate of CDP 184\r\n",
      "\t\r\n",
      "\tiline:  in-line number 188 \r\n",
      "\t\r\n",
      "\txline:  cross-line number 192\r\n",
      "\t\r\n",
      "\tshnum:  shotpoint number 196\r\n",
      "\t\r\n",
      "\tshsca:  shotpoint scalar 200\r\n",
      "\t\r\n",
      "\ttval:   trace value meas. 202\r\n",
      "\t\r\n",
      "\ttconst4: transduction const 204\r\n",
      "\t\r\n",
      "\ttconst2: transduction const 208\r\n",
      "\t\r\n",
      "\ttunits:  transduction units 210\r\n",
      "\t\r\n",
      "\tdevice:  device identifier 212\r\n",
      "\t\r\n",
      "\ttscalar: time scalar 214\r\n",
      "\t\r\n",
      "\tstype:   source type 216\r\n",
      "\t\r\n",
      "\tsendir:  source energy dir. 218\r\n",
      "\t\r\n",
      "\tunknown: unknown 222\r\n",
      "\t\r\n",
      "\tsmeas4:  source measurement 224\r\n",
      "\t\r\n",
      "\tsmeas2:  source measurement 228\r\n",
      "\t\r\n",
      "\tsmeasu:  source measurement unit 230 \r\n",
      "\t\r\n",
      "\tunass1:  unassigned 232\r\n",
      "\t\r\n",
      "\tunass2:  unassigned 236\r\n",
      "\t\r\n",
      "\tadditional keys can be created in the output trace headers\r\n",
      "\tThe parameters key1, key2, ... key# are used to additional keys.   \r\n",
      "\tThe keys must be unique and different from the SEGY key names above.\r\n",
      "\tThe input header byte location and lengths must also be defined.  \r\n",
      "\tThis capability is described in an example that defines a new keys \r\n",
      "\tiline1 from byte 220 and xline1 from byte 224:\r\n",
      "\t\t  key1=iline1 iline1=220 key1_len=4 \\ \r\n",
      "\tkey2=xline1 xline1=224 key2_len=4 \\\r\n",
      "\t\r\n",
      "\tkey#_len defaults to 4\r\n",
      "\t\r\n",
      "P\bPA\bAR\bRA\bAM\bME\bET\bTE\bER\bRS\bS\r\n",
      "\ts\b_t\b_r\b_i\b_n\b_g\b_ \b_ b\bbf\bfi\bil\ble\be=\b= \toutput binary data header file \r\n",
      "\tb\b_o\b_o\b_l\b_ \b_ \b_ \b_ e\ben\bnd\bdi\bia\ban\bn=\b=y\by [y/n]\tWhether to automatically estimate endianness or not \r\n",
      "\ti\b_n\b_t\b_ \b_ \b_ \b_ \b_ f\bfo\bor\brm\bma\bat\bt=\b= [1,2,3,5]\tData format. \r\n",
      "\t           The default is taken from binary header for segy input.\r\n",
      "\t\t   Default is 5 for su input.\r\n",
      "\t\t   1 is IBM floating point\r\n",
      "\t\t   2 is 4-byte integer\r\n",
      "\t\t   3 is 2-byte integer\r\n",
      "\t\t   5 is IEEE floating point\r\n",
      "\t           6 is native_float (same as RSF binary default)\r\n",
      "\t\t\r\n",
      "\ts\b_t\b_r\b_i\b_n\b_g\b_ \b_ h\bhf\bfi\bil\ble\be=\b= \toutput text data header file \r\n",
      "\ts\b_t\b_r\b_i\b_n\b_g\b_ \b_ m\bma\bas\bsk\bk=\b= \toptional header mask for reading only selected traces (auxiliary input file name)\r\n",
      "\ti\b_n\b_t\b_ \b_ \b_ \b_ \b_ n\bn2\b2=\b=0\b0 \tnumber of traces to read (if 0, read all traces) \r\n",
      "\ti\b_n\b_t\b_ \b_ \b_ \b_ \b_ n\bns\bs=\b=0\b0 \tNumber of samples. The default is taken from binary header \r\n",
      "\ts\b_t\b_r\b_i\b_n\b_g\b_ \b_ r\bre\bea\bad\bd=\b= \twhat to read: h - header, d - data, b - both (default) \r\n",
      "\tb\b_o\b_o\b_l\b_ \b_ \b_ \b_ s\bsu\bu=\b= [y/n]\ty if input is SU, n if input is SEGY \r\n",
      "\tb\b_o\b_o\b_l\b_ \b_ \b_ \b_ s\bsu\bux\bxd\bdr\br=\b=n\bn [y/n]\ty, SU has XDR support.  \r\n",
      "\t           SU with xdr on (as downloaded), use endian=y suxdr=y\r\n",
      "\t           SU with xdr off in the makefiles, use endian=n suxdr=n   \r\n",
      "\t        \r\n",
      "\ts\b_t\b_r\b_i\b_n\b_g\b_ \b_ t\bta\bap\bpe\be=\b= \tinput data \r\n",
      "\ts\b_t\b_r\b_i\b_n\b_g\b_ \b_ t\btf\bfi\bil\ble\be=\b= \toutput trace header file (auxiliary output file name)\r\n",
      "\tb\b_o\b_o\b_l\b_ \b_ \b_ \b_ v\bve\ber\brb\bb=\b=n\bn [y/n]\tVerbosity flag\r\n",
      "U\bUS\bSE\bED\bD \b I\bIN\bN\r\n",
      "\tcwp/geo2006TimeShiftImagingCondition/zicig\r\n",
      "\tcwp/geo2007StereographicImagingCondition/sigsbee2\r\n",
      "\tcwp/geo2008InterferometricImagingCondition/sact1\r\n",
      "\tcwp/geo2008InterferometricImagingCondition/sigs2\r\n",
      "\tcwp/geo2008IsotropicAngleDomainElasticRTM/marm2allA\r\n",
      "\tcwp/geo2008IsotropicAngleDomainElasticRTM/marm2oneA\r\n",
      "\tcwp/geo2008NumericWEMVAoperators/saltWEMVA\r\n",
      "\tcwp/geo2009TTIModeSeparation/marmousi2\r\n",
      "\tcwp/geo2009VTIModeSeparation/sigsbee\r\n",
      "\tcwp/geo2011WideAzimuthAngleDecomposition/seam357\r\n",
      "\tcwp/jse2006RWEImagingOverturningReflections/sigsbee\r\n",
      "\tcwp/pept2011MicroearthquakeMonitoring/saf1\r\n",
      "\tcwp/pept2011MicroearthquakeMonitoring/saf2\r\n",
      "\tcwp/pept2011MicroearthquakeMonitoring/saf3\r\n",
      "\tdata/alaska/foldplot\r\n",
      "\tdata/alaska/line31-81-m8r\r\n",
      "\tdata/bptti/data\r\n",
      "\tdata/bptti/modl\r\n",
      "\tdata/freeusp/land\r\n",
      "\tdata/marmousi2/curl\r\n",
      "\tdata/marmousi2/div\r\n",
      "\tdata/marmousi2/fdMod\r\n",
      "\tdata/marmousi2/model\r\n",
      "\tdata/marmousi2/vx\r\n",
      "\tdata/marmousi2/vz\r\n",
      "\t134 more examples listed in:\r\n",
      "\t/home/andre/madagascar/share/doc/madagascar/html/sfsegyread.html\r\n",
      "S\bSO\bOU\bUR\bRC\bCE\bE\r\n",
      "\tsystem/seismic/Msegyread.c\r\n",
      "D\bDO\bOC\bCU\bUM\bME\bEN\bNT\bTA\bAT\bTI\bIO\bON\bN\r\n",
      "\th\b_t\b_t\b_p\b_:\b_/\b_/\b_a\b_h\b_a\b_y\b_.\b_o\b_r\b_g\b_/\b_w\b_i\b_k\b_i\b_/\b_G\b_u\b_i\b_d\b_e\b__\b_t\b_o\b__\b_m\b_a\b_d\b_a\b_g\b_a\b_s\b_c\b_a\b_r\b__\b_p\b_r\b_o\b_g\b_r\b_a\b_m\b_s\b_#\b_s\b_f\b_s\b_e\b_g\b_y\b_r\b_e\b_a\b_d\b_\r\n",
      "V\bVE\bER\bRS\bSI\bIO\bON\bN\r\n",
      "\t2.0\r\n"
     ]
    }
   ],
   "source": [
    "!sfsegyread"
   ]
  },
  {
   "cell_type": "markdown",
   "metadata": {},
   "source": [
    "### Read the 3 SEGY files converting to .rsf format"
   ]
  },
  {
   "cell_type": "code",
   "execution_count": 50,
   "metadata": {},
   "outputs": [],
   "source": [
    "!sfsegyread tape=L23535.SGY tfile=theaders1.rsf hfile=ascheader1.rsf > L81_31_1.rsf"
   ]
  },
  {
   "cell_type": "code",
   "execution_count": 18,
   "metadata": {},
   "outputs": [],
   "source": [
    "!sfsegyread tape=L23536.SGY tfile=theaders2.rsf hfile=ascheader2.rsf > L81_31_2.rsf"
   ]
  },
  {
   "cell_type": "code",
   "execution_count": 19,
   "metadata": {},
   "outputs": [],
   "source": [
    "!sfsegyread tape=L23537.SGY tfile=theaders3.rsf hfile=ascheader3.rsf > L81_31_3.rsf"
   ]
  },
  {
   "cell_type": "markdown",
   "metadata": {},
   "source": [
    "### QC all data is there?!"
   ]
  },
  {
   "cell_type": "code",
   "execution_count": 27,
   "metadata": {},
   "outputs": [
    {
     "name": "stdout",
     "output_type": "stream",
     "text": [
      "in:\r\n",
      "    in=\"/var/tmp/L81_31_1.rsf@\"\r\n",
      "    esize=4 type=float form=native \r\n",
      "    n1=3000        d1=0.002       o1=0          label1=\"Time\" unit1=\"s\" \r\n",
      "    n2=3030        d2=1           o2=0          label2=\"Trace\" \r\n",
      "\t9090000 elements 36360000 bytes\r\n"
     ]
    }
   ],
   "source": [
    "!sfin < L81_31_1.rsf"
   ]
  },
  {
   "cell_type": "code",
   "execution_count": 30,
   "metadata": {},
   "outputs": [
    {
     "name": "stdout",
     "output_type": "stream",
     "text": [
      "in:\r\n",
      "    in=\"/var/tmp/L81_31_2.rsf@\"\r\n",
      "    esize=4 type=float form=native \r\n",
      "    n1=3000        d1=0.002       o1=0          label1=\"Time\" unit1=\"s\" \r\n",
      "    n2=3030        d2=1           o2=0          label2=\"Trace\" \r\n",
      "\t9090000 elements 36360000 bytes\r\n"
     ]
    }
   ],
   "source": [
    "!sfin < L81_31_2.rsf"
   ]
  },
  {
   "cell_type": "code",
   "execution_count": 31,
   "metadata": {},
   "outputs": [
    {
     "name": "stdout",
     "output_type": "stream",
     "text": [
      "in:\r\n",
      "    in=\"/var/tmp/L81_31_3.rsf@\"\r\n",
      "    esize=4 type=float form=native \r\n",
      "    n1=3000        d1=0.002       o1=0          label1=\"Time\" unit1=\"s\" \r\n",
      "    n2=808         d2=1           o2=0          label2=\"Trace\" \r\n",
      "\t2424000 elements 9696000 bytes\r\n"
     ]
    }
   ],
   "source": [
    "!sfin < L81_31_3.rsf"
   ]
  },
  {
   "cell_type": "code",
   "execution_count": 33,
   "metadata": {},
   "outputs": [
    {
     "name": "stdout",
     "output_type": "stream",
     "text": [
      "in:\r\n",
      "    in=\"/var/tmp/theaders1.rsf@\"\r\n",
      "    esize=4 type=int form=native \r\n",
      "    n1=91          d1=?           o1=?          \r\n",
      "    n2=3030        d2=?           o2=?          \r\n",
      "\t275730 elements 1102920 bytes\r\n"
     ]
    }
   ],
   "source": [
    "!sfin < theaders1.rsf"
   ]
  },
  {
   "cell_type": "markdown",
   "metadata": {},
   "source": [
    "### Concat traces and trace headers unique RSF file with all data"
   ]
  },
  {
   "cell_type": "code",
   "execution_count": 28,
   "metadata": {
    "scrolled": true
   },
   "outputs": [],
   "source": [
    "!sfcat < L81_31_1.rsf L81_31_2.rsf L81_31_3.rsf axis=2 > L81_31.rsf"
   ]
  },
  {
   "cell_type": "code",
   "execution_count": 34,
   "metadata": {},
   "outputs": [],
   "source": [
    "!sfcat < theaders1.rsf theaders2.rsf theaders3.rsf axis=2 > theaders.rsf"
   ]
  },
  {
   "cell_type": "code",
   "execution_count": 35,
   "metadata": {},
   "outputs": [
    {
     "name": "stdout",
     "output_type": "stream",
     "text": [
      "in:\r\n",
      "    in=\"/var/tmp/L81_31.rsf@\"\r\n",
      "    esize=4 type=float form=native \r\n",
      "    n1=3000        d1=0.002       o1=0          label1=\"Time\" unit1=\"s\" \r\n",
      "    n2=6868        d2=1           o2=0          label2=\"Trace\" \r\n",
      "\t20604000 elements 82416000 bytes\r\n"
     ]
    }
   ],
   "source": [
    "!sfin < L81_31.rsf"
   ]
  },
  {
   "cell_type": "code",
   "execution_count": 36,
   "metadata": {},
   "outputs": [
    {
     "name": "stdout",
     "output_type": "stream",
     "text": [
      "in:\r\n",
      "    in=\"/var/tmp/theaders.rsf@\"\r\n",
      "    esize=4 type=int form=native \r\n",
      "    n1=91          d1=?           o1=?          \r\n",
      "    n2=6868        d2=?           o2=?          \r\n",
      "\t624988 elements 2499952 bytes\r\n"
     ]
    }
   ],
   "source": [
    "!sfin < theaders.rsf"
   ]
  },
  {
   "cell_type": "markdown",
   "metadata": {},
   "source": [
    "### Look at Trace headers"
   ]
  },
  {
   "cell_type": "markdown",
   "metadata": {},
   "source": [
    "- 91 non zero headers  \n",
    "- 68 fldr - ffid - shots  \n",
    "- 101 channels  \n",
    "- 3000 sample per trace  "
   ]
  },
  {
   "cell_type": "code",
   "execution_count": 51,
   "metadata": {
    "scrolled": true
   },
   "outputs": [
    {
     "name": "stdout",
     "output_type": "stream",
     "text": [
      "91 headers, 6868 traces\r\n",
      "******************************************************************************* \r\n",
      "     key     \t            min     \t              max    \t          mean\r\n",
      "------------------------------------------------------------------------------- \r\n",
      "tracl       0              1 @ 0\t          6868 @ 6867\t        3434.5\r\n",
      "tracr       1              1 @ 0\t          6868 @ 6867\t        3434.5\r\n",
      "fldr        2            101 @ 0\t           168 @ 6767\t         134.5\r\n",
      "tracf       3              1 @ 0\t           101 @ 100\t            51\r\n",
      "trid        7              1 @ 0\t             1 @ 0\t             1\r\n",
      "ns         38           3000 @ 0\t          3000 @ 0\t          3000\r\n",
      "dt         39           2000 @ 0\t          2000 @ 0\t          2000\r\n",
      "cdpy       72              1 @ 0\t            68 @ 6767\t          34.5\r\n",
      "******************************************************************************* \r\n"
     ]
    }
   ],
   "source": [
    "!sfheaderattr < theaders.rsf"
   ]
  },
  {
   "cell_type": "code",
   "execution_count": 15,
   "metadata": {},
   "outputs": [
    {
     "name": "stdout",
     "output_type": "stream",
     "text": [
      "in:\r\n",
      "    in=\"/var/tmp/L81_31.rsf@\"\r\n",
      "    esize=4 type=float form=native \r\n",
      "    n1=3000        d1=0.002       o1=0          label1=\"Time\" unit1=\"s\" \r\n",
      "    n2=6868        d2=1           o2=0          label2=\"Trace\" \r\n",
      "\t20604000 elements 82416000 bytes\r\n"
     ]
    }
   ],
   "source": [
    "!sfin < L81_31.rsf"
   ]
  },
  {
   "cell_type": "markdown",
   "metadata": {},
   "source": [
    "## Look at first 1500 traces\n",
    "\n",
    "first 10 shots are tests so are trash..."
   ]
  },
  {
   "cell_type": "code",
   "execution_count": 4,
   "metadata": {},
   "outputs": [
    {
     "name": "stdout",
     "output_type": "stream",
     "text": [
      "XIO:  fatal IO error 11 (Resource temporarily unavailable) on X server \":0\"\r",
      "\r\n",
      "      after 1029 requests (1029 known processed) with 0 events remaining.\r",
      "\r\n"
     ]
    }
   ],
   "source": [
    "!sfwindow < L81_31.rsf n2=1500 | sfagc | sfgrey  | sfpen "
   ]
  },
  {
   "cell_type": "code",
   "execution_count": null,
   "metadata": {},
   "outputs": [],
   "source": []
  }
 ],
 "metadata": {
  "kernelspec": {
   "display_name": "Python 2",
   "language": "python",
   "name": "python2"
  },
  "language_info": {
   "codemirror_mode": {
    "name": "ipython",
    "version": 2
   },
   "file_extension": ".py",
   "mimetype": "text/x-python",
   "name": "python",
   "nbconvert_exporter": "python",
   "pygments_lexer": "ipython2",
   "version": "2.7.13"
  }
 },
 "nbformat": 4,
 "nbformat_minor": 2
}
